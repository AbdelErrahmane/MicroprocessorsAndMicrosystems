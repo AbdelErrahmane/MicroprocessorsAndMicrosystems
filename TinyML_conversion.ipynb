{
 "cells": [
  {
   "cell_type": "code",
   "execution_count": 1,
   "metadata": {
    "scrolled": true
   },
   "outputs": [
    {
     "data": {
      "text/plain": [
       "(1000, 45)"
      ]
     },
     "execution_count": 1,
     "metadata": {},
     "output_type": "execute_result"
    }
   ],
   "source": [
    "import pandas as pd\n",
    "import warnings\n",
    "warnings.filterwarnings('ignore')\n",
    "\n",
    "ton_iot = pd.read_csv('NF-ToN-IoT-v2.csv', nrows=1000)\n",
    "\n",
    "ton_iot.shape"
   ]
  },
  {
   "cell_type": "code",
   "execution_count": 2,
   "metadata": {},
   "outputs": [
    {
     "data": {
      "text/plain": [
       "(1000, 45)"
      ]
     },
     "execution_count": 2,
     "metadata": {},
     "output_type": "execute_result"
    }
   ],
   "source": [
    "ton_iot.shape"
   ]
  },
  {
   "cell_type": "markdown",
   "metadata": {},
   "source": [
    "### Deletes features from "
   ]
  },
  {
   "cell_type": "code",
   "execution_count": 3,
   "metadata": {},
   "outputs": [],
   "source": [
    "categorical_feature = ['L4_SRC_PORT','L4_DST_PORT','IPV4_SRC_ADDR',\n",
    "                       'IPV4_DST_ADDR','PROTOCOL',\n",
    "                       'L7_PROTO','DNS_QUERY_TYPE','ICMP_TYPE'\n",
    "                        ,'ICMP_IPV4_TYPE','DNS_TTL_ANSWER']\n",
    "\n",
    "\n",
    "not_used = ['DNS_QUERY_ID','FTP_COMMAND_RET_CODE']\n",
    "\n",
    "tagets = ['Attack','Label']\n",
    "\n",
    "to_drop_corr_col = ['SERVER_TCP_FLAGS', 'MAX_TTL', 'MAX_IP_PKT_LEN', 'RETRANSMITTED_OUT_PKTS']\n",
    "\n",
    "to_drop_VIF = ['NUM_PKTS_1024_TO_1514_BYTES', 'CLIENT_TCP_FLAGS']\n",
    "\n",
    "#to_drop = categorical_feature+not_used+tagets + to_drop_corr_col + to_drop_VIF\n",
    "\n",
    "#X_Numerical = ton_iot.drop(columns=to_drop)\n",
    "\n",
    "to_drop = not_used+tagets + to_drop_corr_col + to_drop_VIF\n",
    "\n",
    "X = ton_iot.drop(columns=to_drop)\n"
   ]
  },
  {
   "cell_type": "code",
   "execution_count": 4,
   "metadata": {},
   "outputs": [],
   "source": [
    "X['SRC_TO_DST_SECOND_BYTES'] = X['SRC_TO_DST_SECOND_BYTES'].astype(int)\n",
    "X['DST_TO_SRC_SECOND_BYTES'] = X['DST_TO_SRC_SECOND_BYTES'].astype(int)\n",
    "\n",
    "y_b = ton_iot['Label']\n"
   ]
  },
  {
   "cell_type": "code",
   "execution_count": null,
   "metadata": {},
   "outputs": [],
   "source": []
  },
  {
   "cell_type": "code",
   "execution_count": 5,
   "metadata": {},
   "outputs": [
    {
     "data": {
      "text/plain": [
       "(1000, 35)"
      ]
     },
     "execution_count": 5,
     "metadata": {},
     "output_type": "execute_result"
    }
   ],
   "source": [
    "X.shape"
   ]
  },
  {
   "cell_type": "markdown",
   "metadata": {},
   "source": [
    "## Scaling of Numerical value using  quantile"
   ]
  },
  {
   "cell_type": "code",
   "execution_count": 6,
   "metadata": {},
   "outputs": [],
   "source": [
    "from sklearn.model_selection import train_test_split\n",
    "\n",
    "X_train, X, y_train, y_b = train_test_split(X, y_b, test_size=0.1, random_state=42)\n",
    "\n"
   ]
  },
  {
   "cell_type": "code",
   "execution_count": 7,
   "metadata": {},
   "outputs": [],
   "source": [
    "del ton_iot\n",
    "del X_train\n",
    "del y_train\n",
    "\n"
   ]
  },
  {
   "cell_type": "code",
   "execution_count": 8,
   "metadata": {},
   "outputs": [],
   "source": [
    "X = X.reset_index()\n",
    "y_b = y_b.reset_index()\n"
   ]
  },
  {
   "cell_type": "code",
   "execution_count": 9,
   "metadata": {},
   "outputs": [],
   "source": [
    "\n",
    "X = X.drop(columns='index')\n",
    "y_b = y_b.drop(columns='index')"
   ]
  },
  {
   "cell_type": "code",
   "execution_count": 10,
   "metadata": {},
   "outputs": [],
   "source": [
    "X_Numerical = X.drop(columns=categorical_feature)"
   ]
  },
  {
   "cell_type": "code",
   "execution_count": 11,
   "metadata": {},
   "outputs": [
    {
     "data": {
      "text/html": [
       "<div>\n",
       "<style scoped>\n",
       "    .dataframe tbody tr th:only-of-type {\n",
       "        vertical-align: middle;\n",
       "    }\n",
       "\n",
       "    .dataframe tbody tr th {\n",
       "        vertical-align: top;\n",
       "    }\n",
       "\n",
       "    .dataframe thead th {\n",
       "        text-align: right;\n",
       "    }\n",
       "</style>\n",
       "<table border=\"1\" class=\"dataframe\">\n",
       "  <thead>\n",
       "    <tr style=\"text-align: right;\">\n",
       "      <th></th>\n",
       "      <th>IN_BYTES</th>\n",
       "      <th>IN_PKTS</th>\n",
       "      <th>OUT_BYTES</th>\n",
       "      <th>OUT_PKTS</th>\n",
       "      <th>TCP_FLAGS</th>\n",
       "      <th>FLOW_DURATION_MILLISECONDS</th>\n",
       "      <th>DURATION_IN</th>\n",
       "      <th>DURATION_OUT</th>\n",
       "      <th>MIN_TTL</th>\n",
       "      <th>LONGEST_FLOW_PKT</th>\n",
       "      <th>...</th>\n",
       "      <th>RETRANSMITTED_IN_PKTS</th>\n",
       "      <th>RETRANSMITTED_OUT_BYTES</th>\n",
       "      <th>SRC_TO_DST_AVG_THROUGHPUT</th>\n",
       "      <th>DST_TO_SRC_AVG_THROUGHPUT</th>\n",
       "      <th>NUM_PKTS_UP_TO_128_BYTES</th>\n",
       "      <th>NUM_PKTS_128_TO_256_BYTES</th>\n",
       "      <th>NUM_PKTS_256_TO_512_BYTES</th>\n",
       "      <th>NUM_PKTS_512_TO_1024_BYTES</th>\n",
       "      <th>TCP_WIN_MAX_IN</th>\n",
       "      <th>TCP_WIN_MAX_OUT</th>\n",
       "    </tr>\n",
       "  </thead>\n",
       "  <tbody>\n",
       "    <tr>\n",
       "      <th>0</th>\n",
       "      <td>44</td>\n",
       "      <td>1</td>\n",
       "      <td>0</td>\n",
       "      <td>0</td>\n",
       "      <td>2</td>\n",
       "      <td>0</td>\n",
       "      <td>0</td>\n",
       "      <td>0</td>\n",
       "      <td>0</td>\n",
       "      <td>44</td>\n",
       "      <td>...</td>\n",
       "      <td>0</td>\n",
       "      <td>0</td>\n",
       "      <td>352000</td>\n",
       "      <td>0</td>\n",
       "      <td>1</td>\n",
       "      <td>0</td>\n",
       "      <td>0</td>\n",
       "      <td>0</td>\n",
       "      <td>1024</td>\n",
       "      <td>0</td>\n",
       "    </tr>\n",
       "    <tr>\n",
       "      <th>1</th>\n",
       "      <td>44</td>\n",
       "      <td>1</td>\n",
       "      <td>0</td>\n",
       "      <td>0</td>\n",
       "      <td>2</td>\n",
       "      <td>0</td>\n",
       "      <td>0</td>\n",
       "      <td>0</td>\n",
       "      <td>0</td>\n",
       "      <td>44</td>\n",
       "      <td>...</td>\n",
       "      <td>0</td>\n",
       "      <td>0</td>\n",
       "      <td>352000</td>\n",
       "      <td>0</td>\n",
       "      <td>1</td>\n",
       "      <td>0</td>\n",
       "      <td>0</td>\n",
       "      <td>0</td>\n",
       "      <td>1024</td>\n",
       "      <td>0</td>\n",
       "    </tr>\n",
       "    <tr>\n",
       "      <th>2</th>\n",
       "      <td>44</td>\n",
       "      <td>1</td>\n",
       "      <td>40</td>\n",
       "      <td>1</td>\n",
       "      <td>22</td>\n",
       "      <td>0</td>\n",
       "      <td>0</td>\n",
       "      <td>0</td>\n",
       "      <td>0</td>\n",
       "      <td>44</td>\n",
       "      <td>...</td>\n",
       "      <td>0</td>\n",
       "      <td>0</td>\n",
       "      <td>352000</td>\n",
       "      <td>320000</td>\n",
       "      <td>2</td>\n",
       "      <td>0</td>\n",
       "      <td>0</td>\n",
       "      <td>0</td>\n",
       "      <td>1024</td>\n",
       "      <td>0</td>\n",
       "    </tr>\n",
       "    <tr>\n",
       "      <th>3</th>\n",
       "      <td>44</td>\n",
       "      <td>1</td>\n",
       "      <td>0</td>\n",
       "      <td>0</td>\n",
       "      <td>2</td>\n",
       "      <td>0</td>\n",
       "      <td>0</td>\n",
       "      <td>0</td>\n",
       "      <td>0</td>\n",
       "      <td>44</td>\n",
       "      <td>...</td>\n",
       "      <td>0</td>\n",
       "      <td>0</td>\n",
       "      <td>352000</td>\n",
       "      <td>0</td>\n",
       "      <td>1</td>\n",
       "      <td>0</td>\n",
       "      <td>0</td>\n",
       "      <td>0</td>\n",
       "      <td>1024</td>\n",
       "      <td>0</td>\n",
       "    </tr>\n",
       "  </tbody>\n",
       "</table>\n",
       "<p>4 rows × 25 columns</p>\n",
       "</div>"
      ],
      "text/plain": [
       "   IN_BYTES  IN_PKTS  OUT_BYTES  OUT_PKTS  TCP_FLAGS  \\\n",
       "0        44        1          0         0          2   \n",
       "1        44        1          0         0          2   \n",
       "2        44        1         40         1         22   \n",
       "3        44        1          0         0          2   \n",
       "\n",
       "   FLOW_DURATION_MILLISECONDS  DURATION_IN  DURATION_OUT  MIN_TTL  \\\n",
       "0                           0            0             0        0   \n",
       "1                           0            0             0        0   \n",
       "2                           0            0             0        0   \n",
       "3                           0            0             0        0   \n",
       "\n",
       "   LONGEST_FLOW_PKT  ...  RETRANSMITTED_IN_PKTS  RETRANSMITTED_OUT_BYTES  \\\n",
       "0                44  ...                      0                        0   \n",
       "1                44  ...                      0                        0   \n",
       "2                44  ...                      0                        0   \n",
       "3                44  ...                      0                        0   \n",
       "\n",
       "   SRC_TO_DST_AVG_THROUGHPUT  DST_TO_SRC_AVG_THROUGHPUT  \\\n",
       "0                     352000                          0   \n",
       "1                     352000                          0   \n",
       "2                     352000                     320000   \n",
       "3                     352000                          0   \n",
       "\n",
       "   NUM_PKTS_UP_TO_128_BYTES  NUM_PKTS_128_TO_256_BYTES  \\\n",
       "0                         1                          0   \n",
       "1                         1                          0   \n",
       "2                         2                          0   \n",
       "3                         1                          0   \n",
       "\n",
       "   NUM_PKTS_256_TO_512_BYTES  NUM_PKTS_512_TO_1024_BYTES  TCP_WIN_MAX_IN  \\\n",
       "0                          0                           0            1024   \n",
       "1                          0                           0            1024   \n",
       "2                          0                           0            1024   \n",
       "3                          0                           0            1024   \n",
       "\n",
       "   TCP_WIN_MAX_OUT  \n",
       "0                0  \n",
       "1                0  \n",
       "2                0  \n",
       "3                0  \n",
       "\n",
       "[4 rows x 25 columns]"
      ]
     },
     "execution_count": 11,
     "metadata": {},
     "output_type": "execute_result"
    }
   ],
   "source": [
    "X_Numerical.head(4)"
   ]
  },
  {
   "cell_type": "code",
   "execution_count": 12,
   "metadata": {},
   "outputs": [],
   "source": [
    "from sklearn.preprocessing import StandardScaler\n",
    "\n",
    "scaler = StandardScaler()\n",
    "\n",
    "X_Numerical_sc = pd.DataFrame()\n",
    "\n",
    "scaler.fit(X_Numerical)\n",
    "\n",
    "X_Numerical_sc[X_Numerical.columns] = scaler.transform(X_Numerical)"
   ]
  },
  {
   "cell_type": "code",
   "execution_count": 13,
   "metadata": {},
   "outputs": [
    {
     "data": {
      "text/plain": [
       "(100, 25)"
      ]
     },
     "execution_count": 13,
     "metadata": {},
     "output_type": "execute_result"
    }
   ],
   "source": [
    "X_Numerical_sc.shape"
   ]
  },
  {
   "cell_type": "code",
   "execution_count": 14,
   "metadata": {},
   "outputs": [
    {
     "data": {
      "text/html": [
       "<div>\n",
       "<style scoped>\n",
       "    .dataframe tbody tr th:only-of-type {\n",
       "        vertical-align: middle;\n",
       "    }\n",
       "\n",
       "    .dataframe tbody tr th {\n",
       "        vertical-align: top;\n",
       "    }\n",
       "\n",
       "    .dataframe thead th {\n",
       "        text-align: right;\n",
       "    }\n",
       "</style>\n",
       "<table border=\"1\" class=\"dataframe\">\n",
       "  <thead>\n",
       "    <tr style=\"text-align: right;\">\n",
       "      <th></th>\n",
       "      <th>Label</th>\n",
       "    </tr>\n",
       "  </thead>\n",
       "  <tbody>\n",
       "    <tr>\n",
       "      <th>0</th>\n",
       "      <td>0</td>\n",
       "    </tr>\n",
       "    <tr>\n",
       "      <th>1</th>\n",
       "      <td>0</td>\n",
       "    </tr>\n",
       "  </tbody>\n",
       "</table>\n",
       "</div>"
      ],
      "text/plain": [
       "   Label\n",
       "0      0\n",
       "1      0"
      ]
     },
     "execution_count": 14,
     "metadata": {},
     "output_type": "execute_result"
    }
   ],
   "source": [
    "y_b.head(2)"
   ]
  },
  {
   "cell_type": "code",
   "execution_count": 15,
   "metadata": {},
   "outputs": [
    {
     "name": "stdout",
     "output_type": "stream",
     "text": [
      "Numerical\n",
      "20.0\n",
      "12.5\n",
      "5.0\n",
      "categorical\n",
      "8.0\n",
      "5.0\n",
      "2.0\n"
     ]
    }
   ],
   "source": [
    "print('Numerical')\n",
    "print(25*0.8)\n",
    "print(25*0.5)\n",
    "print(25*0.2)\n",
    "print('categorical')\n",
    "print(10*0.8)\n",
    "print(10*0.5)\n",
    "print(10*0.2)"
   ]
  },
  {
   "cell_type": "raw",
   "metadata": {},
   "source": [
    "y_b = ton_iot['Label']\n",
    "\n",
    "y_multi =  ton_iot['Attack']\n",
    "print(y_b.value_counts())\n",
    "print(y_multi.value_counts())"
   ]
  },
  {
   "cell_type": "code",
   "execution_count": null,
   "metadata": {},
   "outputs": [],
   "source": []
  },
  {
   "cell_type": "markdown",
   "metadata": {},
   "source": [
    "## Scale data"
   ]
  },
  {
   "cell_type": "code",
   "execution_count": 16,
   "metadata": {},
   "outputs": [],
   "source": [
    "from sklearn.feature_selection import f_classif, SelectKBest\n",
    "\n",
    "sb = SelectKBest(f_classif, k=5)\n",
    "sb.fit(X_Numerical_sc,y_b)\n",
    "col_anova_20 = sb.get_feature_names_out()\n",
    "\n",
    "##########################\n",
    "sb = SelectKBest(f_classif, k=10)\n",
    "sb.fit(X_Numerical_sc,y_b)\n",
    "col_anova_40 = sb.get_feature_names_out()\n",
    "\n",
    "##########################\n",
    "sb = SelectKBest(f_classif, k=15)\n",
    "sb.fit(X_Numerical_sc,y_b)\n",
    "col_anova_60 = sb.get_feature_names_out()"
   ]
  },
  {
   "cell_type": "code",
   "execution_count": 17,
   "metadata": {},
   "outputs": [
    {
     "data": {
      "text/plain": [
       "array([False,  True,  True,  True,  True, False, False, False,  True,\n",
       "        True, False, False, False,  True, False, False, False,  True,\n",
       "        True,  True,  True,  True,  True,  True,  True])"
      ]
     },
     "execution_count": 17,
     "metadata": {},
     "output_type": "execute_result"
    }
   ],
   "source": [
    "sb.get_support()"
   ]
  },
  {
   "cell_type": "code",
   "execution_count": 18,
   "metadata": {},
   "outputs": [],
   "source": [
    "X_A_20 = X_Numerical_sc[col_anova_20]\n",
    "X_A_40 = X_Numerical_sc[col_anova_40]\n",
    "X_A_60 = X_Numerical_sc[col_anova_60]"
   ]
  },
  {
   "cell_type": "code",
   "execution_count": null,
   "metadata": {},
   "outputs": [],
   "source": []
  },
  {
   "cell_type": "code",
   "execution_count": null,
   "metadata": {},
   "outputs": [],
   "source": []
  },
  {
   "cell_type": "code",
   "execution_count": 19,
   "metadata": {},
   "outputs": [],
   "source": [
    "X_cat = X[categorical_feature]"
   ]
  },
  {
   "cell_type": "code",
   "execution_count": null,
   "metadata": {},
   "outputs": [],
   "source": []
  },
  {
   "cell_type": "markdown",
   "metadata": {},
   "source": [
    "# Optimize the features"
   ]
  },
  {
   "cell_type": "markdown",
   "metadata": {},
   "source": [
    "### L4_SRC_PORT & L4_DST_PORT"
   ]
  },
  {
   "cell_type": "markdown",
   "metadata": {},
   "source": [
    "Ports with numbers 0–1023 are called system or well-known ports; ports with numbers 1024-49151 are called user or registered ports, and ports with numbers 49152-65535 are called dynamic, private or ephemeral ports.[2] Both system and user ports are used by transport protocols (TCP, UDP, DCCP, SCTP) to identify an application or service."
   ]
  },
  {
   "cell_type": "code",
   "execution_count": 20,
   "metadata": {},
   "outputs": [],
   "source": [
    "well_known_port = list(range(1024))\n",
    "registered_ports = list(range(1024,49152))\n",
    "ephemeral_ports = list(range(49152,65535))"
   ]
  },
  {
   "cell_type": "code",
   "execution_count": 21,
   "metadata": {},
   "outputs": [
    {
     "name": "stdout",
     "output_type": "stream",
     "text": [
      "(100, 10)\n"
     ]
    }
   ],
   "source": [
    "X_cat['L4_SRC_PORT_C'] = 'Others'\n",
    "X_cat['L4_SRC_PORT_C'][X_cat['L4_SRC_PORT'].isin(well_known_port)] = 'well_known_port'\n",
    "X_cat['L4_SRC_PORT_C'][X_cat['L4_SRC_PORT'].isin(registered_ports)] = 'registered_ports'\n",
    "X_cat['L4_SRC_PORT_C'][X_cat['L4_SRC_PORT'].isin(ephemeral_ports)] = 'ephemeral_ports'\n",
    "\n",
    "X_cat.drop(columns=['L4_SRC_PORT'],inplace=True)\n",
    "\n",
    "X_cat['L4_SRC_PORT_C'].value_counts()\n",
    "\n",
    "print(X_cat.shape)"
   ]
  },
  {
   "cell_type": "code",
   "execution_count": null,
   "metadata": {},
   "outputs": [],
   "source": []
  },
  {
   "cell_type": "code",
   "execution_count": 22,
   "metadata": {},
   "outputs": [
    {
     "data": {
      "text/plain": [
       "registered_ports    80\n",
       "well_known_port     16\n",
       "ephemeral_ports      4\n",
       "Name: L4_DST_PORT_C, dtype: int64"
      ]
     },
     "execution_count": 22,
     "metadata": {},
     "output_type": "execute_result"
    }
   ],
   "source": [
    "X_cat['L4_DST_PORT_C'] = 'Others'\n",
    "X_cat['L4_DST_PORT_C'][X_cat['L4_DST_PORT'].isin(well_known_port)] = 'well_known_port'\n",
    "X_cat['L4_DST_PORT_C'][X_cat['L4_DST_PORT'].isin(registered_ports)] = 'registered_ports'\n",
    "X_cat['L4_DST_PORT_C'][X_cat['L4_DST_PORT'].isin(ephemeral_ports)] = 'ephemeral_ports'\n",
    "\n",
    "X_cat.drop(columns=['L4_DST_PORT'],inplace=True)\n",
    "X_cat['L4_DST_PORT_C'].value_counts()\n"
   ]
  },
  {
   "cell_type": "markdown",
   "metadata": {},
   "source": [
    "#### Removerd features are :\n",
    "\n",
    "to_drop_zero = ['RETRANSMITTED_IN_BYTES','RETRANSMITTED_IN_PKTS','RETRANSMITTED_OUT_BYTES','FTP_COMMAND_RET_CODE','ICMP_TYPE','DNS_TTL_ANSWER']\n",
    "&&\n",
    "\n",
    "['SERVER_TCP_FLAGS', 'MAX_TTL', 'MAX_IP_PKT_LEN', 'RETRANSMITTED_OUT_PKTS', 'ICMP_IPV4_TYPE']"
   ]
  },
  {
   "cell_type": "markdown",
   "metadata": {},
   "source": [
    "## DNS"
   ]
  },
  {
   "cell_type": "raw",
   "metadata": {},
   "source": [
    "DNS type"
   ]
  },
  {
   "cell_type": "code",
   "execution_count": 23,
   "metadata": {},
   "outputs": [
    {
     "data": {
      "text/plain": [
       "0    98\n",
       "1     2\n",
       "Name: DNS_QUERY_TYPE, dtype: int64"
      ]
     },
     "execution_count": 23,
     "metadata": {},
     "output_type": "execute_result"
    }
   ],
   "source": [
    "X_cat['DNS_QUERY_TYPE'] = X_cat['DNS_QUERY_TYPE'].astype('O')\n",
    "list_proto = [0,1,2,12]\n",
    "X_cat['DNS_QUERY_TYPE'][~X_cat['DNS_QUERY_TYPE'].isin(list_proto)] = 'Other'\n",
    "X_cat['DNS_QUERY_TYPE'].value_counts()"
   ]
  },
  {
   "cell_type": "raw",
   "metadata": {},
   "source": [
    "### TCP"
   ]
  },
  {
   "cell_type": "markdown",
   "metadata": {},
   "source": [
    "### PROTOCOL"
   ]
  },
  {
   "cell_type": "code",
   "execution_count": 24,
   "metadata": {},
   "outputs": [
    {
     "data": {
      "text/plain": [
       "6     89\n",
       "17    11\n",
       "Name: PROTOCOL, dtype: int64"
      ]
     },
     "execution_count": 24,
     "metadata": {},
     "output_type": "execute_result"
    }
   ],
   "source": [
    "X_cat['PROTOCOL'] = X_cat['PROTOCOL'].astype(int)\n",
    "\n",
    "X_cat['PROTOCOL'].value_counts()"
   ]
  },
  {
   "cell_type": "code",
   "execution_count": 25,
   "metadata": {},
   "outputs": [
    {
     "name": "stdout",
     "output_type": "stream",
     "text": [
      "(100, 10)\n"
     ]
    }
   ],
   "source": [
    "print(X_cat.shape)"
   ]
  },
  {
   "cell_type": "code",
   "execution_count": 26,
   "metadata": {},
   "outputs": [
    {
     "data": {
      "text/plain": [
       "6     89\n",
       "17    11\n",
       "Name: PROTOCOL, dtype: int64"
      ]
     },
     "execution_count": 26,
     "metadata": {},
     "output_type": "execute_result"
    }
   ],
   "source": [
    "X_cat['PROTOCOL'].value_counts()"
   ]
  },
  {
   "cell_type": "markdown",
   "metadata": {},
   "source": [
    "### L7_PROTO"
   ]
  },
  {
   "cell_type": "code",
   "execution_count": 27,
   "metadata": {},
   "outputs": [
    {
     "data": {
      "text/plain": [
       "0.0      93\n",
       "Other     4\n",
       "92.0      3\n",
       "Name: L7_PROTO, dtype: int64"
      ]
     },
     "execution_count": 27,
     "metadata": {},
     "output_type": "execute_result"
    }
   ],
   "source": [
    "X_cat['L7_PROTO'] = X_cat['L7_PROTO'].astype('O')\n",
    "list_proto = [0,7,91,7.178,1,92,131,5.178]\n",
    "X_cat['L7_PROTO'][~X_cat['L7_PROTO'].isin(list_proto)] = 'Other'\n",
    "X_cat['L7_PROTO'].value_counts()"
   ]
  },
  {
   "cell_type": "markdown",
   "metadata": {},
   "source": [
    "#### Adresses"
   ]
  },
  {
   "cell_type": "markdown",
   "metadata": {},
   "source": [
    "### Adress Range"
   ]
  },
  {
   "cell_type": "code",
   "execution_count": 28,
   "metadata": {},
   "outputs": [
    {
     "name": "stdout",
     "output_type": "stream",
     "text": [
      "classe_a process ------------------------------->\n",
      "classe_b process ------------------------------->\n",
      "classe_c process ------------------------------->\n"
     ]
    }
   ],
   "source": [
    "# Private adresses\n",
    "# Class A: 10.0.0.0 to 10.255.255.255\n",
    "# Class B: 172.16.0.0 to 172.31.255.255\n",
    "# Class C: 192.168.0.0 to 192.168.255.255\n",
    "from ipaddress import ip_address\n",
    "\n",
    "\n",
    "def findIPs(start, end):\n",
    "    start = ip_address(start)\n",
    "    end = ip_address(end)\n",
    "    result = []\n",
    "    while start <= end:\n",
    "        result.append(str(start))\n",
    "        start += 1\n",
    "    return result\n",
    "print('classe_a process ------------------------------->')\n",
    "plage_classe_a=findIPs('10.0.0.0', '10.255.255.255')\n",
    "print('classe_b process ------------------------------->')\n",
    "plage_classe_b=findIPs('172.16.0.0', '172.31.255.255')\n",
    "print('classe_c process ------------------------------->')\n",
    "plage_classe_c=findIPs('192.168.0.0', '192.168.255.255')"
   ]
  },
  {
   "cell_type": "raw",
   "metadata": {},
   "source": [
    "#### IPV4_DST_ADDR"
   ]
  },
  {
   "cell_type": "code",
   "execution_count": 29,
   "metadata": {},
   "outputs": [
    {
     "name": "stdout",
     "output_type": "stream",
     "text": [
      "classe_c process ------------------------------->\n",
      "classe_b process ------------------------------->\n",
      "classe_a process ------------------------------->\n",
      "localhost process ------------------------------->\n",
      "public/other process ------------------------------->\n"
     ]
    },
    {
     "data": {
      "text/plain": [
       "classe_c        94\n",
       "public/other     6\n",
       "Name: IPV4_DST_ADDR_CLASSE, dtype: int64"
      ]
     },
     "execution_count": 29,
     "metadata": {},
     "output_type": "execute_result"
    }
   ],
   "source": [
    "import numpy as np\n",
    "X_cat['IPV4_DST_ADDR_CLASSE'] = 'None'\n",
    "print('classe_c process ------------------------------->')\n",
    "X_cat['IPV4_DST_ADDR_CLASSE'][X_cat['IPV4_DST_ADDR'].isin(plage_classe_c)] = 'classe_c'\n",
    "print('classe_b process ------------------------------->')\n",
    "X_cat['IPV4_DST_ADDR_CLASSE'][X_cat['IPV4_DST_ADDR'].isin(plage_classe_b)] = 'classe_b'\n",
    "print('classe_a process ------------------------------->')\n",
    "X_cat['IPV4_DST_ADDR_CLASSE'][X_cat['IPV4_DST_ADDR'].isin(plage_classe_a)] = 'classe_a'\n",
    "print('localhost process ------------------------------->')\n",
    "X_cat['IPV4_DST_ADDR_CLASSE'][X_cat['IPV4_DST_ADDR'] == '127.0.0.1'] = 'localhost'\n",
    "print('public/other process ------------------------------->')\n",
    "X_cat['IPV4_DST_ADDR_CLASSE'][X_cat['IPV4_DST_ADDR_CLASSE'] == 'None'] = 'public/other'\n",
    "X_cat['IPV4_DST_ADDR_CLASSE'].value_counts()"
   ]
  },
  {
   "cell_type": "markdown",
   "metadata": {},
   "source": [
    "### IPV4_SRC_ADDR_CLASSE"
   ]
  },
  {
   "cell_type": "code",
   "execution_count": 30,
   "metadata": {},
   "outputs": [
    {
     "name": "stdout",
     "output_type": "stream",
     "text": [
      "classe_c process ------------------------------->\n",
      "classe_b process ------------------------------->\n",
      "classe_a process ------------------------------->\n",
      "localhost process ------------------------------->\n",
      "public/other process ------------------------------->\n"
     ]
    },
    {
     "data": {
      "text/plain": [
       "classe_c    99\n",
       "classe_b     1\n",
       "Name: IPV4_SRC_ADDR_CLASSE, dtype: int64"
      ]
     },
     "execution_count": 30,
     "metadata": {},
     "output_type": "execute_result"
    }
   ],
   "source": [
    "import numpy as np\n",
    "X_cat['IPV4_SRC_ADDR_CLASSE'] = 'None'\n",
    "print('classe_c process ------------------------------->')\n",
    "X_cat['IPV4_SRC_ADDR_CLASSE'][X_cat['IPV4_SRC_ADDR'].isin(plage_classe_c)] = 'classe_c'\n",
    "print('classe_b process ------------------------------->')\n",
    "X_cat['IPV4_SRC_ADDR_CLASSE'][X_cat['IPV4_SRC_ADDR'].isin(plage_classe_b)] = 'classe_b'\n",
    "print('classe_a process ------------------------------->')\n",
    "X_cat['IPV4_SRC_ADDR_CLASSE'][X_cat['IPV4_SRC_ADDR'].isin(plage_classe_a)] = 'classe_a'\n",
    "print('localhost process ------------------------------->')\n",
    "X_cat['IPV4_SRC_ADDR_CLASSE'][X_cat['IPV4_SRC_ADDR'] == '127.0.0.1'] = 'localhost'\n",
    "print('public/other process ------------------------------->')\n",
    "X_cat['IPV4_SRC_ADDR_CLASSE'][X_cat['IPV4_SRC_ADDR_CLASSE'] == 'None'] = 'public/other'\n",
    "X_cat['IPV4_SRC_ADDR_CLASSE'].value_counts()"
   ]
  },
  {
   "cell_type": "markdown",
   "metadata": {},
   "source": [
    "Remove IPV4_SRC_ADDR & IPV4_DST_ADDR and Keep IPV4_SRC_ADDR IPV4_DST_ADDR"
   ]
  },
  {
   "cell_type": "code",
   "execution_count": 31,
   "metadata": {},
   "outputs": [],
   "source": [
    "X_cat.drop(columns=['IPV4_SRC_ADDR','IPV4_DST_ADDR'], inplace=True)\n",
    "X.drop(columns=['IPV4_SRC_ADDR','IPV4_DST_ADDR'], inplace=True)"
   ]
  },
  {
   "cell_type": "code",
   "execution_count": null,
   "metadata": {},
   "outputs": [],
   "source": []
  },
  {
   "cell_type": "code",
   "execution_count": 32,
   "metadata": {},
   "outputs": [
    {
     "data": {
      "text/html": [
       "<div>\n",
       "<style scoped>\n",
       "    .dataframe tbody tr th:only-of-type {\n",
       "        vertical-align: middle;\n",
       "    }\n",
       "\n",
       "    .dataframe tbody tr th {\n",
       "        vertical-align: top;\n",
       "    }\n",
       "\n",
       "    .dataframe thead th {\n",
       "        text-align: right;\n",
       "    }\n",
       "</style>\n",
       "<table border=\"1\" class=\"dataframe\">\n",
       "  <thead>\n",
       "    <tr style=\"text-align: right;\">\n",
       "      <th></th>\n",
       "      <th>PROTOCOL</th>\n",
       "      <th>L7_PROTO</th>\n",
       "      <th>DNS_QUERY_TYPE</th>\n",
       "      <th>ICMP_TYPE</th>\n",
       "      <th>ICMP_IPV4_TYPE</th>\n",
       "      <th>DNS_TTL_ANSWER</th>\n",
       "      <th>L4_SRC_PORT_C</th>\n",
       "      <th>L4_DST_PORT_C</th>\n",
       "      <th>IPV4_DST_ADDR_CLASSE</th>\n",
       "      <th>IPV4_SRC_ADDR_CLASSE</th>\n",
       "    </tr>\n",
       "  </thead>\n",
       "  <tbody>\n",
       "    <tr>\n",
       "      <th>0</th>\n",
       "      <td>6</td>\n",
       "      <td>0.0</td>\n",
       "      <td>0</td>\n",
       "      <td>0</td>\n",
       "      <td>0</td>\n",
       "      <td>0</td>\n",
       "      <td>registered_ports</td>\n",
       "      <td>registered_ports</td>\n",
       "      <td>classe_c</td>\n",
       "      <td>classe_c</td>\n",
       "    </tr>\n",
       "    <tr>\n",
       "      <th>1</th>\n",
       "      <td>6</td>\n",
       "      <td>0.0</td>\n",
       "      <td>0</td>\n",
       "      <td>0</td>\n",
       "      <td>0</td>\n",
       "      <td>0</td>\n",
       "      <td>ephemeral_ports</td>\n",
       "      <td>registered_ports</td>\n",
       "      <td>classe_c</td>\n",
       "      <td>classe_c</td>\n",
       "    </tr>\n",
       "  </tbody>\n",
       "</table>\n",
       "</div>"
      ],
      "text/plain": [
       "   PROTOCOL L7_PROTO DNS_QUERY_TYPE  ICMP_TYPE  ICMP_IPV4_TYPE  \\\n",
       "0         6      0.0              0          0               0   \n",
       "1         6      0.0              0          0               0   \n",
       "\n",
       "   DNS_TTL_ANSWER     L4_SRC_PORT_C     L4_DST_PORT_C IPV4_DST_ADDR_CLASSE  \\\n",
       "0               0  registered_ports  registered_ports             classe_c   \n",
       "1               0   ephemeral_ports  registered_ports             classe_c   \n",
       "\n",
       "  IPV4_SRC_ADDR_CLASSE  \n",
       "0             classe_c  \n",
       "1             classe_c  "
      ]
     },
     "execution_count": 32,
     "metadata": {},
     "output_type": "execute_result"
    }
   ],
   "source": [
    "X_cat.head(2)"
   ]
  },
  {
   "cell_type": "markdown",
   "metadata": {},
   "source": [
    "## Optimze the 3 features ICMP_TYPE, ICMP_IPV4_TYPE, DNS_TTL_ANSWER"
   ]
  },
  {
   "cell_type": "code",
   "execution_count": 33,
   "metadata": {},
   "outputs": [
    {
     "name": "stdout",
     "output_type": "stream",
     "text": [
      "ICMPTYPE 0    100\n",
      "Name: ICMP_TYPE, dtype: int64, \n",
      " ICMP_IPV4_TYPE  0    100\n",
      "Name: ICMP_IPV4_TYPE, dtype: int64, \n",
      "  DNS_TTL_ANSWER  0    98\n",
      "1     2\n",
      "Name: DNS_TTL_ANSWER, dtype: int64\n"
     ]
    }
   ],
   "source": [
    "import math\n",
    "infini = math.inf\n",
    "\n",
    "X_cat['ICMP_TYPE'] = X_cat['ICMP_TYPE'].astype('O')\n",
    "X_cat['ICMP_IPV4_TYPE'] = X_cat['ICMP_IPV4_TYPE'].astype('O')\n",
    "X_cat['DNS_TTL_ANSWER'] = X_cat['DNS_TTL_ANSWER'].astype('O')\n",
    "\n",
    "X_cat['ICMP_TYPE'][~(X_cat['ICMP_TYPE']==0)]=1\n",
    "X_cat['ICMP_IPV4_TYPE'][~(X_cat['ICMP_IPV4_TYPE']==0)]=1\n",
    "X_cat['DNS_TTL_ANSWER'][~(X_cat['DNS_TTL_ANSWER']==0)]=1\n",
    "\n",
    "print(f\"ICMPTYPE {X_cat['ICMP_TYPE'].value_counts()}, \\n ICMP_IPV4_TYPE  {X_cat['ICMP_IPV4_TYPE'].value_counts()}, \\n  DNS_TTL_ANSWER  {X_cat['DNS_TTL_ANSWER'].value_counts()}\")\n",
    "\n"
   ]
  },
  {
   "cell_type": "code",
   "execution_count": 34,
   "metadata": {},
   "outputs": [
    {
     "data": {
      "text/html": [
       "<div>\n",
       "<style scoped>\n",
       "    .dataframe tbody tr th:only-of-type {\n",
       "        vertical-align: middle;\n",
       "    }\n",
       "\n",
       "    .dataframe tbody tr th {\n",
       "        vertical-align: top;\n",
       "    }\n",
       "\n",
       "    .dataframe thead th {\n",
       "        text-align: right;\n",
       "    }\n",
       "</style>\n",
       "<table border=\"1\" class=\"dataframe\">\n",
       "  <thead>\n",
       "    <tr style=\"text-align: right;\">\n",
       "      <th></th>\n",
       "      <th>PROTOCOL</th>\n",
       "      <th>L7_PROTO</th>\n",
       "      <th>DNS_QUERY_TYPE</th>\n",
       "      <th>ICMP_TYPE</th>\n",
       "      <th>ICMP_IPV4_TYPE</th>\n",
       "      <th>DNS_TTL_ANSWER</th>\n",
       "      <th>L4_SRC_PORT_C</th>\n",
       "      <th>L4_DST_PORT_C</th>\n",
       "      <th>IPV4_DST_ADDR_CLASSE</th>\n",
       "      <th>IPV4_SRC_ADDR_CLASSE</th>\n",
       "    </tr>\n",
       "  </thead>\n",
       "  <tbody>\n",
       "    <tr>\n",
       "      <th>0</th>\n",
       "      <td>6</td>\n",
       "      <td>0.0</td>\n",
       "      <td>0</td>\n",
       "      <td>0</td>\n",
       "      <td>0</td>\n",
       "      <td>0</td>\n",
       "      <td>registered_ports</td>\n",
       "      <td>registered_ports</td>\n",
       "      <td>classe_c</td>\n",
       "      <td>classe_c</td>\n",
       "    </tr>\n",
       "    <tr>\n",
       "      <th>1</th>\n",
       "      <td>6</td>\n",
       "      <td>0.0</td>\n",
       "      <td>0</td>\n",
       "      <td>0</td>\n",
       "      <td>0</td>\n",
       "      <td>0</td>\n",
       "      <td>ephemeral_ports</td>\n",
       "      <td>registered_ports</td>\n",
       "      <td>classe_c</td>\n",
       "      <td>classe_c</td>\n",
       "    </tr>\n",
       "    <tr>\n",
       "      <th>2</th>\n",
       "      <td>6</td>\n",
       "      <td>0.0</td>\n",
       "      <td>0</td>\n",
       "      <td>0</td>\n",
       "      <td>0</td>\n",
       "      <td>0</td>\n",
       "      <td>ephemeral_ports</td>\n",
       "      <td>registered_ports</td>\n",
       "      <td>classe_c</td>\n",
       "      <td>classe_c</td>\n",
       "    </tr>\n",
       "    <tr>\n",
       "      <th>3</th>\n",
       "      <td>6</td>\n",
       "      <td>0.0</td>\n",
       "      <td>0</td>\n",
       "      <td>0</td>\n",
       "      <td>0</td>\n",
       "      <td>0</td>\n",
       "      <td>ephemeral_ports</td>\n",
       "      <td>registered_ports</td>\n",
       "      <td>classe_c</td>\n",
       "      <td>classe_c</td>\n",
       "    </tr>\n",
       "  </tbody>\n",
       "</table>\n",
       "</div>"
      ],
      "text/plain": [
       "   PROTOCOL L7_PROTO DNS_QUERY_TYPE ICMP_TYPE ICMP_IPV4_TYPE DNS_TTL_ANSWER  \\\n",
       "0         6      0.0              0         0              0              0   \n",
       "1         6      0.0              0         0              0              0   \n",
       "2         6      0.0              0         0              0              0   \n",
       "3         6      0.0              0         0              0              0   \n",
       "\n",
       "      L4_SRC_PORT_C     L4_DST_PORT_C IPV4_DST_ADDR_CLASSE  \\\n",
       "0  registered_ports  registered_ports             classe_c   \n",
       "1   ephemeral_ports  registered_ports             classe_c   \n",
       "2   ephemeral_ports  registered_ports             classe_c   \n",
       "3   ephemeral_ports  registered_ports             classe_c   \n",
       "\n",
       "  IPV4_SRC_ADDR_CLASSE  \n",
       "0             classe_c  \n",
       "1             classe_c  \n",
       "2             classe_c  \n",
       "3             classe_c  "
      ]
     },
     "execution_count": 34,
     "metadata": {},
     "output_type": "execute_result"
    }
   ],
   "source": [
    "X_cat.head(4)"
   ]
  },
  {
   "cell_type": "markdown",
   "metadata": {},
   "source": [
    "# Feature Selection Filter-based"
   ]
  },
  {
   "cell_type": "code",
   "execution_count": 35,
   "metadata": {},
   "outputs": [],
   "source": [
    "from sklearn.feature_selection import chi2\n",
    "\n",
    "# Convert string values in categorical features to numerical\n",
    "X_cat = X_cat.replace('Other',999)\n",
    "X_cat = X_cat.replace('Others',999)\n",
    "X_cat = X_cat.replace('well_known_port',0)\n",
    "X_cat = X_cat.replace('registered_ports',1)\n",
    "X_cat = X_cat.replace('ephemeral_ports',2)\n",
    "\n",
    "\n",
    "\n",
    "X_cat = X_cat.replace('localhost',0)\n",
    "X_cat = X_cat.replace('classe_a',1)\n",
    "X_cat = X_cat.replace('classe_b',2)\n",
    "X_cat = X_cat.replace('classe_c',3)\n",
    "X_cat = X_cat.replace('public/other',4)\n",
    "\n",
    "\n",
    "X_cat = X_cat.astype(int)\n",
    "\n",
    "\n",
    "\n",
    "#X.dropna(inplace=True)\n",
    "\n",
    "#X = X.astype(int)\n",
    "\n",
    "\n"
   ]
  },
  {
   "cell_type": "code",
   "execution_count": 36,
   "metadata": {},
   "outputs": [],
   "source": [
    "X_cat_int = X_cat.astype(int)"
   ]
  },
  {
   "cell_type": "code",
   "execution_count": 37,
   "metadata": {},
   "outputs": [
    {
     "data": {
      "text/html": [
       "<div>\n",
       "<style scoped>\n",
       "    .dataframe tbody tr th:only-of-type {\n",
       "        vertical-align: middle;\n",
       "    }\n",
       "\n",
       "    .dataframe tbody tr th {\n",
       "        vertical-align: top;\n",
       "    }\n",
       "\n",
       "    .dataframe thead th {\n",
       "        text-align: right;\n",
       "    }\n",
       "</style>\n",
       "<table border=\"1\" class=\"dataframe\">\n",
       "  <thead>\n",
       "    <tr style=\"text-align: right;\">\n",
       "      <th></th>\n",
       "      <th>PROTOCOL</th>\n",
       "      <th>L7_PROTO</th>\n",
       "      <th>DNS_QUERY_TYPE</th>\n",
       "      <th>ICMP_TYPE</th>\n",
       "      <th>ICMP_IPV4_TYPE</th>\n",
       "      <th>DNS_TTL_ANSWER</th>\n",
       "      <th>L4_SRC_PORT_C</th>\n",
       "      <th>L4_DST_PORT_C</th>\n",
       "      <th>IPV4_DST_ADDR_CLASSE</th>\n",
       "      <th>IPV4_SRC_ADDR_CLASSE</th>\n",
       "    </tr>\n",
       "  </thead>\n",
       "  <tbody>\n",
       "    <tr>\n",
       "      <th>0</th>\n",
       "      <td>6</td>\n",
       "      <td>0</td>\n",
       "      <td>0</td>\n",
       "      <td>0</td>\n",
       "      <td>0</td>\n",
       "      <td>0</td>\n",
       "      <td>1</td>\n",
       "      <td>1</td>\n",
       "      <td>3</td>\n",
       "      <td>3</td>\n",
       "    </tr>\n",
       "    <tr>\n",
       "      <th>1</th>\n",
       "      <td>6</td>\n",
       "      <td>0</td>\n",
       "      <td>0</td>\n",
       "      <td>0</td>\n",
       "      <td>0</td>\n",
       "      <td>0</td>\n",
       "      <td>2</td>\n",
       "      <td>1</td>\n",
       "      <td>3</td>\n",
       "      <td>3</td>\n",
       "    </tr>\n",
       "  </tbody>\n",
       "</table>\n",
       "</div>"
      ],
      "text/plain": [
       "   PROTOCOL  L7_PROTO  DNS_QUERY_TYPE  ICMP_TYPE  ICMP_IPV4_TYPE  \\\n",
       "0         6         0               0          0               0   \n",
       "1         6         0               0          0               0   \n",
       "\n",
       "   DNS_TTL_ANSWER  L4_SRC_PORT_C  L4_DST_PORT_C  IPV4_DST_ADDR_CLASSE  \\\n",
       "0               0              1              1                     3   \n",
       "1               0              2              1                     3   \n",
       "\n",
       "   IPV4_SRC_ADDR_CLASSE  \n",
       "0                     3  \n",
       "1                     3  "
      ]
     },
     "execution_count": 37,
     "metadata": {},
     "output_type": "execute_result"
    }
   ],
   "source": [
    "X_cat_int.head(2)"
   ]
  },
  {
   "cell_type": "code",
   "execution_count": 38,
   "metadata": {},
   "outputs": [],
   "source": [
    "chi2_corr = chi2(X_cat,y_b)"
   ]
  },
  {
   "cell_type": "code",
   "execution_count": 39,
   "metadata": {},
   "outputs": [
    {
     "data": {
      "text/plain": [
       "['L7_PROTO',\n",
       " 'PROTOCOL',\n",
       " 'L4_DST_PORT_C',\n",
       " 'L4_SRC_PORT_C',\n",
       " 'DNS_QUERY_TYPE',\n",
       " 'DNS_TTL_ANSWER',\n",
       " 'IPV4_DST_ADDR_CLASSE',\n",
       " 'IPV4_SRC_ADDR_CLASSE',\n",
       " 'ICMP_TYPE',\n",
       " 'ICMP_IPV4_TYPE']"
      ]
     },
     "execution_count": 39,
     "metadata": {},
     "output_type": "execute_result"
    }
   ],
   "source": [
    "list(X_cat.columns[np.argsort(-chi2_corr[0])])"
   ]
  },
  {
   "cell_type": "code",
   "execution_count": 40,
   "metadata": {},
   "outputs": [],
   "source": [
    "columns_ranked_chi2 = list(X_cat.columns[np.argsort(-chi2_corr[0])])"
   ]
  },
  {
   "cell_type": "markdown",
   "metadata": {},
   "source": [
    "## Ranking of features using CHI2"
   ]
  },
  {
   "cell_type": "markdown",
   "metadata": {},
   "source": [
    "# We will select 3 pourcentage from the rest of the features\n",
    "categorical\n",
    "- 6.0\n",
    "- 4.0\n",
    "- 2.0"
   ]
  },
  {
   "cell_type": "markdown",
   "metadata": {},
   "source": [
    "### Generate the 3 databases for chi 2"
   ]
  },
  {
   "cell_type": "code",
   "execution_count": 41,
   "metadata": {},
   "outputs": [],
   "source": [
    "X_chi2_20 = X_cat[columns_ranked_chi2[:2]]\n",
    "X_chi2_40 =  X_cat[columns_ranked_chi2[:4]]\n",
    "X_chi2_60 =  X_cat[columns_ranked_chi2[:6]]\n",
    "\n",
    "dummy_feature = ['L4_SRC_PORT_C','L4_DST_PORT_C','IPV4_SRC_ADDR_CLASSE',\n",
    "                 'IPV4_DST_ADDR_CLASSE','PROTOCOL','L7_PROTO']\n",
    "list_dummy_20 = list(set( list(X_chi2_20.columns)).intersection(dummy_feature))\n",
    "list_dummy_40 = list(set( list(X_chi2_40.columns)).intersection(dummy_feature))\n",
    "list_dummy_60 = list(set( list(X_chi2_60.columns)).intersection(dummy_feature))\n",
    "\n",
    "\n",
    "X_chi2_20 = pd.get_dummies(X_chi2_20, columns=list_dummy_20)\n",
    "X_chi2_40 = pd.get_dummies(X_chi2_40, columns=list_dummy_40)\n",
    "X_chi2_60 = pd.get_dummies(X_chi2_60, columns=list_dummy_60)"
   ]
  },
  {
   "cell_type": "code",
   "execution_count": 42,
   "metadata": {},
   "outputs": [
    {
     "data": {
      "text/plain": [
       "(100, 44)"
      ]
     },
     "execution_count": 42,
     "metadata": {},
     "output_type": "execute_result"
    }
   ],
   "source": [
    "dummy_feature = ['L4_SRC_PORT_C','L4_DST_PORT_C','IPV4_SRC_ADDR_CLASSE',\n",
    "                 'IPV4_DST_ADDR_CLASSE','PROTOCOL','L7_PROTO']\n",
    "X_cat_dm = pd.get_dummies(X_cat, columns=dummy_feature)\n",
    "X =  pd.concat([X_Numerical_sc,X_cat_dm],axis=1)\n",
    "X.shape"
   ]
  },
  {
   "cell_type": "code",
   "execution_count": 58,
   "metadata": {},
   "outputs": [
    {
     "data": {
      "text/html": [
       "<div>\n",
       "<style scoped>\n",
       "    .dataframe tbody tr th:only-of-type {\n",
       "        vertical-align: middle;\n",
       "    }\n",
       "\n",
       "    .dataframe tbody tr th {\n",
       "        vertical-align: top;\n",
       "    }\n",
       "\n",
       "    .dataframe thead th {\n",
       "        text-align: right;\n",
       "    }\n",
       "</style>\n",
       "<table border=\"1\" class=\"dataframe\">\n",
       "  <thead>\n",
       "    <tr style=\"text-align: right;\">\n",
       "      <th></th>\n",
       "      <th>PROTOCOL_6</th>\n",
       "      <th>PROTOCOL_17</th>\n",
       "      <th>L7_PROTO_0</th>\n",
       "      <th>L7_PROTO_92</th>\n",
       "      <th>L7_PROTO_999</th>\n",
       "    </tr>\n",
       "  </thead>\n",
       "  <tbody>\n",
       "    <tr>\n",
       "      <th>0</th>\n",
       "      <td>1</td>\n",
       "      <td>0</td>\n",
       "      <td>1</td>\n",
       "      <td>0</td>\n",
       "      <td>0</td>\n",
       "    </tr>\n",
       "    <tr>\n",
       "      <th>1</th>\n",
       "      <td>1</td>\n",
       "      <td>0</td>\n",
       "      <td>1</td>\n",
       "      <td>0</td>\n",
       "      <td>0</td>\n",
       "    </tr>\n",
       "    <tr>\n",
       "      <th>2</th>\n",
       "      <td>1</td>\n",
       "      <td>0</td>\n",
       "      <td>1</td>\n",
       "      <td>0</td>\n",
       "      <td>0</td>\n",
       "    </tr>\n",
       "    <tr>\n",
       "      <th>3</th>\n",
       "      <td>1</td>\n",
       "      <td>0</td>\n",
       "      <td>1</td>\n",
       "      <td>0</td>\n",
       "      <td>0</td>\n",
       "    </tr>\n",
       "    <tr>\n",
       "      <th>4</th>\n",
       "      <td>1</td>\n",
       "      <td>0</td>\n",
       "      <td>1</td>\n",
       "      <td>0</td>\n",
       "      <td>0</td>\n",
       "    </tr>\n",
       "    <tr>\n",
       "      <th>...</th>\n",
       "      <td>...</td>\n",
       "      <td>...</td>\n",
       "      <td>...</td>\n",
       "      <td>...</td>\n",
       "      <td>...</td>\n",
       "    </tr>\n",
       "    <tr>\n",
       "      <th>95</th>\n",
       "      <td>1</td>\n",
       "      <td>0</td>\n",
       "      <td>1</td>\n",
       "      <td>0</td>\n",
       "      <td>0</td>\n",
       "    </tr>\n",
       "    <tr>\n",
       "      <th>96</th>\n",
       "      <td>1</td>\n",
       "      <td>0</td>\n",
       "      <td>1</td>\n",
       "      <td>0</td>\n",
       "      <td>0</td>\n",
       "    </tr>\n",
       "    <tr>\n",
       "      <th>97</th>\n",
       "      <td>1</td>\n",
       "      <td>0</td>\n",
       "      <td>1</td>\n",
       "      <td>0</td>\n",
       "      <td>0</td>\n",
       "    </tr>\n",
       "    <tr>\n",
       "      <th>98</th>\n",
       "      <td>0</td>\n",
       "      <td>1</td>\n",
       "      <td>1</td>\n",
       "      <td>0</td>\n",
       "      <td>0</td>\n",
       "    </tr>\n",
       "    <tr>\n",
       "      <th>99</th>\n",
       "      <td>1</td>\n",
       "      <td>0</td>\n",
       "      <td>1</td>\n",
       "      <td>0</td>\n",
       "      <td>0</td>\n",
       "    </tr>\n",
       "  </tbody>\n",
       "</table>\n",
       "<p>100 rows × 5 columns</p>\n",
       "</div>"
      ],
      "text/plain": [
       "    PROTOCOL_6  PROTOCOL_17  L7_PROTO_0  L7_PROTO_92  L7_PROTO_999\n",
       "0            1            0           1            0             0\n",
       "1            1            0           1            0             0\n",
       "2            1            0           1            0             0\n",
       "3            1            0           1            0             0\n",
       "4            1            0           1            0             0\n",
       "..         ...          ...         ...          ...           ...\n",
       "95           1            0           1            0             0\n",
       "96           1            0           1            0             0\n",
       "97           1            0           1            0             0\n",
       "98           0            1           1            0             0\n",
       "99           1            0           1            0             0\n",
       "\n",
       "[100 rows x 5 columns]"
      ]
     },
     "execution_count": 58,
     "metadata": {},
     "output_type": "execute_result"
    }
   ],
   "source": [
    "X_chi2_20"
   ]
  },
  {
   "cell_type": "code",
   "execution_count": null,
   "metadata": {},
   "outputs": [],
   "source": []
  },
  {
   "cell_type": "code",
   "execution_count": 59,
   "metadata": {},
   "outputs": [
    {
     "data": {
      "text/html": [
       "<div>\n",
       "<style scoped>\n",
       "    .dataframe tbody tr th:only-of-type {\n",
       "        vertical-align: middle;\n",
       "    }\n",
       "\n",
       "    .dataframe tbody tr th {\n",
       "        vertical-align: top;\n",
       "    }\n",
       "\n",
       "    .dataframe thead th {\n",
       "        text-align: right;\n",
       "    }\n",
       "</style>\n",
       "<table border=\"1\" class=\"dataframe\">\n",
       "  <thead>\n",
       "    <tr style=\"text-align: right;\">\n",
       "      <th></th>\n",
       "      <th>OUT_BYTES</th>\n",
       "      <th>OUT_PKTS</th>\n",
       "      <th>LONGEST_FLOW_PKT</th>\n",
       "      <th>DST_TO_SRC_SECOND_BYTES</th>\n",
       "      <th>SRC_TO_DST_AVG_THROUGHPUT</th>\n",
       "      <th>DST_TO_SRC_AVG_THROUGHPUT</th>\n",
       "      <th>NUM_PKTS_UP_TO_128_BYTES</th>\n",
       "      <th>NUM_PKTS_128_TO_256_BYTES</th>\n",
       "      <th>NUM_PKTS_512_TO_1024_BYTES</th>\n",
       "      <th>TCP_WIN_MAX_IN</th>\n",
       "    </tr>\n",
       "  </thead>\n",
       "  <tbody>\n",
       "    <tr>\n",
       "      <th>0</th>\n",
       "      <td>-0.170883</td>\n",
       "      <td>-0.222438</td>\n",
       "      <td>-0.285868</td>\n",
       "      <td>-0.170883</td>\n",
       "      <td>-0.246378</td>\n",
       "      <td>-0.170883</td>\n",
       "      <td>-0.284364</td>\n",
       "      <td>-0.171815</td>\n",
       "      <td>-0.190219</td>\n",
       "      <td>-0.186624</td>\n",
       "    </tr>\n",
       "    <tr>\n",
       "      <th>1</th>\n",
       "      <td>-0.170883</td>\n",
       "      <td>-0.222438</td>\n",
       "      <td>-0.285868</td>\n",
       "      <td>-0.170883</td>\n",
       "      <td>-0.246378</td>\n",
       "      <td>-0.170883</td>\n",
       "      <td>-0.284364</td>\n",
       "      <td>-0.171815</td>\n",
       "      <td>-0.190219</td>\n",
       "      <td>-0.186624</td>\n",
       "    </tr>\n",
       "    <tr>\n",
       "      <th>2</th>\n",
       "      <td>-0.167036</td>\n",
       "      <td>-0.181016</td>\n",
       "      <td>-0.285868</td>\n",
       "      <td>-0.167036</td>\n",
       "      <td>-0.246378</td>\n",
       "      <td>-0.167036</td>\n",
       "      <td>-0.191434</td>\n",
       "      <td>-0.171815</td>\n",
       "      <td>-0.190219</td>\n",
       "      <td>-0.186624</td>\n",
       "    </tr>\n",
       "    <tr>\n",
       "      <th>3</th>\n",
       "      <td>-0.170883</td>\n",
       "      <td>-0.222438</td>\n",
       "      <td>-0.285868</td>\n",
       "      <td>-0.170883</td>\n",
       "      <td>-0.246378</td>\n",
       "      <td>-0.170883</td>\n",
       "      <td>-0.284364</td>\n",
       "      <td>-0.171815</td>\n",
       "      <td>-0.190219</td>\n",
       "      <td>-0.186624</td>\n",
       "    </tr>\n",
       "    <tr>\n",
       "      <th>4</th>\n",
       "      <td>-0.170883</td>\n",
       "      <td>-0.222438</td>\n",
       "      <td>-0.285868</td>\n",
       "      <td>-0.170883</td>\n",
       "      <td>-0.246378</td>\n",
       "      <td>-0.170883</td>\n",
       "      <td>-0.284364</td>\n",
       "      <td>-0.171815</td>\n",
       "      <td>-0.190219</td>\n",
       "      <td>-0.186624</td>\n",
       "    </tr>\n",
       "    <tr>\n",
       "      <th>...</th>\n",
       "      <td>...</td>\n",
       "      <td>...</td>\n",
       "      <td>...</td>\n",
       "      <td>...</td>\n",
       "      <td>...</td>\n",
       "      <td>...</td>\n",
       "      <td>...</td>\n",
       "      <td>...</td>\n",
       "      <td>...</td>\n",
       "      <td>...</td>\n",
       "    </tr>\n",
       "    <tr>\n",
       "      <th>95</th>\n",
       "      <td>-0.170883</td>\n",
       "      <td>-0.222438</td>\n",
       "      <td>-0.285868</td>\n",
       "      <td>-0.170883</td>\n",
       "      <td>-0.246378</td>\n",
       "      <td>-0.170883</td>\n",
       "      <td>-0.284364</td>\n",
       "      <td>-0.171815</td>\n",
       "      <td>-0.190219</td>\n",
       "      <td>-0.186624</td>\n",
       "    </tr>\n",
       "    <tr>\n",
       "      <th>96</th>\n",
       "      <td>-0.167036</td>\n",
       "      <td>-0.181016</td>\n",
       "      <td>-0.285868</td>\n",
       "      <td>-0.167036</td>\n",
       "      <td>-0.246378</td>\n",
       "      <td>-0.167036</td>\n",
       "      <td>-0.191434</td>\n",
       "      <td>-0.171815</td>\n",
       "      <td>-0.190219</td>\n",
       "      <td>-0.186624</td>\n",
       "    </tr>\n",
       "    <tr>\n",
       "      <th>97</th>\n",
       "      <td>-0.036230</td>\n",
       "      <td>1.227346</td>\n",
       "      <td>3.144107</td>\n",
       "      <td>-0.036230</td>\n",
       "      <td>0.724435</td>\n",
       "      <td>-0.036230</td>\n",
       "      <td>3.525736</td>\n",
       "      <td>-0.015145</td>\n",
       "      <td>3.791108</td>\n",
       "      <td>-0.361194</td>\n",
       "    </tr>\n",
       "    <tr>\n",
       "      <th>98</th>\n",
       "      <td>-0.170883</td>\n",
       "      <td>-0.222438</td>\n",
       "      <td>-0.233607</td>\n",
       "      <td>-0.170883</td>\n",
       "      <td>-0.245811</td>\n",
       "      <td>-0.170883</td>\n",
       "      <td>-0.284364</td>\n",
       "      <td>-0.171815</td>\n",
       "      <td>-0.190219</td>\n",
       "      <td>-0.413765</td>\n",
       "    </tr>\n",
       "    <tr>\n",
       "      <th>99</th>\n",
       "      <td>-0.170883</td>\n",
       "      <td>-0.222438</td>\n",
       "      <td>-0.285868</td>\n",
       "      <td>-0.170883</td>\n",
       "      <td>-0.246378</td>\n",
       "      <td>-0.170883</td>\n",
       "      <td>-0.284364</td>\n",
       "      <td>-0.171815</td>\n",
       "      <td>-0.190219</td>\n",
       "      <td>-0.186624</td>\n",
       "    </tr>\n",
       "  </tbody>\n",
       "</table>\n",
       "<p>100 rows × 10 columns</p>\n",
       "</div>"
      ],
      "text/plain": [
       "    OUT_BYTES  OUT_PKTS  LONGEST_FLOW_PKT  DST_TO_SRC_SECOND_BYTES  \\\n",
       "0   -0.170883 -0.222438         -0.285868                -0.170883   \n",
       "1   -0.170883 -0.222438         -0.285868                -0.170883   \n",
       "2   -0.167036 -0.181016         -0.285868                -0.167036   \n",
       "3   -0.170883 -0.222438         -0.285868                -0.170883   \n",
       "4   -0.170883 -0.222438         -0.285868                -0.170883   \n",
       "..        ...       ...               ...                      ...   \n",
       "95  -0.170883 -0.222438         -0.285868                -0.170883   \n",
       "96  -0.167036 -0.181016         -0.285868                -0.167036   \n",
       "97  -0.036230  1.227346          3.144107                -0.036230   \n",
       "98  -0.170883 -0.222438         -0.233607                -0.170883   \n",
       "99  -0.170883 -0.222438         -0.285868                -0.170883   \n",
       "\n",
       "    SRC_TO_DST_AVG_THROUGHPUT  DST_TO_SRC_AVG_THROUGHPUT  \\\n",
       "0                   -0.246378                  -0.170883   \n",
       "1                   -0.246378                  -0.170883   \n",
       "2                   -0.246378                  -0.167036   \n",
       "3                   -0.246378                  -0.170883   \n",
       "4                   -0.246378                  -0.170883   \n",
       "..                        ...                        ...   \n",
       "95                  -0.246378                  -0.170883   \n",
       "96                  -0.246378                  -0.167036   \n",
       "97                   0.724435                  -0.036230   \n",
       "98                  -0.245811                  -0.170883   \n",
       "99                  -0.246378                  -0.170883   \n",
       "\n",
       "    NUM_PKTS_UP_TO_128_BYTES  NUM_PKTS_128_TO_256_BYTES  \\\n",
       "0                  -0.284364                  -0.171815   \n",
       "1                  -0.284364                  -0.171815   \n",
       "2                  -0.191434                  -0.171815   \n",
       "3                  -0.284364                  -0.171815   \n",
       "4                  -0.284364                  -0.171815   \n",
       "..                       ...                        ...   \n",
       "95                 -0.284364                  -0.171815   \n",
       "96                 -0.191434                  -0.171815   \n",
       "97                  3.525736                  -0.015145   \n",
       "98                 -0.284364                  -0.171815   \n",
       "99                 -0.284364                  -0.171815   \n",
       "\n",
       "    NUM_PKTS_512_TO_1024_BYTES  TCP_WIN_MAX_IN  \n",
       "0                    -0.190219       -0.186624  \n",
       "1                    -0.190219       -0.186624  \n",
       "2                    -0.190219       -0.186624  \n",
       "3                    -0.190219       -0.186624  \n",
       "4                    -0.190219       -0.186624  \n",
       "..                         ...             ...  \n",
       "95                   -0.190219       -0.186624  \n",
       "96                   -0.190219       -0.186624  \n",
       "97                    3.791108       -0.361194  \n",
       "98                   -0.190219       -0.413765  \n",
       "99                   -0.190219       -0.186624  \n",
       "\n",
       "[100 rows x 10 columns]"
      ]
     },
     "execution_count": 59,
     "metadata": {},
     "output_type": "execute_result"
    }
   ],
   "source": [
    "X_A_40"
   ]
  },
  {
   "cell_type": "code",
   "execution_count": 60,
   "metadata": {},
   "outputs": [
    {
     "ename": "NameError",
     "evalue": "name 'X' is not defined",
     "output_type": "error",
     "traceback": [
      "\u001b[1;31m---------------------------------------------------------------------------\u001b[0m",
      "\u001b[1;31mNameError\u001b[0m                                 Traceback (most recent call last)",
      "Cell \u001b[1;32mIn[60], line 1\u001b[0m\n\u001b[1;32m----> 1\u001b[0m X\u001b[38;5;241m.\u001b[39mcolumns\n",
      "\u001b[1;31mNameError\u001b[0m: name 'X' is not defined"
     ]
    }
   ],
   "source": [
    "X.columns"
   ]
  },
  {
   "cell_type": "code",
   "execution_count": null,
   "metadata": {},
   "outputs": [],
   "source": []
  },
  {
   "cell_type": "markdown",
   "metadata": {},
   "source": [
    "## mRMR"
   ]
  },
  {
   "cell_type": "code",
   "execution_count": 46,
   "metadata": {
    "pycharm": {
     "is_executing": true
    },
    "scrolled": true
   },
   "outputs": [
    {
     "name": "stderr",
     "output_type": "stream",
     "text": [
      "100%|████████████████████████████████████████████████████████████████████████████████████| 2/2 [00:00<00:00,  3.33it/s]\n",
      "100%|████████████████████████████████████████████████████████████████████████████████████| 4/4 [00:02<00:00,  1.34it/s]\n",
      "100%|████████████████████████████████████████████████████████████████████████████████████| 6/6 [00:04<00:00,  1.22it/s]\n"
     ]
    }
   ],
   "source": [
    "from mrmr import mrmr_classif\n",
    "selected_features_20 = mrmr_classif(X=X_cat, y=y_b, K=2)\n",
    "selected_features_40 = mrmr_classif(X=X_cat, y=y_b, K=4)\n",
    "selected_features_60 = mrmr_classif(X=X_cat, y=y_b, K=6)"
   ]
  },
  {
   "cell_type": "code",
   "execution_count": null,
   "metadata": {},
   "outputs": [],
   "source": []
  },
  {
   "cell_type": "code",
   "execution_count": 56,
   "metadata": {
    "pycharm": {
     "is_executing": true
    }
   },
   "outputs": [],
   "source": [
    "X_mrmr_60 = X_cat[selected_features_60]\n",
    "X_mrmr_40 = X_cat[selected_features_40]\n",
    "X_mrmr_20 = X_cat[selected_features_20]\n",
    "\n",
    "list_dummy_20 = list(set( list(X_mrmr_20.columns)).intersection(dummy_feature))\n",
    "list_dummy_40 = list(set( list(X_mrmr_40.columns)).intersection(dummy_feature))\n",
    "list_dummy_60 = list(set( list(X_mrmr_60.columns)).intersection(dummy_feature))\n",
    "\n",
    "X_mrmr_20 = pd.get_dummies(X_mrmr_20, columns=list_dummy_20)\n",
    "X_mrmr_40 = pd.get_dummies(X_mrmr_40, columns=list_dummy_40)\n",
    "X_mrmr_60 = pd.get_dummies(X_mrmr_60, columns=list_dummy_60)"
   ]
  },
  {
   "cell_type": "code",
   "execution_count": null,
   "metadata": {},
   "outputs": [],
   "source": []
  },
  {
   "cell_type": "code",
   "execution_count": 57,
   "metadata": {
    "pycharm": {
     "is_executing": true
    }
   },
   "outputs": [
    {
     "ename": "NameError",
     "evalue": "name 'X' is not defined",
     "output_type": "error",
     "traceback": [
      "\u001b[1;31m---------------------------------------------------------------------------\u001b[0m",
      "\u001b[1;31mNameError\u001b[0m                                 Traceback (most recent call last)",
      "Cell \u001b[1;32mIn[57], line 1\u001b[0m\n\u001b[1;32m----> 1\u001b[0m X\u001b[38;5;241m.\u001b[39mhead(\u001b[38;5;241m4\u001b[39m)\n",
      "\u001b[1;31mNameError\u001b[0m: name 'X' is not defined"
     ]
    }
   ],
   "source": [
    "X.head(4)"
   ]
  },
  {
   "cell_type": "markdown",
   "metadata": {},
   "source": [
    "### Decision Tree"
   ]
  },
  {
   "cell_type": "code",
   "execution_count": null,
   "metadata": {},
   "outputs": [],
   "source": []
  },
  {
   "cell_type": "code",
   "execution_count": null,
   "metadata": {},
   "outputs": [],
   "source": []
  },
  {
   "cell_type": "code",
   "execution_count": null,
   "metadata": {},
   "outputs": [],
   "source": []
  },
  {
   "cell_type": "code",
   "execution_count": null,
   "metadata": {},
   "outputs": [],
   "source": []
  },
  {
   "cell_type": "code",
   "execution_count": null,
   "metadata": {},
   "outputs": [],
   "source": []
  },
  {
   "cell_type": "code",
   "execution_count": null,
   "metadata": {
    "pycharm": {
     "is_executing": true
    }
   },
   "outputs": [],
   "source": []
  },
  {
   "cell_type": "code",
   "execution_count": 61,
   "metadata": {},
   "outputs": [],
   "source": [
    "X_chi2_60 = X_chi2_60.astype(int)\n",
    "X_chi2_40 = X_chi2_40.astype(int)\n",
    "X_chi2_20 = X_chi2_20.astype(int)\n",
    "\n",
    "\n",
    "\n",
    "X_mrmr_60 = X_mrmr_60.astype(int)\n",
    "X_mrmr_40 = X_mrmr_40.astype(int)\n",
    "X_mrmr_20 = X_mrmr_20.astype(int)\n",
    "\n",
    "X_cat = X_cat.astype(int)"
   ]
  },
  {
   "cell_type": "code",
   "execution_count": 62,
   "metadata": {},
   "outputs": [
    {
     "data": {
      "text/html": [
       "<div>\n",
       "<style scoped>\n",
       "    .dataframe tbody tr th:only-of-type {\n",
       "        vertical-align: middle;\n",
       "    }\n",
       "\n",
       "    .dataframe tbody tr th {\n",
       "        vertical-align: top;\n",
       "    }\n",
       "\n",
       "    .dataframe thead th {\n",
       "        text-align: right;\n",
       "    }\n",
       "</style>\n",
       "<table border=\"1\" class=\"dataframe\">\n",
       "  <thead>\n",
       "    <tr style=\"text-align: right;\">\n",
       "      <th></th>\n",
       "      <th>PROTOCOL</th>\n",
       "      <th>L7_PROTO</th>\n",
       "      <th>DNS_QUERY_TYPE</th>\n",
       "      <th>ICMP_TYPE</th>\n",
       "      <th>ICMP_IPV4_TYPE</th>\n",
       "      <th>DNS_TTL_ANSWER</th>\n",
       "      <th>L4_SRC_PORT_C</th>\n",
       "      <th>L4_DST_PORT_C</th>\n",
       "      <th>IPV4_DST_ADDR_CLASSE</th>\n",
       "      <th>IPV4_SRC_ADDR_CLASSE</th>\n",
       "    </tr>\n",
       "  </thead>\n",
       "  <tbody>\n",
       "    <tr>\n",
       "      <th>0</th>\n",
       "      <td>6</td>\n",
       "      <td>0</td>\n",
       "      <td>0</td>\n",
       "      <td>0</td>\n",
       "      <td>0</td>\n",
       "      <td>0</td>\n",
       "      <td>1</td>\n",
       "      <td>1</td>\n",
       "      <td>3</td>\n",
       "      <td>3</td>\n",
       "    </tr>\n",
       "    <tr>\n",
       "      <th>1</th>\n",
       "      <td>6</td>\n",
       "      <td>0</td>\n",
       "      <td>0</td>\n",
       "      <td>0</td>\n",
       "      <td>0</td>\n",
       "      <td>0</td>\n",
       "      <td>2</td>\n",
       "      <td>1</td>\n",
       "      <td>3</td>\n",
       "      <td>3</td>\n",
       "    </tr>\n",
       "    <tr>\n",
       "      <th>2</th>\n",
       "      <td>6</td>\n",
       "      <td>0</td>\n",
       "      <td>0</td>\n",
       "      <td>0</td>\n",
       "      <td>0</td>\n",
       "      <td>0</td>\n",
       "      <td>2</td>\n",
       "      <td>1</td>\n",
       "      <td>3</td>\n",
       "      <td>3</td>\n",
       "    </tr>\n",
       "    <tr>\n",
       "      <th>3</th>\n",
       "      <td>6</td>\n",
       "      <td>0</td>\n",
       "      <td>0</td>\n",
       "      <td>0</td>\n",
       "      <td>0</td>\n",
       "      <td>0</td>\n",
       "      <td>2</td>\n",
       "      <td>1</td>\n",
       "      <td>3</td>\n",
       "      <td>3</td>\n",
       "    </tr>\n",
       "    <tr>\n",
       "      <th>4</th>\n",
       "      <td>6</td>\n",
       "      <td>0</td>\n",
       "      <td>0</td>\n",
       "      <td>0</td>\n",
       "      <td>0</td>\n",
       "      <td>0</td>\n",
       "      <td>1</td>\n",
       "      <td>1</td>\n",
       "      <td>3</td>\n",
       "      <td>3</td>\n",
       "    </tr>\n",
       "    <tr>\n",
       "      <th>...</th>\n",
       "      <td>...</td>\n",
       "      <td>...</td>\n",
       "      <td>...</td>\n",
       "      <td>...</td>\n",
       "      <td>...</td>\n",
       "      <td>...</td>\n",
       "      <td>...</td>\n",
       "      <td>...</td>\n",
       "      <td>...</td>\n",
       "      <td>...</td>\n",
       "    </tr>\n",
       "    <tr>\n",
       "      <th>95</th>\n",
       "      <td>6</td>\n",
       "      <td>0</td>\n",
       "      <td>0</td>\n",
       "      <td>0</td>\n",
       "      <td>0</td>\n",
       "      <td>0</td>\n",
       "      <td>1</td>\n",
       "      <td>1</td>\n",
       "      <td>3</td>\n",
       "      <td>3</td>\n",
       "    </tr>\n",
       "    <tr>\n",
       "      <th>96</th>\n",
       "      <td>6</td>\n",
       "      <td>0</td>\n",
       "      <td>0</td>\n",
       "      <td>0</td>\n",
       "      <td>0</td>\n",
       "      <td>0</td>\n",
       "      <td>1</td>\n",
       "      <td>1</td>\n",
       "      <td>3</td>\n",
       "      <td>3</td>\n",
       "    </tr>\n",
       "    <tr>\n",
       "      <th>97</th>\n",
       "      <td>6</td>\n",
       "      <td>0</td>\n",
       "      <td>0</td>\n",
       "      <td>0</td>\n",
       "      <td>0</td>\n",
       "      <td>0</td>\n",
       "      <td>1</td>\n",
       "      <td>2</td>\n",
       "      <td>3</td>\n",
       "      <td>3</td>\n",
       "    </tr>\n",
       "    <tr>\n",
       "      <th>98</th>\n",
       "      <td>17</td>\n",
       "      <td>0</td>\n",
       "      <td>0</td>\n",
       "      <td>0</td>\n",
       "      <td>0</td>\n",
       "      <td>0</td>\n",
       "      <td>2</td>\n",
       "      <td>1</td>\n",
       "      <td>4</td>\n",
       "      <td>3</td>\n",
       "    </tr>\n",
       "    <tr>\n",
       "      <th>99</th>\n",
       "      <td>6</td>\n",
       "      <td>0</td>\n",
       "      <td>0</td>\n",
       "      <td>0</td>\n",
       "      <td>0</td>\n",
       "      <td>0</td>\n",
       "      <td>1</td>\n",
       "      <td>1</td>\n",
       "      <td>3</td>\n",
       "      <td>3</td>\n",
       "    </tr>\n",
       "  </tbody>\n",
       "</table>\n",
       "<p>100 rows × 10 columns</p>\n",
       "</div>"
      ],
      "text/plain": [
       "    PROTOCOL  L7_PROTO  DNS_QUERY_TYPE  ICMP_TYPE  ICMP_IPV4_TYPE  \\\n",
       "0          6         0               0          0               0   \n",
       "1          6         0               0          0               0   \n",
       "2          6         0               0          0               0   \n",
       "3          6         0               0          0               0   \n",
       "4          6         0               0          0               0   \n",
       "..       ...       ...             ...        ...             ...   \n",
       "95         6         0               0          0               0   \n",
       "96         6         0               0          0               0   \n",
       "97         6         0               0          0               0   \n",
       "98        17         0               0          0               0   \n",
       "99         6         0               0          0               0   \n",
       "\n",
       "    DNS_TTL_ANSWER  L4_SRC_PORT_C  L4_DST_PORT_C  IPV4_DST_ADDR_CLASSE  \\\n",
       "0                0              1              1                     3   \n",
       "1                0              2              1                     3   \n",
       "2                0              2              1                     3   \n",
       "3                0              2              1                     3   \n",
       "4                0              1              1                     3   \n",
       "..             ...            ...            ...                   ...   \n",
       "95               0              1              1                     3   \n",
       "96               0              1              1                     3   \n",
       "97               0              1              2                     3   \n",
       "98               0              2              1                     4   \n",
       "99               0              1              1                     3   \n",
       "\n",
       "    IPV4_SRC_ADDR_CLASSE  \n",
       "0                      3  \n",
       "1                      3  \n",
       "2                      3  \n",
       "3                      3  \n",
       "4                      3  \n",
       "..                   ...  \n",
       "95                     3  \n",
       "96                     3  \n",
       "97                     3  \n",
       "98                     3  \n",
       "99                     3  \n",
       "\n",
       "[100 rows x 10 columns]"
      ]
     },
     "execution_count": 62,
     "metadata": {},
     "output_type": "execute_result"
    }
   ],
   "source": [
    "X_cat"
   ]
  },
  {
   "cell_type": "raw",
   "metadata": {},
   "source": [
    "del ton_iot_copy\n",
    "del ton_iot\n",
    "del X_train\n",
    "del y_train\n"
   ]
  },
  {
   "cell_type": "code",
   "execution_count": 63,
   "metadata": {},
   "outputs": [],
   "source": [
    "X_A_chi2_20 = pd.concat([X_A_20,X_chi2_20],axis=1)\n",
    "X_A_chi2_40 = pd.concat([X_A_40,X_chi2_40],axis=1)\n",
    "X_A_chi2_60 = pd.concat([X_A_60,X_chi2_60],axis=1)\n",
    "\n",
    "\n",
    "X_A_mRMR_20 = pd.concat([X_A_20,X_mrmr_20],axis=1)\n",
    "X_A_mRMR_40 = pd.concat([X_A_40,X_mrmr_40],axis=1)\n",
    "X_A_mRMR_60 = pd.concat([X_A_60,X_mrmr_60],axis=1)\n"
   ]
  },
  {
   "cell_type": "code",
   "execution_count": null,
   "metadata": {},
   "outputs": [],
   "source": []
  },
  {
   "cell_type": "raw",
   "metadata": {},
   "source": [
    "\n",
    "X_A_chi2_20.to_csv('X_A_chi2_20.csv',index=False)\n",
    "X_A_chi2_40.to_csv('X_A_chi2_40.csv',index=False)\n",
    "X_A_chi2_60.to_csv('X_A_chi2_60.csv',index=False)\n",
    "# =================================================#\n",
    "\n",
    "X_A_mRMR_20.to_csv('X_A_mRMR_20.csv',index=False)\n",
    "X_A_mRMR_40.to_csv('X_A_mRMR_40.csv',index=False)\n",
    "X_A_mRMR_60.to_csv('X_A_mRMR_60.csv',index=False)\n",
    "\n",
    "# =================================================#\n",
    "\n",
    "X.to_csv('X.csv',index=False)\n"
   ]
  },
  {
   "cell_type": "raw",
   "metadata": {},
   "source": [
    "y_b.to_csv('y_b.csv',index=False)\n"
   ]
  },
  {
   "cell_type": "markdown",
   "metadata": {},
   "source": [
    "# Insert the new code for import here"
   ]
  },
  {
   "cell_type": "code",
   "execution_count": null,
   "metadata": {},
   "outputs": [],
   "source": []
  },
  {
   "cell_type": "code",
   "execution_count": 65,
   "metadata": {
    "pycharm": {
     "is_executing": true
    }
   },
   "outputs": [],
   "source": [
    "datasets = {\"X_A_chi2_20\":X_A_chi2_20,\n",
    "\"X_A_chi2_40\":X_A_chi2_40,\n",
    "\"X_A_chi2_60\":X_A_chi2_60,\n",
    "\n",
    "\"X_A_mRMR_20\":X_A_mRMR_20,\n",
    "\"X_A_mRMR_40\":X_A_mRMR_40,\n",
    "\"X_A_mRMR_60\":X_A_mRMR_60,\n",
    "            }"
   ]
  },
  {
   "cell_type": "code",
   "execution_count": 66,
   "metadata": {},
   "outputs": [
    {
     "ename": "NameError",
     "evalue": "name 'X' is not defined",
     "output_type": "error",
     "traceback": [
      "\u001b[1;31m---------------------------------------------------------------------------\u001b[0m",
      "\u001b[1;31mNameError\u001b[0m                                 Traceback (most recent call last)",
      "Cell \u001b[1;32mIn[66], line 9\u001b[0m\n\u001b[0;32m      6\u001b[0m \u001b[38;5;28;01mdel\u001b[39;00m X_A_mRMR_40,\n\u001b[0;32m      7\u001b[0m \u001b[38;5;28;01mdel\u001b[39;00m X_A_mRMR_60\n\u001b[1;32m----> 9\u001b[0m \u001b[38;5;28;01mdel\u001b[39;00m X\n",
      "\u001b[1;31mNameError\u001b[0m: name 'X' is not defined"
     ]
    }
   ],
   "source": [
    "del X_A_chi2_20,\n",
    "del X_A_chi2_40,\n",
    "del X_A_chi2_60,\n",
    "\n",
    "del X_A_mRMR_20,\n",
    "del X_A_mRMR_40,\n",
    "del X_A_mRMR_60\n",
    "            \n"
   ]
  },
  {
   "cell_type": "code",
   "execution_count": 68,
   "metadata": {},
   "outputs": [],
   "source": []
  },
  {
   "cell_type": "code",
   "execution_count": 87,
   "metadata": {},
   "outputs": [],
   "source": [
    "\n"
   ]
  },
  {
   "cell_type": "code",
   "execution_count": 93,
   "metadata": {},
   "outputs": [],
   "source": []
  },
  {
   "cell_type": "code",
   "execution_count": 104,
   "metadata": {},
   "outputs": [],
   "source": [
    "\n"
   ]
  },
  {
   "cell_type": "code",
   "execution_count": null,
   "metadata": {},
   "outputs": [],
   "source": []
  },
  {
   "cell_type": "code",
   "execution_count": null,
   "metadata": {},
   "outputs": [],
   "source": []
  },
  {
   "cell_type": "code",
   "execution_count": null,
   "metadata": {},
   "outputs": [],
   "source": []
  },
  {
   "cell_type": "code",
   "execution_count": 96,
   "metadata": {},
   "outputs": [],
   "source": [
    "X[-1] = np.zeros(len(X[-1]))"
   ]
  },
  {
   "cell_type": "code",
   "execution_count": 97,
   "metadata": {},
   "outputs": [
    {
     "data": {
      "text/plain": [
       "array([[ 0.,  0.,  5., ...,  0.,  0.,  0.],\n",
       "       [ 0.,  0.,  0., ..., 10.,  0.,  0.],\n",
       "       [ 0.,  0.,  1., ...,  3.,  0.,  0.],\n",
       "       ...,\n",
       "       [ 0.,  0.,  5., ...,  8.,  1.,  0.],\n",
       "       [ 0.,  0.,  6., ...,  4.,  0.,  0.],\n",
       "       [ 0.,  0.,  0., ...,  0.,  0.,  0.]])"
      ]
     },
     "execution_count": 97,
     "metadata": {},
     "output_type": "execute_result"
    }
   ],
   "source": [
    "X"
   ]
  },
  {
   "cell_type": "code",
   "execution_count": null,
   "metadata": {},
   "outputs": [],
   "source": []
  },
  {
   "cell_type": "code",
   "execution_count": null,
   "metadata": {},
   "outputs": [],
   "source": []
  },
  {
   "cell_type": "code",
   "execution_count": 92,
   "metadata": {},
   "outputs": [
    {
     "name": "stdout",
     "output_type": "stream",
     "text": [
      "1.7.1\n"
     ]
    },
    {
     "ename": "ValueError",
     "evalue": "Invalid classes inferred from unique values of `y`.  Expected: [0 1], got [1. 2.]",
     "output_type": "error",
     "traceback": [
      "\u001b[1;31m---------------------------------------------------------------------------\u001b[0m",
      "\u001b[1;31mValueError\u001b[0m                                Traceback (most recent call last)",
      "Cell \u001b[1;32mIn[92], line 13\u001b[0m\n\u001b[0;32m      9\u001b[0m \u001b[38;5;28mprint\u001b[39m(xgboost\u001b[38;5;241m.\u001b[39m__version__)\n\u001b[0;32m     12\u001b[0m clf \u001b[38;5;241m=\u001b[39m XGBClassifier(random_state\u001b[38;5;241m=\u001b[39m\u001b[38;5;241m0\u001b[39m, n_estimators \u001b[38;5;241m=\u001b[39m \u001b[38;5;241m5\u001b[39m)\n\u001b[1;32m---> 13\u001b[0m clf\u001b[38;5;241m.\u001b[39mfit(datasets[\u001b[38;5;124m'\u001b[39m\u001b[38;5;124mX_A_chi2_20\u001b[39m\u001b[38;5;124m'\u001b[39m],one_hot_encoded_tmp)\n\u001b[0;32m     14\u001b[0m contenent \u001b[38;5;241m=\u001b[39m port(clf, tmp_file\u001b[38;5;241m=\u001b[39m\u001b[38;5;124m'\u001b[39m\u001b[38;5;124m./model.json\u001b[39m\u001b[38;5;124m'\u001b[39m)\n",
      "File \u001b[1;32m~\\anaconda3\\Lib\\site-packages\\xgboost\\core.py:620\u001b[0m, in \u001b[0;36mrequire_keyword_args.<locals>.throw_if.<locals>.inner_f\u001b[1;34m(*args, **kwargs)\u001b[0m\n\u001b[0;32m    618\u001b[0m \u001b[38;5;28;01mfor\u001b[39;00m k, arg \u001b[38;5;129;01min\u001b[39;00m \u001b[38;5;28mzip\u001b[39m(sig\u001b[38;5;241m.\u001b[39mparameters, args):\n\u001b[0;32m    619\u001b[0m     kwargs[k] \u001b[38;5;241m=\u001b[39m arg\n\u001b[1;32m--> 620\u001b[0m \u001b[38;5;28;01mreturn\u001b[39;00m func(\u001b[38;5;241m*\u001b[39m\u001b[38;5;241m*\u001b[39mkwargs)\n",
      "File \u001b[1;32m~\\anaconda3\\Lib\\site-packages\\xgboost\\sklearn.py:1466\u001b[0m, in \u001b[0;36mXGBClassifier.fit\u001b[1;34m(self, X, y, sample_weight, base_margin, eval_set, eval_metric, early_stopping_rounds, verbose, xgb_model, sample_weight_eval_set, base_margin_eval_set, feature_weights, callbacks)\u001b[0m\n\u001b[0;32m   1461\u001b[0m     expected_classes \u001b[38;5;241m=\u001b[39m np\u001b[38;5;241m.\u001b[39marange(\u001b[38;5;28mself\u001b[39m\u001b[38;5;241m.\u001b[39mn_classes_)\n\u001b[0;32m   1462\u001b[0m \u001b[38;5;28;01mif\u001b[39;00m (\n\u001b[0;32m   1463\u001b[0m     \u001b[38;5;28mself\u001b[39m\u001b[38;5;241m.\u001b[39mclasses_\u001b[38;5;241m.\u001b[39mshape \u001b[38;5;241m!=\u001b[39m expected_classes\u001b[38;5;241m.\u001b[39mshape\n\u001b[0;32m   1464\u001b[0m     \u001b[38;5;129;01mor\u001b[39;00m \u001b[38;5;129;01mnot\u001b[39;00m (\u001b[38;5;28mself\u001b[39m\u001b[38;5;241m.\u001b[39mclasses_ \u001b[38;5;241m==\u001b[39m expected_classes)\u001b[38;5;241m.\u001b[39mall()\n\u001b[0;32m   1465\u001b[0m ):\n\u001b[1;32m-> 1466\u001b[0m     \u001b[38;5;28;01mraise\u001b[39;00m \u001b[38;5;167;01mValueError\u001b[39;00m(\n\u001b[0;32m   1467\u001b[0m         \u001b[38;5;124mf\u001b[39m\u001b[38;5;124m\"\u001b[39m\u001b[38;5;124mInvalid classes inferred from unique values of `y`.  \u001b[39m\u001b[38;5;124m\"\u001b[39m\n\u001b[0;32m   1468\u001b[0m         \u001b[38;5;124mf\u001b[39m\u001b[38;5;124m\"\u001b[39m\u001b[38;5;124mExpected: \u001b[39m\u001b[38;5;132;01m{\u001b[39;00mexpected_classes\u001b[38;5;132;01m}\u001b[39;00m\u001b[38;5;124m, got \u001b[39m\u001b[38;5;132;01m{\u001b[39;00m\u001b[38;5;28mself\u001b[39m\u001b[38;5;241m.\u001b[39mclasses_\u001b[38;5;132;01m}\u001b[39;00m\u001b[38;5;124m\"\u001b[39m\n\u001b[0;32m   1469\u001b[0m     )\n\u001b[0;32m   1471\u001b[0m params \u001b[38;5;241m=\u001b[39m \u001b[38;5;28mself\u001b[39m\u001b[38;5;241m.\u001b[39mget_xgb_params()\n\u001b[0;32m   1473\u001b[0m \u001b[38;5;28;01mif\u001b[39;00m \u001b[38;5;28mcallable\u001b[39m(\u001b[38;5;28mself\u001b[39m\u001b[38;5;241m.\u001b[39mobjective):\n",
      "\u001b[1;31mValueError\u001b[0m: Invalid classes inferred from unique values of `y`.  Expected: [0 1], got [1. 2.]"
     ]
    }
   ],
   "source": [
    "import xgboost\n",
    "\n",
    "from xgboost import  XGBClassifier\n",
    "\n",
    "from micromlgen import port\n",
    "import micromlgen\n",
    "\n",
    "\n",
    "print(xgboost.__version__)\n",
    "\n",
    "\n",
    "clf = XGBClassifier(random_state=0, n_estimators = 5)\n",
    "clf.fit(datasets['X_A_chi2_20'],one_hot_encoded_tmp)\n",
    "contenent = port(clf, tmp_file='./model.json')\n"
   ]
  },
  {
   "cell_type": "code",
   "execution_count": 56,
   "metadata": {},
   "outputs": [
    {
     "data": {
      "text/plain": [
       "Index(['OUT_PKTS', 'LONGEST_FLOW_PKT', 'SRC_TO_DST_AVG_THROUGHPUT',\n",
       "       'NUM_PKTS_UP_TO_128_BYTES', 'TCP_WIN_MAX_IN', 'L7_PROTO_0',\n",
       "       'L7_PROTO_92', 'L7_PROTO_999', 'PROTOCOL_6', 'PROTOCOL_17'],\n",
       "      dtype='object')"
      ]
     },
     "execution_count": 56,
     "metadata": {},
     "output_type": "execute_result"
    }
   ],
   "source": [
    "datasets['X_A_chi2_20'].columns"
   ]
  },
  {
   "cell_type": "code",
   "execution_count": 57,
   "metadata": {},
   "outputs": [],
   "source": []
  },
  {
   "cell_type": "code",
   "execution_count": 58,
   "metadata": {},
   "outputs": [
    {
     "data": {
      "text/html": [
       "<style>#sk-container-id-1 {color: black;}#sk-container-id-1 pre{padding: 0;}#sk-container-id-1 div.sk-toggleable {background-color: white;}#sk-container-id-1 label.sk-toggleable__label {cursor: pointer;display: block;width: 100%;margin-bottom: 0;padding: 0.3em;box-sizing: border-box;text-align: center;}#sk-container-id-1 label.sk-toggleable__label-arrow:before {content: \"▸\";float: left;margin-right: 0.25em;color: #696969;}#sk-container-id-1 label.sk-toggleable__label-arrow:hover:before {color: black;}#sk-container-id-1 div.sk-estimator:hover label.sk-toggleable__label-arrow:before {color: black;}#sk-container-id-1 div.sk-toggleable__content {max-height: 0;max-width: 0;overflow: hidden;text-align: left;background-color: #f0f8ff;}#sk-container-id-1 div.sk-toggleable__content pre {margin: 0.2em;color: black;border-radius: 0.25em;background-color: #f0f8ff;}#sk-container-id-1 input.sk-toggleable__control:checked~div.sk-toggleable__content {max-height: 200px;max-width: 100%;overflow: auto;}#sk-container-id-1 input.sk-toggleable__control:checked~label.sk-toggleable__label-arrow:before {content: \"▾\";}#sk-container-id-1 div.sk-estimator input.sk-toggleable__control:checked~label.sk-toggleable__label {background-color: #d4ebff;}#sk-container-id-1 div.sk-label input.sk-toggleable__control:checked~label.sk-toggleable__label {background-color: #d4ebff;}#sk-container-id-1 input.sk-hidden--visually {border: 0;clip: rect(1px 1px 1px 1px);clip: rect(1px, 1px, 1px, 1px);height: 1px;margin: -1px;overflow: hidden;padding: 0;position: absolute;width: 1px;}#sk-container-id-1 div.sk-estimator {font-family: monospace;background-color: #f0f8ff;border: 1px dotted black;border-radius: 0.25em;box-sizing: border-box;margin-bottom: 0.5em;}#sk-container-id-1 div.sk-estimator:hover {background-color: #d4ebff;}#sk-container-id-1 div.sk-parallel-item::after {content: \"\";width: 100%;border-bottom: 1px solid gray;flex-grow: 1;}#sk-container-id-1 div.sk-label:hover label.sk-toggleable__label {background-color: #d4ebff;}#sk-container-id-1 div.sk-serial::before {content: \"\";position: absolute;border-left: 1px solid gray;box-sizing: border-box;top: 0;bottom: 0;left: 50%;z-index: 0;}#sk-container-id-1 div.sk-serial {display: flex;flex-direction: column;align-items: center;background-color: white;padding-right: 0.2em;padding-left: 0.2em;position: relative;}#sk-container-id-1 div.sk-item {position: relative;z-index: 1;}#sk-container-id-1 div.sk-parallel {display: flex;align-items: stretch;justify-content: center;background-color: white;position: relative;}#sk-container-id-1 div.sk-item::before, #sk-container-id-1 div.sk-parallel-item::before {content: \"\";position: absolute;border-left: 1px solid gray;box-sizing: border-box;top: 0;bottom: 0;left: 50%;z-index: -1;}#sk-container-id-1 div.sk-parallel-item {display: flex;flex-direction: column;z-index: 1;position: relative;background-color: white;}#sk-container-id-1 div.sk-parallel-item:first-child::after {align-self: flex-end;width: 50%;}#sk-container-id-1 div.sk-parallel-item:last-child::after {align-self: flex-start;width: 50%;}#sk-container-id-1 div.sk-parallel-item:only-child::after {width: 0;}#sk-container-id-1 div.sk-dashed-wrapped {border: 1px dashed gray;margin: 0 0.4em 0.5em 0.4em;box-sizing: border-box;padding-bottom: 0.4em;background-color: white;}#sk-container-id-1 div.sk-label label {font-family: monospace;font-weight: bold;display: inline-block;line-height: 1.2em;}#sk-container-id-1 div.sk-label-container {text-align: center;}#sk-container-id-1 div.sk-container {/* jupyter's `normalize.less` sets `[hidden] { display: none; }` but bootstrap.min.css set `[hidden] { display: none !important; }` so we also need the `!important` here to be able to override the default hidden behavior on the sphinx rendered scikit-learn.org. See: https://github.com/scikit-learn/scikit-learn/issues/21755 */display: inline-block !important;position: relative;}#sk-container-id-1 div.sk-text-repr-fallback {display: none;}</style><div id=\"sk-container-id-1\" class=\"sk-top-container\"><div class=\"sk-text-repr-fallback\"><pre>DecisionTreeClassifier()</pre><b>In a Jupyter environment, please rerun this cell to show the HTML representation or trust the notebook. <br />On GitHub, the HTML representation is unable to render, please try loading this page with nbviewer.org.</b></div><div class=\"sk-container\" hidden><div class=\"sk-item\"><div class=\"sk-estimator sk-toggleable\"><input class=\"sk-toggleable__control sk-hidden--visually\" id=\"sk-estimator-id-1\" type=\"checkbox\" checked><label for=\"sk-estimator-id-1\" class=\"sk-toggleable__label sk-toggleable__label-arrow\">DecisionTreeClassifier</label><div class=\"sk-toggleable__content\"><pre>DecisionTreeClassifier()</pre></div></div></div></div></div>"
      ],
      "text/plain": [
       "DecisionTreeClassifier()"
      ]
     },
     "execution_count": 58,
     "metadata": {},
     "output_type": "execute_result"
    }
   ],
   "source": [
    "from sklearn.tree import DecisionTreeClassifier\n",
    "\n",
    "clf = DecisionTreeClassifier()\n",
    "\n",
    "clf.fit(datasets['X_A_chi2_20'],y_b)"
   ]
  },
  {
   "cell_type": "code",
   "execution_count": 59,
   "metadata": {},
   "outputs": [],
   "source": [
    "contenent = port(clf)\n"
   ]
  },
  {
   "cell_type": "code",
   "execution_count": 109,
   "metadata": {},
   "outputs": [],
   "source": []
  },
  {
   "cell_type": "code",
   "execution_count": null,
   "metadata": {},
   "outputs": [],
   "source": []
  },
  {
   "cell_type": "code",
   "execution_count": null,
   "metadata": {},
   "outputs": [],
   "source": []
  },
  {
   "cell_type": "code",
   "execution_count": null,
   "metadata": {},
   "outputs": [],
   "source": []
  },
  {
   "cell_type": "code",
   "execution_count": null,
   "metadata": {},
   "outputs": [],
   "source": []
  },
  {
   "cell_type": "code",
   "execution_count": 107,
   "metadata": {},
   "outputs": [],
   "source": [
    "from micromlgen import port\n",
    "\n",
    "def create_folder(path):\n",
    "    path_temp = Path(path)\n",
    "    path_temp.mkdir(parents=True)\n",
    "    \n",
    "import sys\n",
    "def save_my_model(path,name_file,extension,contenent):\n",
    "    orig_stdout = sys.stdout\n",
    "    f = open(path+'/'+name_file+'.'+extension , 'w')\n",
    "    sys.stdout = f\n",
    "    print(contenent)\n",
    "    sys.stdout = orig_stdout\n",
    "    f.close()"
   ]
  },
  {
   "cell_type": "code",
   "execution_count": 110,
   "metadata": {},
   "outputs": [],
   "source": [
    "from sklearn.ensemble import RandomForestClassifier\n",
    "import os \n",
    "from pathlib import Path\n",
    "\n",
    "\n",
    "file_names = []\n",
    "for k, data in datasets.items():\n",
    "    for  n_estimators in [5, 20, 40, 70, 100] :\n",
    "        clf = RandomForestClassifier(random_state=0, n_estimators = n_estimators)\n",
    "        clf.fit(data,y_b)\n",
    "        contenent = port(clf)\n",
    "        k = k.replace(\"X_\", \"\")\n",
    "        file_name= k + \"_RF\"+\"_\"+str(n_estimators)\n",
    "        file_names.append(file_name)\n",
    "        if not os.path.exists('tinyml_result_ton/RF/'+file_name):\n",
    "            create_folder('tinyml_result_ton/RF/'+file_name)\n",
    "        save_my_model(\"tinyml_result_ton/RF/\"+file_name,file_name,'h',contenent)\n",
    "        "
   ]
  },
  {
   "cell_type": "code",
   "execution_count": null,
   "metadata": {},
   "outputs": [],
   "source": []
  },
  {
   "cell_type": "code",
   "execution_count": null,
   "metadata": {},
   "outputs": [],
   "source": []
  },
  {
   "cell_type": "code",
   "execution_count": null,
   "metadata": {},
   "outputs": [],
   "source": []
  },
  {
   "cell_type": "code",
   "execution_count": 111,
   "metadata": {},
   "outputs": [],
   "source": [
    "from sklearn.ensemble import RandomForestClassifier\n",
    "from xgboost import  XGBClassifier\n",
    "\n",
    "import os \n",
    "from pathlib import Path\n",
    "\n",
    "y = y_b.copy()\n",
    "y = y.to_numpy()\n",
    "y[-1] = y.max() + 1\n",
    "\n",
    "file_names = []\n",
    "for k, data in datasets.items():\n",
    "    for  n_estimators in [5, 20, 40, 70, 100] :\n",
    "        clf = XGBClassifier(random_state=0, n_estimators = n_estimators)\n",
    "        clf.fit(data,y)\n",
    "        contenent = port(clf, tmp_file='./model.json')\n",
    "        k = k.replace(\"X_\", \"\")\n",
    "        file_name= k + \"_XGB\"+\"_\"+str(n_estimators)\n",
    "        file_names.append(file_name)\n",
    "        if not os.path.exists('tinyml_result_ton/XGB/'+file_name):\n",
    "            create_folder('tinyml_result_ton/XGB/'+file_name)\n",
    "        save_my_model(\"tinyml_result_ton/XGB/\"+file_name,file_name,'h',contenent)\n"
   ]
  },
  {
   "cell_type": "code",
   "execution_count": null,
   "metadata": {},
   "outputs": [],
   "source": []
  },
  {
   "cell_type": "code",
   "execution_count": null,
   "metadata": {},
   "outputs": [],
   "source": [
    "\n"
   ]
  },
  {
   "cell_type": "code",
   "execution_count": null,
   "metadata": {},
   "outputs": [],
   "source": []
  },
  {
   "cell_type": "code",
   "execution_count": null,
   "metadata": {},
   "outputs": [],
   "source": []
  }
 ],
 "metadata": {
  "kernelspec": {
   "display_name": "Python 3 (ipykernel)",
   "language": "python",
   "name": "python3"
  },
  "language_info": {
   "codemirror_mode": {
    "name": "ipython",
    "version": 3
   },
   "file_extension": ".py",
   "mimetype": "text/x-python",
   "name": "python",
   "nbconvert_exporter": "python",
   "pygments_lexer": "ipython3",
   "version": "3.11.4"
  }
 },
 "nbformat": 4,
 "nbformat_minor": 1
}
