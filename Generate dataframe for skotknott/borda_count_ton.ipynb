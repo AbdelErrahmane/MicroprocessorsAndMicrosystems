{
  "cells": [
    {
      "cell_type": "markdown",
      "metadata": {},
      "source": [
        "# Borda Count NF-BoT-IoT-v2"
      ]
    },
    {
      "cell_type": "code",
      "execution_count": 27,
      "metadata": {},
      "outputs": [],
      "source": [
        "from itertools import chain\n",
        "from pathlib import Path\n",
        "import json\n",
        "import pandas as pd\n",
        "\n",
        "def convert(path):\n",
        "    f = open(path)\n",
        "    name_file = Path(f.name).stem\n",
        "\n",
        "    name_file = name_file.replace('ExtraTreesClassifier','ET').replace('GaussianNB','NB').replace('DecisionTreeClassifier','DT')\\\n",
        "    .replace('RandomForestClassifier','RF').replace('LGBMClassifier','LB').replace('XGBClassifier','XB').replace('X_','').replace('A_mRMR_','')\n",
        "\n",
        "    data_algo = name_file.split('_')\n",
        "\n",
        "    final_name = f'{data_algo[0]}_{data_algo[-2:-1][0]}_{data_algo[-1:][0]}'\n",
        "    final_name = final_name.replace('__X','100')\n",
        "    final_name = final_name.replace('__','')\n",
        "\n",
        "\n",
        "    data = json.load(f)\n",
        "    accuracies = data['mean_test_Accuracy']\n",
        "    f1_scores = data['mean_test_F1-Score']\n",
        "    mccs = data['mean_test_MCC']\n",
        "    kappass = data['mean_test_Kappa']\n",
        "    params = data['params']\n",
        "    zipSorted=sorted(zip(accuracies,f1_scores,mccs,kappass, params),key = lambda t: t[0],reverse=True)\n",
        "    my_dict=params\n",
        "    my_data=[]\n",
        "    for accuracy, f1, recall, precision, param in zipSorted:\n",
        "        score={\"Algo\":final_name ,\"Accuracy\":accuracy,\"F1-Score\":f1,'MCC':recall , 'Kappa':precision }\n",
        "        my_data_tmp =  dict(chain.from_iterable(d.items() for d in (score, param)))\n",
        "        my_data.append(my_data_tmp)\n",
        "    return final_name , pd.DataFrame(data=my_data)"
      ]
    },
    {
      "cell_type": "code",
      "execution_count": 28,
      "metadata": {},
      "outputs": [],
      "source": [
        "from os import listdir\n",
        "from os.path import isfile, join\n",
        "mypath = './result_multi_ton'\n",
        "my_files = [f for f in listdir(mypath) if isfile(join(mypath, f))]\n",
        "my_result_mean = {}\n",
        "for f in my_files:\n",
        "  path_file = join(mypath, f)\n",
        "  k,v = convert(path_file)\n",
        "  my_result_mean[k] = v"
      ]
    },
    {
      "cell_type": "code",
      "execution_count": 29,
      "metadata": {},
      "outputs": [
        {
          "data": {
            "text/plain": [
              "dict_keys(['DT100', 'DT20', 'DT40', 'DT60', 'ET100', 'ET20', 'ET40', 'ET60', 'NB100', 'NB20', 'NB40', 'NB60', 'MLP100', 'MLP20', 'MLP40', 'MLP60', 'RF100', 'RF20', 'RF40', 'RF60', 'XB100', 'XB20', 'XB40', 'XB60'])"
            ]
          },
          "execution_count": 29,
          "metadata": {},
          "output_type": "execute_result"
        }
      ],
      "source": [
        "my_result_mean.keys()"
      ]
    },
    {
      "cell_type": "code",
      "execution_count": null,
      "metadata": {},
      "outputs": [],
      "source": []
    },
    {
      "cell_type": "code",
      "execution_count": 30,
      "metadata": {},
      "outputs": [],
      "source": [
        "key_list = [ 'ET20', 'ET40', 'ET60','ET100',  'RF20', 'RF40', 'RF60', 'RF100', 'XB20', 'XB40', 'XB60', 'XB100']\n",
        "my_list = []\n",
        "filtered_dict_ensemble = {key: value for key, value in my_result_mean.items() if key in key_list}\n",
        "for k,v in filtered_dict_ensemble.items():\n",
        "    v['Algo'] = v.apply(lambda x: f\"{x['Algo']}_E{x['n_estimators']}D{x['max_depth']}\", axis=1)\n",
        "    filtered_dict_ensemble[k] = v[['Algo','MCC','Kappa']]\n",
        "    my_list.append(filtered_dict_ensemble[k])\n",
        "\n",
        "df_ensemble = pd.concat(my_list)"
      ]
    },
    {
      "cell_type": "code",
      "execution_count": 31,
      "metadata": {},
      "outputs": [],
      "source": [
        "key_list = ['DT100', 'DT20', 'DT40', 'DT60']\n",
        "my_list = []\n",
        "\n",
        "filtered_dict_DT = {key: value for key, value in my_result_mean.items() if key in key_list}\n",
        "\n",
        "for k,v in filtered_dict_DT.items():\n",
        "    v['Algo'] = v.apply(lambda x: f\"{x['Algo']}_D{x['max_depth']}\", axis=1)\n",
        "    filtered_dict_DT[k] = v[['Algo','MCC','Kappa']]\n",
        "    my_list.append(filtered_dict_DT[k])\n",
        "\n",
        "df_DT = pd.concat(my_list)"
      ]
    },
    {
      "cell_type": "code",
      "execution_count": 32,
      "metadata": {},
      "outputs": [],
      "source": [
        "key_list = ['MLP100', 'MLP20', 'MLP40', 'MLP60']\n",
        "\n",
        "my_list = []\n",
        "\n",
        "filtered_dict_MLP = {key: value for key, value in my_result_mean.items() if key in key_list}\n",
        "\n",
        "for k,v in filtered_dict_MLP.items():\n",
        "    v['Algo'] = v.apply(lambda x: f\"{x['Algo']}_L{x['hidden_layer_sizes']}\", axis=1)\n",
        "    filtered_dict_MLP[k] = v[['Algo','MCC','Kappa']]\n",
        "    my_list.append(filtered_dict_MLP[k])\n",
        "\n",
        "df_MLP = pd.concat(my_list)\n"
      ]
    },
    {
      "cell_type": "code",
      "execution_count": 33,
      "metadata": {},
      "outputs": [],
      "source": [
        "key_list = ['NB100', 'NB20', 'NB40', 'NB60']\n",
        "\n",
        "my_list = []\n",
        "\n",
        "filtered_dict_NB = {key: value for key, value in my_result_mean.items() if key in key_list}\n",
        "\n",
        "for k,v in filtered_dict_NB.items():\n",
        "    v['Algo'] = v.apply(lambda x: f\"{x['Algo']}_L{x['var_smoothing']}\", axis=1)\n",
        "    filtered_dict_NB[k] = v[['Algo','MCC','Kappa']]\n",
        "    my_list.append(filtered_dict_NB[k])\n",
        "\n",
        "df_NB = pd.concat(my_list)\n"
      ]
    },
    {
      "cell_type": "code",
      "execution_count": 34,
      "metadata": {},
      "outputs": [],
      "source": [
        "\n",
        "my_list = [df_ensemble,df_DT,df_MLP,df_NB]\n",
        "df_bot = pd.concat(my_list)\n"
      ]
    },
    {
      "cell_type": "markdown",
      "metadata": {},
      "source": [
        ". The first cluster contains three MLP models (MLP20_L56, MLP20_L46, and MLP20_L36), two RF models (RF20_E6D8 and RF20_E4D8), and one DT model (DT20_D12"
      ]
    },
    {
      "cell_type": "code",
      "execution_count": 35,
      "metadata": {},
      "outputs": [],
      "source": [
        "cluster_1_20_bot = ['MLP20_L56','MLP20_L46','MLP20_L36','RF20_E6D8','RF20_E4D8','DT20_D12']\n",
        "\n",
        "cluster_1_20_bot_df = df_bot[df_bot['Algo'].isin(cluster_1_20_bot)]\n"
      ]
    },
    {
      "cell_type": "code",
      "execution_count": 36,
      "metadata": {},
      "outputs": [
        {
          "data": {
            "text/html": [
              "<div>\n",
              "<style scoped>\n",
              "    .dataframe tbody tr th:only-of-type {\n",
              "        vertical-align: middle;\n",
              "    }\n",
              "\n",
              "    .dataframe tbody tr th {\n",
              "        vertical-align: top;\n",
              "    }\n",
              "\n",
              "    .dataframe thead th {\n",
              "        text-align: right;\n",
              "    }\n",
              "</style>\n",
              "<table border=\"1\" class=\"dataframe\">\n",
              "  <thead>\n",
              "    <tr style=\"text-align: right;\">\n",
              "      <th></th>\n",
              "      <th>Algo</th>\n",
              "      <th>MCC</th>\n",
              "      <th>Kappa</th>\n",
              "    </tr>\n",
              "  </thead>\n",
              "  <tbody>\n",
              "    <tr>\n",
              "      <th>3</th>\n",
              "      <td>RF20_E6D8</td>\n",
              "      <td>0.799169</td>\n",
              "      <td>0.794580</td>\n",
              "    </tr>\n",
              "    <tr>\n",
              "      <th>4</th>\n",
              "      <td>RF20_E4D8</td>\n",
              "      <td>0.794190</td>\n",
              "      <td>0.789639</td>\n",
              "    </tr>\n",
              "    <tr>\n",
              "      <th>4</th>\n",
              "      <td>DT20_D12</td>\n",
              "      <td>0.849170</td>\n",
              "      <td>0.845887</td>\n",
              "    </tr>\n",
              "    <tr>\n",
              "      <th>0</th>\n",
              "      <td>MLP20_L56</td>\n",
              "      <td>0.819375</td>\n",
              "      <td>0.815795</td>\n",
              "    </tr>\n",
              "    <tr>\n",
              "      <th>1</th>\n",
              "      <td>MLP20_L46</td>\n",
              "      <td>0.813117</td>\n",
              "      <td>0.809780</td>\n",
              "    </tr>\n",
              "    <tr>\n",
              "      <th>2</th>\n",
              "      <td>MLP20_L36</td>\n",
              "      <td>0.799379</td>\n",
              "      <td>0.795356</td>\n",
              "    </tr>\n",
              "  </tbody>\n",
              "</table>\n",
              "</div>"
            ],
            "text/plain": [
              "        Algo       MCC     Kappa\n",
              "3  RF20_E6D8  0.799169  0.794580\n",
              "4  RF20_E4D8  0.794190  0.789639\n",
              "4   DT20_D12  0.849170  0.845887\n",
              "0  MLP20_L56  0.819375  0.815795\n",
              "1  MLP20_L46  0.813117  0.809780\n",
              "2  MLP20_L36  0.799379  0.795356"
            ]
          },
          "execution_count": 36,
          "metadata": {},
          "output_type": "execute_result"
        }
      ],
      "source": [
        "cluster_1_20_bot_df"
      ]
    },
    {
      "cell_type": "code",
      "execution_count": 39,
      "metadata": {},
      "outputs": [],
      "source": [
        "bot_arduino = pd.read_excel('ton_arduino.xlsx')\n",
        "bot_arduino\n",
        "\n",
        "def rename_algo(x):\n",
        "    my_list = x.split('_')\n",
        "    return f\"{my_list[0]}{my_list[1]}_{my_list[2]}\"\n",
        "\n",
        "bot_arduino['Algo'] = bot_arduino['Algo'].apply(lambda x : rename_algo(x) )"
      ]
    },
    {
      "cell_type": "code",
      "execution_count": null,
      "metadata": {},
      "outputs": [],
      "source": []
    },
    {
      "cell_type": "code",
      "execution_count": 40,
      "metadata": {},
      "outputs": [
        {
          "data": {
            "text/html": [
              "<div>\n",
              "<style scoped>\n",
              "    .dataframe tbody tr th:only-of-type {\n",
              "        vertical-align: middle;\n",
              "    }\n",
              "\n",
              "    .dataframe tbody tr th {\n",
              "        vertical-align: top;\n",
              "    }\n",
              "\n",
              "    .dataframe thead th {\n",
              "        text-align: right;\n",
              "    }\n",
              "</style>\n",
              "<table border=\"1\" class=\"dataframe\">\n",
              "  <thead>\n",
              "    <tr style=\"text-align: right;\">\n",
              "      <th></th>\n",
              "      <th>Algo</th>\n",
              "      <th>MCC</th>\n",
              "      <th>Kappa</th>\n",
              "      <th>Latency</th>\n",
              "      <th>SRAM</th>\n",
              "      <th>FM</th>\n",
              "    </tr>\n",
              "  </thead>\n",
              "  <tbody>\n",
              "    <tr>\n",
              "      <th>0</th>\n",
              "      <td>RF20_E6D8</td>\n",
              "      <td>0.799169</td>\n",
              "      <td>0.794580</td>\n",
              "      <td>219.2</td>\n",
              "      <td>19164</td>\n",
              "      <td>512</td>\n",
              "    </tr>\n",
              "    <tr>\n",
              "      <th>1</th>\n",
              "      <td>RF20_E4D8</td>\n",
              "      <td>0.794190</td>\n",
              "      <td>0.789639</td>\n",
              "      <td>171.2</td>\n",
              "      <td>15176</td>\n",
              "      <td>512</td>\n",
              "    </tr>\n",
              "    <tr>\n",
              "      <th>2</th>\n",
              "      <td>DT20_D12</td>\n",
              "      <td>0.849170</td>\n",
              "      <td>0.845887</td>\n",
              "      <td>48.0</td>\n",
              "      <td>22934</td>\n",
              "      <td>512</td>\n",
              "    </tr>\n",
              "    <tr>\n",
              "      <th>3</th>\n",
              "      <td>MLP20_L56</td>\n",
              "      <td>0.819375</td>\n",
              "      <td>0.815795</td>\n",
              "      <td>9.6</td>\n",
              "      <td>6410</td>\n",
              "      <td>526</td>\n",
              "    </tr>\n",
              "    <tr>\n",
              "      <th>4</th>\n",
              "      <td>MLP20_L46</td>\n",
              "      <td>0.813117</td>\n",
              "      <td>0.809780</td>\n",
              "      <td>9.6</td>\n",
              "      <td>6410</td>\n",
              "      <td>526</td>\n",
              "    </tr>\n",
              "    <tr>\n",
              "      <th>5</th>\n",
              "      <td>MLP20_L36</td>\n",
              "      <td>0.799379</td>\n",
              "      <td>0.795356</td>\n",
              "      <td>9.6</td>\n",
              "      <td>6410</td>\n",
              "      <td>526</td>\n",
              "    </tr>\n",
              "  </tbody>\n",
              "</table>\n",
              "</div>"
            ],
            "text/plain": [
              "        Algo       MCC     Kappa  Latency   SRAM   FM\n",
              "0  RF20_E6D8  0.799169  0.794580    219.2  19164  512\n",
              "1  RF20_E4D8  0.794190  0.789639    171.2  15176  512\n",
              "2   DT20_D12  0.849170  0.845887     48.0  22934  512\n",
              "3  MLP20_L56  0.819375  0.815795      9.6   6410  526\n",
              "4  MLP20_L46  0.813117  0.809780      9.6   6410  526\n",
              "5  MLP20_L36  0.799379  0.795356      9.6   6410  526"
            ]
          },
          "execution_count": 40,
          "metadata": {},
          "output_type": "execute_result"
        }
      ],
      "source": [
        "bot_arduino_cluster_1_20 = bot_arduino[bot_arduino['Algo'].isin(cluster_1_20_bot)]\n",
        "\n",
        "df_bot_all_20 = pd.merge(cluster_1_20_bot_df, bot_arduino_cluster_1_20, on='Algo', how='inner')\n",
        "\n",
        "\n",
        "df_bot_all_20"
      ]
    },
    {
      "cell_type": "markdown",
      "metadata": {
        "id": "6Fo8jm7eZQz-"
      },
      "source": [
        "## Borda Count"
      ]
    },
    {
      "cell_type": "code",
      "execution_count": null,
      "metadata": {
        "id": "j_q9mfPjDFtB"
      },
      "outputs": [],
      "source": []
    },
    {
      "cell_type": "code",
      "execution_count": 41,
      "metadata": {},
      "outputs": [],
      "source": [
        "import numpy as np\n",
        "import pandas as pd\n",
        "\n",
        "def borda_count(my_data_borda):\n",
        "    # Define the weights\n",
        "    weights = {'Kappa': 3, 'MCC': 3, 'Latency': 2, 'SRAM': 1, 'FM': 0.5}\n",
        "\n",
        "    # Extract the columns to be ranked\n",
        "    columns = ['Kappa', 'MCC', 'Latency', 'SRAM', 'FM']\n",
        "    \n",
        "    # Calculate rank points\n",
        "    rank_points = my_data_borda[columns].values.argsort(axis=0).argsort(axis=0)\n",
        "\n",
        "    # Apply weights to the rank points\n",
        "    weighted_rank_points = np.zeros(rank_points.shape)\n",
        "    for i, col in enumerate(columns):\n",
        "        weighted_rank_points[:, i] = rank_points[:, i] * weights[col]\n",
        "    \n",
        "    # Sum the weighted rank points\n",
        "    borda_counts = weighted_rank_points.sum(axis=1)\n",
        "\n",
        "    # Assign the Borda counts to a new column and sort\n",
        "    my_data_borda['Borda'] = borda_counts\n",
        "    sorted_scores = my_data_borda.sort_values(by=['Borda', 'Kappa'], ascending=False)\n",
        "\n",
        "    return sorted_scores"
      ]
    },
    {
      "cell_type": "code",
      "execution_count": 42,
      "metadata": {
        "id": "Z-4laGckA61M"
      },
      "outputs": [
        {
          "data": {
            "text/html": [
              "<div>\n",
              "<style scoped>\n",
              "    .dataframe tbody tr th:only-of-type {\n",
              "        vertical-align: middle;\n",
              "    }\n",
              "\n",
              "    .dataframe tbody tr th {\n",
              "        vertical-align: top;\n",
              "    }\n",
              "\n",
              "    .dataframe thead th {\n",
              "        text-align: right;\n",
              "    }\n",
              "</style>\n",
              "<table border=\"1\" class=\"dataframe\">\n",
              "  <thead>\n",
              "    <tr style=\"text-align: right;\">\n",
              "      <th></th>\n",
              "      <th>Algo</th>\n",
              "      <th>MCC</th>\n",
              "      <th>Kappa</th>\n",
              "      <th>Latency</th>\n",
              "      <th>SRAM</th>\n",
              "      <th>FM</th>\n",
              "      <th>Borda</th>\n",
              "    </tr>\n",
              "  </thead>\n",
              "  <tbody>\n",
              "    <tr>\n",
              "      <th>2</th>\n",
              "      <td>DT20_D12</td>\n",
              "      <td>0.849170</td>\n",
              "      <td>0.845887</td>\n",
              "      <td>48.0</td>\n",
              "      <td>22934</td>\n",
              "      <td>512</td>\n",
              "      <td>36.5</td>\n",
              "    </tr>\n",
              "    <tr>\n",
              "      <th>3</th>\n",
              "      <td>MLP20_L56</td>\n",
              "      <td>0.819375</td>\n",
              "      <td>0.815795</td>\n",
              "      <td>9.6</td>\n",
              "      <td>6410</td>\n",
              "      <td>526</td>\n",
              "      <td>33.0</td>\n",
              "    </tr>\n",
              "    <tr>\n",
              "      <th>4</th>\n",
              "      <td>MLP20_L46</td>\n",
              "      <td>0.813117</td>\n",
              "      <td>0.809780</td>\n",
              "      <td>9.6</td>\n",
              "      <td>6410</td>\n",
              "      <td>526</td>\n",
              "      <td>30.5</td>\n",
              "    </tr>\n",
              "    <tr>\n",
              "      <th>5</th>\n",
              "      <td>MLP20_L36</td>\n",
              "      <td>0.799379</td>\n",
              "      <td>0.795356</td>\n",
              "      <td>9.6</td>\n",
              "      <td>6410</td>\n",
              "      <td>526</td>\n",
              "      <td>28.0</td>\n",
              "    </tr>\n",
              "    <tr>\n",
              "      <th>0</th>\n",
              "      <td>RF20_E6D8</td>\n",
              "      <td>0.799169</td>\n",
              "      <td>0.794580</td>\n",
              "      <td>219.2</td>\n",
              "      <td>19164</td>\n",
              "      <td>512</td>\n",
              "      <td>8.5</td>\n",
              "    </tr>\n",
              "    <tr>\n",
              "      <th>1</th>\n",
              "      <td>RF20_E4D8</td>\n",
              "      <td>0.794190</td>\n",
              "      <td>0.789639</td>\n",
              "      <td>171.2</td>\n",
              "      <td>15176</td>\n",
              "      <td>512</td>\n",
              "      <td>6.0</td>\n",
              "    </tr>\n",
              "  </tbody>\n",
              "</table>\n",
              "</div>"
            ],
            "text/plain": [
              "        Algo       MCC     Kappa  Latency   SRAM   FM  Borda\n",
              "2   DT20_D12  0.849170  0.845887     48.0  22934  512   36.5\n",
              "3  MLP20_L56  0.819375  0.815795      9.6   6410  526   33.0\n",
              "4  MLP20_L46  0.813117  0.809780      9.6   6410  526   30.5\n",
              "5  MLP20_L36  0.799379  0.795356      9.6   6410  526   28.0\n",
              "0  RF20_E6D8  0.799169  0.794580    219.2  19164  512    8.5\n",
              "1  RF20_E4D8  0.794190  0.789639    171.2  15176  512    6.0"
            ]
          },
          "execution_count": 42,
          "metadata": {},
          "output_type": "execute_result"
        }
      ],
      "source": [
        "\n",
        "df_bot_all_20_tmp = df_bot_all_20.copy()\n",
        "df_bot_all_20_tmp[['Latency', 'SRAM', 'FM']] = -df_bot_all_20[['Latency', 'SRAM', 'FM']]\n",
        "df_bot_all_20_bc = borda_count(df_bot_all_20_tmp)\n",
        "df_bot_all_20_bc[['Latency', 'SRAM', 'FM']] = -df_bot_all_20_bc[['Latency', 'SRAM', 'FM']]\n",
        "df_bot_all_20_bc"
      ]
    },
    {
      "cell_type": "markdown",
      "metadata": {},
      "source": [
        "## 40 %"
      ]
    },
    {
      "cell_type": "markdown",
      "metadata": {},
      "source": [
        "The first cluster contains five MLP models (MLP40_L56, MLP40_L46, MLP40_L36, MLP40_L26, and MLP40_L16)."
      ]
    },
    {
      "cell_type": "code",
      "execution_count": 43,
      "metadata": {},
      "outputs": [],
      "source": [
        "cluster_1_40_bot = ['MLP40_L56','MLP40_L46','MLP40_L36','MLP40_L26','MLP40_L16']\n",
        "\n",
        "cluster_1_40_bot_df = df_bot[df_bot['Algo'].isin(cluster_1_40_bot)]"
      ]
    },
    {
      "cell_type": "code",
      "execution_count": 44,
      "metadata": {},
      "outputs": [
        {
          "data": {
            "text/html": [
              "<div>\n",
              "<style scoped>\n",
              "    .dataframe tbody tr th:only-of-type {\n",
              "        vertical-align: middle;\n",
              "    }\n",
              "\n",
              "    .dataframe tbody tr th {\n",
              "        vertical-align: top;\n",
              "    }\n",
              "\n",
              "    .dataframe thead th {\n",
              "        text-align: right;\n",
              "    }\n",
              "</style>\n",
              "<table border=\"1\" class=\"dataframe\">\n",
              "  <thead>\n",
              "    <tr style=\"text-align: right;\">\n",
              "      <th></th>\n",
              "      <th>Algo</th>\n",
              "      <th>MCC</th>\n",
              "      <th>Kappa</th>\n",
              "      <th>Latency</th>\n",
              "      <th>SRAM</th>\n",
              "      <th>FM</th>\n",
              "    </tr>\n",
              "  </thead>\n",
              "  <tbody>\n",
              "    <tr>\n",
              "      <th>0</th>\n",
              "      <td>MLP40_L56</td>\n",
              "      <td>0.867747</td>\n",
              "      <td>0.866635</td>\n",
              "      <td>9.6</td>\n",
              "      <td>6690</td>\n",
              "      <td>806</td>\n",
              "    </tr>\n",
              "    <tr>\n",
              "      <th>1</th>\n",
              "      <td>MLP40_L46</td>\n",
              "      <td>0.861379</td>\n",
              "      <td>0.860327</td>\n",
              "      <td>9.6</td>\n",
              "      <td>6690</td>\n",
              "      <td>806</td>\n",
              "    </tr>\n",
              "    <tr>\n",
              "      <th>2</th>\n",
              "      <td>MLP40_L36</td>\n",
              "      <td>0.854443</td>\n",
              "      <td>0.853247</td>\n",
              "      <td>9.6</td>\n",
              "      <td>6690</td>\n",
              "      <td>806</td>\n",
              "    </tr>\n",
              "    <tr>\n",
              "      <th>3</th>\n",
              "      <td>MLP40_L26</td>\n",
              "      <td>0.848046</td>\n",
              "      <td>0.847177</td>\n",
              "      <td>9.6</td>\n",
              "      <td>6690</td>\n",
              "      <td>806</td>\n",
              "    </tr>\n",
              "    <tr>\n",
              "      <th>4</th>\n",
              "      <td>MLP40_L16</td>\n",
              "      <td>0.839701</td>\n",
              "      <td>0.838326</td>\n",
              "      <td>9.6</td>\n",
              "      <td>6690</td>\n",
              "      <td>806</td>\n",
              "    </tr>\n",
              "  </tbody>\n",
              "</table>\n",
              "</div>"
            ],
            "text/plain": [
              "        Algo       MCC     Kappa  Latency  SRAM   FM\n",
              "0  MLP40_L56  0.867747  0.866635      9.6  6690  806\n",
              "1  MLP40_L46  0.861379  0.860327      9.6  6690  806\n",
              "2  MLP40_L36  0.854443  0.853247      9.6  6690  806\n",
              "3  MLP40_L26  0.848046  0.847177      9.6  6690  806\n",
              "4  MLP40_L16  0.839701  0.838326      9.6  6690  806"
            ]
          },
          "execution_count": 44,
          "metadata": {},
          "output_type": "execute_result"
        }
      ],
      "source": [
        "bot_arduino_cluster_1_40 = bot_arduino[bot_arduino['Algo'].isin(cluster_1_40_bot)]\n",
        "\n",
        "df_bot_all_40 = pd.merge(cluster_1_40_bot_df, bot_arduino_cluster_1_40, on='Algo', how='inner')\n",
        "\n",
        "\n",
        "df_bot_all_40"
      ]
    },
    {
      "cell_type": "code",
      "execution_count": 45,
      "metadata": {},
      "outputs": [
        {
          "data": {
            "text/plain": [
              "(5, 6)"
            ]
          },
          "execution_count": 45,
          "metadata": {},
          "output_type": "execute_result"
        }
      ],
      "source": [
        "df_bot_all_40.shape"
      ]
    },
    {
      "cell_type": "code",
      "execution_count": 46,
      "metadata": {},
      "outputs": [
        {
          "data": {
            "text/html": [
              "<div>\n",
              "<style scoped>\n",
              "    .dataframe tbody tr th:only-of-type {\n",
              "        vertical-align: middle;\n",
              "    }\n",
              "\n",
              "    .dataframe tbody tr th {\n",
              "        vertical-align: top;\n",
              "    }\n",
              "\n",
              "    .dataframe thead th {\n",
              "        text-align: right;\n",
              "    }\n",
              "</style>\n",
              "<table border=\"1\" class=\"dataframe\">\n",
              "  <thead>\n",
              "    <tr style=\"text-align: right;\">\n",
              "      <th></th>\n",
              "      <th>Algo</th>\n",
              "      <th>MCC</th>\n",
              "      <th>Kappa</th>\n",
              "      <th>Latency</th>\n",
              "      <th>SRAM</th>\n",
              "      <th>FM</th>\n",
              "      <th>Borda</th>\n",
              "    </tr>\n",
              "  </thead>\n",
              "  <tbody>\n",
              "    <tr>\n",
              "      <th>0</th>\n",
              "      <td>MLP40_L56</td>\n",
              "      <td>0.867747</td>\n",
              "      <td>0.866635</td>\n",
              "      <td>9.6</td>\n",
              "      <td>6690</td>\n",
              "      <td>806</td>\n",
              "      <td>24.0</td>\n",
              "    </tr>\n",
              "    <tr>\n",
              "      <th>1</th>\n",
              "      <td>MLP40_L46</td>\n",
              "      <td>0.861379</td>\n",
              "      <td>0.860327</td>\n",
              "      <td>9.6</td>\n",
              "      <td>6690</td>\n",
              "      <td>806</td>\n",
              "      <td>21.5</td>\n",
              "    </tr>\n",
              "    <tr>\n",
              "      <th>2</th>\n",
              "      <td>MLP40_L36</td>\n",
              "      <td>0.854443</td>\n",
              "      <td>0.853247</td>\n",
              "      <td>9.6</td>\n",
              "      <td>6690</td>\n",
              "      <td>806</td>\n",
              "      <td>19.0</td>\n",
              "    </tr>\n",
              "    <tr>\n",
              "      <th>3</th>\n",
              "      <td>MLP40_L26</td>\n",
              "      <td>0.848046</td>\n",
              "      <td>0.847177</td>\n",
              "      <td>9.6</td>\n",
              "      <td>6690</td>\n",
              "      <td>806</td>\n",
              "      <td>16.5</td>\n",
              "    </tr>\n",
              "    <tr>\n",
              "      <th>4</th>\n",
              "      <td>MLP40_L16</td>\n",
              "      <td>0.839701</td>\n",
              "      <td>0.838326</td>\n",
              "      <td>9.6</td>\n",
              "      <td>6690</td>\n",
              "      <td>806</td>\n",
              "      <td>14.0</td>\n",
              "    </tr>\n",
              "  </tbody>\n",
              "</table>\n",
              "</div>"
            ],
            "text/plain": [
              "        Algo       MCC     Kappa  Latency  SRAM   FM  Borda\n",
              "0  MLP40_L56  0.867747  0.866635      9.6  6690  806   24.0\n",
              "1  MLP40_L46  0.861379  0.860327      9.6  6690  806   21.5\n",
              "2  MLP40_L36  0.854443  0.853247      9.6  6690  806   19.0\n",
              "3  MLP40_L26  0.848046  0.847177      9.6  6690  806   16.5\n",
              "4  MLP40_L16  0.839701  0.838326      9.6  6690  806   14.0"
            ]
          },
          "execution_count": 46,
          "metadata": {},
          "output_type": "execute_result"
        }
      ],
      "source": [
        "\n",
        "df_bot_all_40_tmp = df_bot_all_40.copy()\n",
        "df_bot_all_40_tmp[['Latency', 'SRAM', 'FM']] = -df_bot_all_40[['Latency', 'SRAM', 'FM']]\n",
        "df_bot_all_40_bc = borda_count(df_bot_all_40_tmp)\n",
        "df_bot_all_40_bc[['Latency', 'SRAM', 'FM']] = -df_bot_all_40_bc[['Latency', 'SRAM', 'FM']]\n",
        "df_bot_all_40_bc"
      ]
    },
    {
      "cell_type": "code",
      "execution_count": null,
      "metadata": {},
      "outputs": [],
      "source": []
    },
    {
      "cell_type": "code",
      "execution_count": null,
      "metadata": {},
      "outputs": [],
      "source": []
    },
    {
      "cell_type": "markdown",
      "metadata": {},
      "source": [
        "## 60 %"
      ]
    },
    {
      "cell_type": "markdown",
      "metadata": {},
      "source": [
        "The first cluster contains five MLP models (MLP60_L56, MLP60_L46, MLP60_L36, MLP60_L26, and MLP60_L16). "
      ]
    },
    {
      "cell_type": "code",
      "execution_count": 47,
      "metadata": {},
      "outputs": [],
      "source": [
        "cluster_1_60_bot = ['MLP60_L56','MLP60_L46','MLP60_L36','MLP60_L26','MLP60_L16']\n",
        "\n",
        "cluster_1_60_bot_df = df_bot[df_bot['Algo'].isin(cluster_1_60_bot)]"
      ]
    },
    {
      "cell_type": "code",
      "execution_count": 48,
      "metadata": {},
      "outputs": [
        {
          "data": {
            "text/html": [
              "<div>\n",
              "<style scoped>\n",
              "    .dataframe tbody tr th:only-of-type {\n",
              "        vertical-align: middle;\n",
              "    }\n",
              "\n",
              "    .dataframe tbody tr th {\n",
              "        vertical-align: top;\n",
              "    }\n",
              "\n",
              "    .dataframe thead th {\n",
              "        text-align: right;\n",
              "    }\n",
              "</style>\n",
              "<table border=\"1\" class=\"dataframe\">\n",
              "  <thead>\n",
              "    <tr style=\"text-align: right;\">\n",
              "      <th></th>\n",
              "      <th>Algo</th>\n",
              "      <th>MCC</th>\n",
              "      <th>Kappa</th>\n",
              "      <th>Latency</th>\n",
              "      <th>SRAM</th>\n",
              "      <th>FM</th>\n",
              "    </tr>\n",
              "  </thead>\n",
              "  <tbody>\n",
              "    <tr>\n",
              "      <th>0</th>\n",
              "      <td>MLP60_L56</td>\n",
              "      <td>0.935341</td>\n",
              "      <td>0.935255</td>\n",
              "      <td>9.6</td>\n",
              "      <td>7010</td>\n",
              "      <td>1126</td>\n",
              "    </tr>\n",
              "    <tr>\n",
              "      <th>1</th>\n",
              "      <td>MLP60_L46</td>\n",
              "      <td>0.933865</td>\n",
              "      <td>0.933758</td>\n",
              "      <td>9.6</td>\n",
              "      <td>7010</td>\n",
              "      <td>1126</td>\n",
              "    </tr>\n",
              "    <tr>\n",
              "      <th>2</th>\n",
              "      <td>MLP60_L36</td>\n",
              "      <td>0.929772</td>\n",
              "      <td>0.929651</td>\n",
              "      <td>9.6</td>\n",
              "      <td>7010</td>\n",
              "      <td>1126</td>\n",
              "    </tr>\n",
              "    <tr>\n",
              "      <th>3</th>\n",
              "      <td>MLP60_L26</td>\n",
              "      <td>0.926333</td>\n",
              "      <td>0.926180</td>\n",
              "      <td>9.6</td>\n",
              "      <td>7010</td>\n",
              "      <td>1126</td>\n",
              "    </tr>\n",
              "    <tr>\n",
              "      <th>4</th>\n",
              "      <td>MLP60_L16</td>\n",
              "      <td>0.919506</td>\n",
              "      <td>0.919362</td>\n",
              "      <td>9.6</td>\n",
              "      <td>7010</td>\n",
              "      <td>1126</td>\n",
              "    </tr>\n",
              "  </tbody>\n",
              "</table>\n",
              "</div>"
            ],
            "text/plain": [
              "        Algo       MCC     Kappa  Latency  SRAM    FM\n",
              "0  MLP60_L56  0.935341  0.935255      9.6  7010  1126\n",
              "1  MLP60_L46  0.933865  0.933758      9.6  7010  1126\n",
              "2  MLP60_L36  0.929772  0.929651      9.6  7010  1126\n",
              "3  MLP60_L26  0.926333  0.926180      9.6  7010  1126\n",
              "4  MLP60_L16  0.919506  0.919362      9.6  7010  1126"
            ]
          },
          "execution_count": 48,
          "metadata": {},
          "output_type": "execute_result"
        }
      ],
      "source": [
        "bot_arduino_cluster_1_60 = bot_arduino[bot_arduino['Algo'].isin(cluster_1_60_bot)]\n",
        "\n",
        "df_bot_all_60 = pd.merge(cluster_1_60_bot_df, bot_arduino_cluster_1_60, on='Algo', how='inner')\n",
        "\n",
        "\n",
        "df_bot_all_60"
      ]
    },
    {
      "cell_type": "code",
      "execution_count": 49,
      "metadata": {},
      "outputs": [
        {
          "data": {
            "text/plain": [
              "(5, 6)"
            ]
          },
          "execution_count": 49,
          "metadata": {},
          "output_type": "execute_result"
        }
      ],
      "source": [
        "df_bot_all_60.shape"
      ]
    },
    {
      "cell_type": "code",
      "execution_count": 50,
      "metadata": {},
      "outputs": [
        {
          "data": {
            "text/html": [
              "<div>\n",
              "<style scoped>\n",
              "    .dataframe tbody tr th:only-of-type {\n",
              "        vertical-align: middle;\n",
              "    }\n",
              "\n",
              "    .dataframe tbody tr th {\n",
              "        vertical-align: top;\n",
              "    }\n",
              "\n",
              "    .dataframe thead th {\n",
              "        text-align: right;\n",
              "    }\n",
              "</style>\n",
              "<table border=\"1\" class=\"dataframe\">\n",
              "  <thead>\n",
              "    <tr style=\"text-align: right;\">\n",
              "      <th></th>\n",
              "      <th>Algo</th>\n",
              "      <th>MCC</th>\n",
              "      <th>Kappa</th>\n",
              "      <th>Latency</th>\n",
              "      <th>SRAM</th>\n",
              "      <th>FM</th>\n",
              "      <th>Borda</th>\n",
              "    </tr>\n",
              "  </thead>\n",
              "  <tbody>\n",
              "    <tr>\n",
              "      <th>0</th>\n",
              "      <td>MLP60_L56</td>\n",
              "      <td>0.935341</td>\n",
              "      <td>0.935255</td>\n",
              "      <td>9.6</td>\n",
              "      <td>7010</td>\n",
              "      <td>1126</td>\n",
              "      <td>24.0</td>\n",
              "    </tr>\n",
              "    <tr>\n",
              "      <th>1</th>\n",
              "      <td>MLP60_L46</td>\n",
              "      <td>0.933865</td>\n",
              "      <td>0.933758</td>\n",
              "      <td>9.6</td>\n",
              "      <td>7010</td>\n",
              "      <td>1126</td>\n",
              "      <td>21.5</td>\n",
              "    </tr>\n",
              "    <tr>\n",
              "      <th>2</th>\n",
              "      <td>MLP60_L36</td>\n",
              "      <td>0.929772</td>\n",
              "      <td>0.929651</td>\n",
              "      <td>9.6</td>\n",
              "      <td>7010</td>\n",
              "      <td>1126</td>\n",
              "      <td>19.0</td>\n",
              "    </tr>\n",
              "    <tr>\n",
              "      <th>3</th>\n",
              "      <td>MLP60_L26</td>\n",
              "      <td>0.926333</td>\n",
              "      <td>0.926180</td>\n",
              "      <td>9.6</td>\n",
              "      <td>7010</td>\n",
              "      <td>1126</td>\n",
              "      <td>16.5</td>\n",
              "    </tr>\n",
              "    <tr>\n",
              "      <th>4</th>\n",
              "      <td>MLP60_L16</td>\n",
              "      <td>0.919506</td>\n",
              "      <td>0.919362</td>\n",
              "      <td>9.6</td>\n",
              "      <td>7010</td>\n",
              "      <td>1126</td>\n",
              "      <td>14.0</td>\n",
              "    </tr>\n",
              "  </tbody>\n",
              "</table>\n",
              "</div>"
            ],
            "text/plain": [
              "        Algo       MCC     Kappa  Latency  SRAM    FM  Borda\n",
              "0  MLP60_L56  0.935341  0.935255      9.6  7010  1126   24.0\n",
              "1  MLP60_L46  0.933865  0.933758      9.6  7010  1126   21.5\n",
              "2  MLP60_L36  0.929772  0.929651      9.6  7010  1126   19.0\n",
              "3  MLP60_L26  0.926333  0.926180      9.6  7010  1126   16.5\n",
              "4  MLP60_L16  0.919506  0.919362      9.6  7010  1126   14.0"
            ]
          },
          "execution_count": 50,
          "metadata": {},
          "output_type": "execute_result"
        }
      ],
      "source": [
        "\n",
        "df_bot_all_60_tmp = df_bot_all_60.copy()\n",
        "df_bot_all_60_tmp[['Latency', 'SRAM', 'FM']] = -df_bot_all_60[['Latency', 'SRAM', 'FM']]\n",
        "df_bot_all_60_bc = borda_count(df_bot_all_60_tmp)\n",
        "df_bot_all_60_bc[['Latency', 'SRAM', 'FM']] = -df_bot_all_60_bc[['Latency', 'SRAM', 'FM']]\n",
        "df_bot_all_60_bc"
      ]
    },
    {
      "cell_type": "markdown",
      "metadata": {},
      "source": [
        "## 100 %"
      ]
    },
    {
      "cell_type": "markdown",
      "metadata": {},
      "source": [
        ". The first cluster contains two RF models (RF100_E4D8 and RF100_E2D8)"
      ]
    },
    {
      "cell_type": "code",
      "execution_count": 51,
      "metadata": {},
      "outputs": [],
      "source": [
        "cluster_1_100_bot = ['RF100_E4D8','RF100_E2D8']\n",
        "cluster_1_100_bot_df = df_bot[df_bot['Algo'].isin(cluster_1_100_bot)]"
      ]
    },
    {
      "cell_type": "code",
      "execution_count": 52,
      "metadata": {},
      "outputs": [
        {
          "data": {
            "text/html": [
              "<div>\n",
              "<style scoped>\n",
              "    .dataframe tbody tr th:only-of-type {\n",
              "        vertical-align: middle;\n",
              "    }\n",
              "\n",
              "    .dataframe tbody tr th {\n",
              "        vertical-align: top;\n",
              "    }\n",
              "\n",
              "    .dataframe thead th {\n",
              "        text-align: right;\n",
              "    }\n",
              "</style>\n",
              "<table border=\"1\" class=\"dataframe\">\n",
              "  <thead>\n",
              "    <tr style=\"text-align: right;\">\n",
              "      <th></th>\n",
              "      <th>Algo</th>\n",
              "      <th>MCC</th>\n",
              "      <th>Kappa</th>\n",
              "      <th>Latency</th>\n",
              "      <th>SRAM</th>\n",
              "      <th>FM</th>\n",
              "    </tr>\n",
              "  </thead>\n",
              "  <tbody>\n",
              "    <tr>\n",
              "      <th>0</th>\n",
              "      <td>RF100_E4D8</td>\n",
              "      <td>0.913199</td>\n",
              "      <td>0.912759</td>\n",
              "      <td>192.0</td>\n",
              "      <td>28406</td>\n",
              "      <td>1452</td>\n",
              "    </tr>\n",
              "    <tr>\n",
              "      <th>1</th>\n",
              "      <td>RF100_E2D8</td>\n",
              "      <td>0.910021</td>\n",
              "      <td>0.909705</td>\n",
              "      <td>124.8</td>\n",
              "      <td>16002</td>\n",
              "      <td>1452</td>\n",
              "    </tr>\n",
              "  </tbody>\n",
              "</table>\n",
              "</div>"
            ],
            "text/plain": [
              "         Algo       MCC     Kappa  Latency   SRAM    FM\n",
              "0  RF100_E4D8  0.913199  0.912759    192.0  28406  1452\n",
              "1  RF100_E2D8  0.910021  0.909705    124.8  16002  1452"
            ]
          },
          "execution_count": 52,
          "metadata": {},
          "output_type": "execute_result"
        }
      ],
      "source": [
        "bot_arduino_cluster_1_100 = bot_arduino[bot_arduino['Algo'].isin(cluster_1_100_bot)]\n",
        "\n",
        "df_bot_all_100 = pd.merge(cluster_1_100_bot_df, bot_arduino_cluster_1_100, on='Algo', how='inner')\n",
        "\n",
        "\n",
        "df_bot_all_100"
      ]
    },
    {
      "cell_type": "code",
      "execution_count": 53,
      "metadata": {},
      "outputs": [
        {
          "data": {
            "text/plain": [
              "(2, 6)"
            ]
          },
          "execution_count": 53,
          "metadata": {},
          "output_type": "execute_result"
        }
      ],
      "source": [
        "df_bot_all_100.shape"
      ]
    },
    {
      "cell_type": "code",
      "execution_count": 54,
      "metadata": {},
      "outputs": [
        {
          "data": {
            "text/html": [
              "<div>\n",
              "<style scoped>\n",
              "    .dataframe tbody tr th:only-of-type {\n",
              "        vertical-align: middle;\n",
              "    }\n",
              "\n",
              "    .dataframe tbody tr th {\n",
              "        vertical-align: top;\n",
              "    }\n",
              "\n",
              "    .dataframe thead th {\n",
              "        text-align: right;\n",
              "    }\n",
              "</style>\n",
              "<table border=\"1\" class=\"dataframe\">\n",
              "  <thead>\n",
              "    <tr style=\"text-align: right;\">\n",
              "      <th></th>\n",
              "      <th>Algo</th>\n",
              "      <th>MCC</th>\n",
              "      <th>Kappa</th>\n",
              "      <th>Latency</th>\n",
              "      <th>SRAM</th>\n",
              "      <th>FM</th>\n",
              "      <th>Borda</th>\n",
              "    </tr>\n",
              "  </thead>\n",
              "  <tbody>\n",
              "    <tr>\n",
              "      <th>0</th>\n",
              "      <td>RF100_E4D8</td>\n",
              "      <td>0.913199</td>\n",
              "      <td>0.912759</td>\n",
              "      <td>192.0</td>\n",
              "      <td>28406</td>\n",
              "      <td>1452</td>\n",
              "      <td>6.0</td>\n",
              "    </tr>\n",
              "    <tr>\n",
              "      <th>1</th>\n",
              "      <td>RF100_E2D8</td>\n",
              "      <td>0.910021</td>\n",
              "      <td>0.909705</td>\n",
              "      <td>124.8</td>\n",
              "      <td>16002</td>\n",
              "      <td>1452</td>\n",
              "      <td>3.5</td>\n",
              "    </tr>\n",
              "  </tbody>\n",
              "</table>\n",
              "</div>"
            ],
            "text/plain": [
              "         Algo       MCC     Kappa  Latency   SRAM    FM  Borda\n",
              "0  RF100_E4D8  0.913199  0.912759    192.0  28406  1452    6.0\n",
              "1  RF100_E2D8  0.910021  0.909705    124.8  16002  1452    3.5"
            ]
          },
          "execution_count": 54,
          "metadata": {},
          "output_type": "execute_result"
        }
      ],
      "source": [
        "\n",
        "df_bot_all_100_tmp = df_bot_all_100.copy()\n",
        "df_bot_all_100_tmp[['Latency', 'SRAM', 'FM']] = -df_bot_all_100[['Latency', 'SRAM', 'FM']]\n",
        "df_bot_all_100_bc = borda_count(df_bot_all_100_tmp)\n",
        "df_bot_all_100_bc[['Latency', 'SRAM', 'FM']] = -df_bot_all_100_bc[['Latency', 'SRAM', 'FM']]\n",
        "df_bot_all_100_bc"
      ]
    },
    {
      "cell_type": "code",
      "execution_count": null,
      "metadata": {},
      "outputs": [],
      "source": []
    }
  ],
  "metadata": {
    "colab": {
      "provenance": []
    },
    "kernelspec": {
      "display_name": "Python 3",
      "name": "python3"
    },
    "language_info": {
      "codemirror_mode": {
        "name": "ipython",
        "version": 3
      },
      "file_extension": ".py",
      "mimetype": "text/x-python",
      "name": "python",
      "nbconvert_exporter": "python",
      "pygments_lexer": "ipython3",
      "version": "3.11.4"
    }
  },
  "nbformat": 4,
  "nbformat_minor": 0
}
