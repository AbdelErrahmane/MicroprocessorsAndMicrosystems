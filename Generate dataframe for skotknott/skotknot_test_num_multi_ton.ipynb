{
  "cells": [
    {
      "cell_type": "code",
      "execution_count": 42,
      "metadata": {
        "id": "JTWnfeP_7psv"
      },
      "outputs": [],
      "source": [
        "from pathlib import Path\n",
        "import json\n",
        "import pandas as pd\n",
        "\n",
        "def funct_sckot_not(path,output_path):\n",
        "  f = open(path)\n",
        "  data = json.load(f)\n",
        "  df = pd.DataFrame.from_dict(data)\n",
        "  try:\n",
        "    df_new = df[['param_n_estimators', 'param_max_depth', 'split0_test_Kappa',\n",
        "       'split1_test_Kappa', 'split2_test_Kappa', 'split3_test_Kappa',\n",
        "       'split4_test_Kappa']]\n",
        "  except:\n",
        "    try:\n",
        "      df_new = df[['param_max_depth', 'split0_test_Kappa',\n",
        "            'split1_test_Kappa', 'split2_test_Kappa', 'split3_test_Kappa',\n",
        "            'split4_test_Kappa']]\n",
        "    except:\n",
        "      try:\n",
        "        df_new = df[['param_var_smoothing', 'split0_test_Kappa',\n",
        "            'split1_test_Kappa', 'split2_test_Kappa', 'split3_test_Kappa',\n",
        "            'split4_test_Kappa']]\n",
        "      except:\n",
        "        df_new = df[['param_hidden_layer_sizes', 'split0_test_Kappa',\n",
        "          'split1_test_Kappa', 'split2_test_Kappa', 'split3_test_Kappa',\n",
        "          'split4_test_Kappa']]\n",
        "\n",
        "  name_file = Path(f.name).stem\n",
        "  name_file = name_file.replace('ExtraTreesClassifier','ET').replace('GaussianNB','NB').replace('DecisionTreeClassifier','DT')\\\n",
        "  .replace('RandomForestClassifier','RF').replace('LGBMClassifier','LB').replace('XGBClassifier','XB').replace('X_','').replace('A_mRMR_','')\n",
        "  data_algo = name_file.split('__')\n",
        "\n",
        "  print(data_algo)\n",
        "  try:\n",
        "    df_new['params'] = df_new.apply(lambda x: f\"E{int(x['param_n_estimators'])}D{int(x['param_max_depth'])}\",axis=1)\n",
        "    df_new.drop(columns=['param_n_estimators','param_max_depth'], inplace=True)\n",
        "  except:\n",
        "    try:\n",
        "      df_new['params'] = df_new['param_max_depth'].apply(lambda x: f\"D{x}\")\n",
        "      df_new.drop(columns=['param_max_depth'], inplace=True)\n",
        "    except:\n",
        "      try:\n",
        "        df_new['params'] = df_new['param_var_smoothing'].apply(lambda x: f\"S{x}\")\n",
        "        df_new.drop(columns=['param_var_smoothing'], inplace=True)\n",
        "      except:\n",
        "        df_new['params'] = df_new['param_hidden_layer_sizes'].apply(lambda x: f\"L{x}\")\n",
        "        df_new.drop(columns=['param_hidden_layer_sizes'], inplace=True)\n",
        "\n",
        "  df_new = df_new.set_index('params')\n",
        "  df_transp = df_new.transpose()\n",
        "  df_transp\n",
        "  # my_dict['XB_mrmr_50'] = my_dict['XB_mrmr_50'].apply(lambda x: x.fillna(x.mean()),axis=0)\n",
        "  # my_dict['XB_mrmr_80'] = my_dict['XB_mrmr_80'].apply(lambda x: x.fillna(x.mean()),axis=0)\n",
        "  # my_dict['XB__X'] = my_dict['XB__X'].apply(lambda x: x.fillna(x.mean()),axis=0)\n",
        "  csv_name = f'{data_algo[0]}_{data_algo[1]}'\n",
        "  df_transp.to_csv(f'{output_path}/{csv_name}.csv',index=False)\n",
        "\n",
        "  return csv_name, df_transp\n",
        "\n",
        "\n",
        "# 'result_bin_cat'\n",
        "\n"
      ]
    },
    {
      "cell_type": "code",
      "execution_count": 43,
      "metadata": {
        "id": "MjR2-Dw4C2e7"
      },
      "outputs": [],
      "source": [
        "from os import listdir\n",
        "from os.path import isfile, join\n",
        "mypath = './result_multi_ton'\n",
        "my_files = [f for f in listdir(mypath) if isfile(join(mypath, f))]\n"
      ]
    },
    {
      "cell_type": "code",
      "execution_count": 44,
      "metadata": {
        "colab": {
          "base_uri": "https://localhost:8080/"
        },
        "id": "C-jFBSJsBNjr",
        "outputId": "1b4e4148-934f-4769-a7f7-cab9013a2e49"
      },
      "outputs": [
        {
          "name": "stdout",
          "output_type": "stream",
          "text": [
            "['DT', 'X']\n",
            "['DT', '20']\n",
            "['DT', '40']\n",
            "['DT', '60']\n",
            "['ET', 'X']\n",
            "['ET', '20']\n",
            "['ET', '40']\n",
            "['ET', '60']\n",
            "['NB', 'X']\n",
            "['NB', '20']\n",
            "['NB', '40']\n",
            "['NB', '60']\n",
            "['MLP', 'X']\n",
            "['MLP', '20']\n",
            "['MLP', '40']\n",
            "['MLP', '60']\n",
            "['RF', 'X']\n",
            "['RF', '20']\n",
            "['RF', '40']\n",
            "['RF', '60']\n",
            "['XB', 'X']\n",
            "['XB', '20']\n",
            "['XB', '40']\n",
            "['XB', '60']\n"
          ]
        },
        {
          "name": "stderr",
          "output_type": "stream",
          "text": [
            "C:\\Users\\abder\\AppData\\Local\\Temp\\ipykernel_32064\\2347379765.py:39: SettingWithCopyWarning: \n",
            "A value is trying to be set on a copy of a slice from a DataFrame.\n",
            "Try using .loc[row_indexer,col_indexer] = value instead\n",
            "\n",
            "See the caveats in the documentation: https://pandas.pydata.org/pandas-docs/stable/user_guide/indexing.html#returning-a-view-versus-a-copy\n",
            "  df_new['params'] = df_new['param_max_depth'].apply(lambda x: f\"D{x}\")\n",
            "C:\\Users\\abder\\AppData\\Local\\Temp\\ipykernel_32064\\2347379765.py:40: SettingWithCopyWarning: \n",
            "A value is trying to be set on a copy of a slice from a DataFrame\n",
            "\n",
            "See the caveats in the documentation: https://pandas.pydata.org/pandas-docs/stable/user_guide/indexing.html#returning-a-view-versus-a-copy\n",
            "  df_new.drop(columns=['param_max_depth'], inplace=True)\n",
            "C:\\Users\\abder\\AppData\\Local\\Temp\\ipykernel_32064\\2347379765.py:39: SettingWithCopyWarning: \n",
            "A value is trying to be set on a copy of a slice from a DataFrame.\n",
            "Try using .loc[row_indexer,col_indexer] = value instead\n",
            "\n",
            "See the caveats in the documentation: https://pandas.pydata.org/pandas-docs/stable/user_guide/indexing.html#returning-a-view-versus-a-copy\n",
            "  df_new['params'] = df_new['param_max_depth'].apply(lambda x: f\"D{x}\")\n",
            "C:\\Users\\abder\\AppData\\Local\\Temp\\ipykernel_32064\\2347379765.py:40: SettingWithCopyWarning: \n",
            "A value is trying to be set on a copy of a slice from a DataFrame\n",
            "\n",
            "See the caveats in the documentation: https://pandas.pydata.org/pandas-docs/stable/user_guide/indexing.html#returning-a-view-versus-a-copy\n",
            "  df_new.drop(columns=['param_max_depth'], inplace=True)\n",
            "C:\\Users\\abder\\AppData\\Local\\Temp\\ipykernel_32064\\2347379765.py:39: SettingWithCopyWarning: \n",
            "A value is trying to be set on a copy of a slice from a DataFrame.\n",
            "Try using .loc[row_indexer,col_indexer] = value instead\n",
            "\n",
            "See the caveats in the documentation: https://pandas.pydata.org/pandas-docs/stable/user_guide/indexing.html#returning-a-view-versus-a-copy\n",
            "  df_new['params'] = df_new['param_max_depth'].apply(lambda x: f\"D{x}\")\n",
            "C:\\Users\\abder\\AppData\\Local\\Temp\\ipykernel_32064\\2347379765.py:40: SettingWithCopyWarning: \n",
            "A value is trying to be set on a copy of a slice from a DataFrame\n",
            "\n",
            "See the caveats in the documentation: https://pandas.pydata.org/pandas-docs/stable/user_guide/indexing.html#returning-a-view-versus-a-copy\n",
            "  df_new.drop(columns=['param_max_depth'], inplace=True)\n",
            "C:\\Users\\abder\\AppData\\Local\\Temp\\ipykernel_32064\\2347379765.py:39: SettingWithCopyWarning: \n",
            "A value is trying to be set on a copy of a slice from a DataFrame.\n",
            "Try using .loc[row_indexer,col_indexer] = value instead\n",
            "\n",
            "See the caveats in the documentation: https://pandas.pydata.org/pandas-docs/stable/user_guide/indexing.html#returning-a-view-versus-a-copy\n",
            "  df_new['params'] = df_new['param_max_depth'].apply(lambda x: f\"D{x}\")\n",
            "C:\\Users\\abder\\AppData\\Local\\Temp\\ipykernel_32064\\2347379765.py:40: SettingWithCopyWarning: \n",
            "A value is trying to be set on a copy of a slice from a DataFrame\n",
            "\n",
            "See the caveats in the documentation: https://pandas.pydata.org/pandas-docs/stable/user_guide/indexing.html#returning-a-view-versus-a-copy\n",
            "  df_new.drop(columns=['param_max_depth'], inplace=True)\n",
            "C:\\Users\\abder\\AppData\\Local\\Temp\\ipykernel_32064\\2347379765.py:35: SettingWithCopyWarning: \n",
            "A value is trying to be set on a copy of a slice from a DataFrame.\n",
            "Try using .loc[row_indexer,col_indexer] = value instead\n",
            "\n",
            "See the caveats in the documentation: https://pandas.pydata.org/pandas-docs/stable/user_guide/indexing.html#returning-a-view-versus-a-copy\n",
            "  df_new['params'] = df_new.apply(lambda x: f\"E{int(x['param_n_estimators'])}D{int(x['param_max_depth'])}\",axis=1)\n",
            "C:\\Users\\abder\\AppData\\Local\\Temp\\ipykernel_32064\\2347379765.py:36: SettingWithCopyWarning: \n",
            "A value is trying to be set on a copy of a slice from a DataFrame\n",
            "\n",
            "See the caveats in the documentation: https://pandas.pydata.org/pandas-docs/stable/user_guide/indexing.html#returning-a-view-versus-a-copy\n",
            "  df_new.drop(columns=['param_n_estimators','param_max_depth'], inplace=True)\n",
            "C:\\Users\\abder\\AppData\\Local\\Temp\\ipykernel_32064\\2347379765.py:35: SettingWithCopyWarning: \n",
            "A value is trying to be set on a copy of a slice from a DataFrame.\n",
            "Try using .loc[row_indexer,col_indexer] = value instead\n",
            "\n",
            "See the caveats in the documentation: https://pandas.pydata.org/pandas-docs/stable/user_guide/indexing.html#returning-a-view-versus-a-copy\n",
            "  df_new['params'] = df_new.apply(lambda x: f\"E{int(x['param_n_estimators'])}D{int(x['param_max_depth'])}\",axis=1)\n",
            "C:\\Users\\abder\\AppData\\Local\\Temp\\ipykernel_32064\\2347379765.py:36: SettingWithCopyWarning: \n",
            "A value is trying to be set on a copy of a slice from a DataFrame\n",
            "\n",
            "See the caveats in the documentation: https://pandas.pydata.org/pandas-docs/stable/user_guide/indexing.html#returning-a-view-versus-a-copy\n",
            "  df_new.drop(columns=['param_n_estimators','param_max_depth'], inplace=True)\n",
            "C:\\Users\\abder\\AppData\\Local\\Temp\\ipykernel_32064\\2347379765.py:35: SettingWithCopyWarning: \n",
            "A value is trying to be set on a copy of a slice from a DataFrame.\n",
            "Try using .loc[row_indexer,col_indexer] = value instead\n",
            "\n",
            "See the caveats in the documentation: https://pandas.pydata.org/pandas-docs/stable/user_guide/indexing.html#returning-a-view-versus-a-copy\n",
            "  df_new['params'] = df_new.apply(lambda x: f\"E{int(x['param_n_estimators'])}D{int(x['param_max_depth'])}\",axis=1)\n",
            "C:\\Users\\abder\\AppData\\Local\\Temp\\ipykernel_32064\\2347379765.py:36: SettingWithCopyWarning: \n",
            "A value is trying to be set on a copy of a slice from a DataFrame\n",
            "\n",
            "See the caveats in the documentation: https://pandas.pydata.org/pandas-docs/stable/user_guide/indexing.html#returning-a-view-versus-a-copy\n",
            "  df_new.drop(columns=['param_n_estimators','param_max_depth'], inplace=True)\n",
            "C:\\Users\\abder\\AppData\\Local\\Temp\\ipykernel_32064\\2347379765.py:35: SettingWithCopyWarning: \n",
            "A value is trying to be set on a copy of a slice from a DataFrame.\n",
            "Try using .loc[row_indexer,col_indexer] = value instead\n",
            "\n",
            "See the caveats in the documentation: https://pandas.pydata.org/pandas-docs/stable/user_guide/indexing.html#returning-a-view-versus-a-copy\n",
            "  df_new['params'] = df_new.apply(lambda x: f\"E{int(x['param_n_estimators'])}D{int(x['param_max_depth'])}\",axis=1)\n",
            "C:\\Users\\abder\\AppData\\Local\\Temp\\ipykernel_32064\\2347379765.py:36: SettingWithCopyWarning: \n",
            "A value is trying to be set on a copy of a slice from a DataFrame\n",
            "\n",
            "See the caveats in the documentation: https://pandas.pydata.org/pandas-docs/stable/user_guide/indexing.html#returning-a-view-versus-a-copy\n",
            "  df_new.drop(columns=['param_n_estimators','param_max_depth'], inplace=True)\n",
            "C:\\Users\\abder\\AppData\\Local\\Temp\\ipykernel_32064\\2347379765.py:43: SettingWithCopyWarning: \n",
            "A value is trying to be set on a copy of a slice from a DataFrame.\n",
            "Try using .loc[row_indexer,col_indexer] = value instead\n",
            "\n",
            "See the caveats in the documentation: https://pandas.pydata.org/pandas-docs/stable/user_guide/indexing.html#returning-a-view-versus-a-copy\n",
            "  df_new['params'] = df_new['param_var_smoothing'].apply(lambda x: f\"S{x}\")\n",
            "C:\\Users\\abder\\AppData\\Local\\Temp\\ipykernel_32064\\2347379765.py:44: SettingWithCopyWarning: \n",
            "A value is trying to be set on a copy of a slice from a DataFrame\n",
            "\n",
            "See the caveats in the documentation: https://pandas.pydata.org/pandas-docs/stable/user_guide/indexing.html#returning-a-view-versus-a-copy\n",
            "  df_new.drop(columns=['param_var_smoothing'], inplace=True)\n",
            "C:\\Users\\abder\\AppData\\Local\\Temp\\ipykernel_32064\\2347379765.py:43: SettingWithCopyWarning: \n",
            "A value is trying to be set on a copy of a slice from a DataFrame.\n",
            "Try using .loc[row_indexer,col_indexer] = value instead\n",
            "\n",
            "See the caveats in the documentation: https://pandas.pydata.org/pandas-docs/stable/user_guide/indexing.html#returning-a-view-versus-a-copy\n",
            "  df_new['params'] = df_new['param_var_smoothing'].apply(lambda x: f\"S{x}\")\n",
            "C:\\Users\\abder\\AppData\\Local\\Temp\\ipykernel_32064\\2347379765.py:44: SettingWithCopyWarning: \n",
            "A value is trying to be set on a copy of a slice from a DataFrame\n",
            "\n",
            "See the caveats in the documentation: https://pandas.pydata.org/pandas-docs/stable/user_guide/indexing.html#returning-a-view-versus-a-copy\n",
            "  df_new.drop(columns=['param_var_smoothing'], inplace=True)\n",
            "C:\\Users\\abder\\AppData\\Local\\Temp\\ipykernel_32064\\2347379765.py:43: SettingWithCopyWarning: \n",
            "A value is trying to be set on a copy of a slice from a DataFrame.\n",
            "Try using .loc[row_indexer,col_indexer] = value instead\n",
            "\n",
            "See the caveats in the documentation: https://pandas.pydata.org/pandas-docs/stable/user_guide/indexing.html#returning-a-view-versus-a-copy\n",
            "  df_new['params'] = df_new['param_var_smoothing'].apply(lambda x: f\"S{x}\")\n",
            "C:\\Users\\abder\\AppData\\Local\\Temp\\ipykernel_32064\\2347379765.py:44: SettingWithCopyWarning: \n",
            "A value is trying to be set on a copy of a slice from a DataFrame\n",
            "\n",
            "See the caveats in the documentation: https://pandas.pydata.org/pandas-docs/stable/user_guide/indexing.html#returning-a-view-versus-a-copy\n",
            "  df_new.drop(columns=['param_var_smoothing'], inplace=True)\n",
            "C:\\Users\\abder\\AppData\\Local\\Temp\\ipykernel_32064\\2347379765.py:43: SettingWithCopyWarning: \n",
            "A value is trying to be set on a copy of a slice from a DataFrame.\n",
            "Try using .loc[row_indexer,col_indexer] = value instead\n",
            "\n",
            "See the caveats in the documentation: https://pandas.pydata.org/pandas-docs/stable/user_guide/indexing.html#returning-a-view-versus-a-copy\n",
            "  df_new['params'] = df_new['param_var_smoothing'].apply(lambda x: f\"S{x}\")\n",
            "C:\\Users\\abder\\AppData\\Local\\Temp\\ipykernel_32064\\2347379765.py:44: SettingWithCopyWarning: \n",
            "A value is trying to be set on a copy of a slice from a DataFrame\n",
            "\n",
            "See the caveats in the documentation: https://pandas.pydata.org/pandas-docs/stable/user_guide/indexing.html#returning-a-view-versus-a-copy\n",
            "  df_new.drop(columns=['param_var_smoothing'], inplace=True)\n",
            "C:\\Users\\abder\\AppData\\Local\\Temp\\ipykernel_32064\\2347379765.py:46: SettingWithCopyWarning: \n",
            "A value is trying to be set on a copy of a slice from a DataFrame.\n",
            "Try using .loc[row_indexer,col_indexer] = value instead\n",
            "\n",
            "See the caveats in the documentation: https://pandas.pydata.org/pandas-docs/stable/user_guide/indexing.html#returning-a-view-versus-a-copy\n",
            "  df_new['params'] = df_new['param_hidden_layer_sizes'].apply(lambda x: f\"L{x}\")\n",
            "C:\\Users\\abder\\AppData\\Local\\Temp\\ipykernel_32064\\2347379765.py:47: SettingWithCopyWarning: \n",
            "A value is trying to be set on a copy of a slice from a DataFrame\n",
            "\n",
            "See the caveats in the documentation: https://pandas.pydata.org/pandas-docs/stable/user_guide/indexing.html#returning-a-view-versus-a-copy\n",
            "  df_new.drop(columns=['param_hidden_layer_sizes'], inplace=True)\n",
            "C:\\Users\\abder\\AppData\\Local\\Temp\\ipykernel_32064\\2347379765.py:46: SettingWithCopyWarning: \n",
            "A value is trying to be set on a copy of a slice from a DataFrame.\n",
            "Try using .loc[row_indexer,col_indexer] = value instead\n",
            "\n",
            "See the caveats in the documentation: https://pandas.pydata.org/pandas-docs/stable/user_guide/indexing.html#returning-a-view-versus-a-copy\n",
            "  df_new['params'] = df_new['param_hidden_layer_sizes'].apply(lambda x: f\"L{x}\")\n",
            "C:\\Users\\abder\\AppData\\Local\\Temp\\ipykernel_32064\\2347379765.py:47: SettingWithCopyWarning: \n",
            "A value is trying to be set on a copy of a slice from a DataFrame\n",
            "\n",
            "See the caveats in the documentation: https://pandas.pydata.org/pandas-docs/stable/user_guide/indexing.html#returning-a-view-versus-a-copy\n",
            "  df_new.drop(columns=['param_hidden_layer_sizes'], inplace=True)\n",
            "C:\\Users\\abder\\AppData\\Local\\Temp\\ipykernel_32064\\2347379765.py:46: SettingWithCopyWarning: \n",
            "A value is trying to be set on a copy of a slice from a DataFrame.\n",
            "Try using .loc[row_indexer,col_indexer] = value instead\n",
            "\n",
            "See the caveats in the documentation: https://pandas.pydata.org/pandas-docs/stable/user_guide/indexing.html#returning-a-view-versus-a-copy\n",
            "  df_new['params'] = df_new['param_hidden_layer_sizes'].apply(lambda x: f\"L{x}\")\n",
            "C:\\Users\\abder\\AppData\\Local\\Temp\\ipykernel_32064\\2347379765.py:47: SettingWithCopyWarning: \n",
            "A value is trying to be set on a copy of a slice from a DataFrame\n",
            "\n",
            "See the caveats in the documentation: https://pandas.pydata.org/pandas-docs/stable/user_guide/indexing.html#returning-a-view-versus-a-copy\n",
            "  df_new.drop(columns=['param_hidden_layer_sizes'], inplace=True)\n",
            "C:\\Users\\abder\\AppData\\Local\\Temp\\ipykernel_32064\\2347379765.py:46: SettingWithCopyWarning: \n",
            "A value is trying to be set on a copy of a slice from a DataFrame.\n",
            "Try using .loc[row_indexer,col_indexer] = value instead\n",
            "\n",
            "See the caveats in the documentation: https://pandas.pydata.org/pandas-docs/stable/user_guide/indexing.html#returning-a-view-versus-a-copy\n",
            "  df_new['params'] = df_new['param_hidden_layer_sizes'].apply(lambda x: f\"L{x}\")\n",
            "C:\\Users\\abder\\AppData\\Local\\Temp\\ipykernel_32064\\2347379765.py:47: SettingWithCopyWarning: \n",
            "A value is trying to be set on a copy of a slice from a DataFrame\n",
            "\n",
            "See the caveats in the documentation: https://pandas.pydata.org/pandas-docs/stable/user_guide/indexing.html#returning-a-view-versus-a-copy\n",
            "  df_new.drop(columns=['param_hidden_layer_sizes'], inplace=True)\n",
            "C:\\Users\\abder\\AppData\\Local\\Temp\\ipykernel_32064\\2347379765.py:35: SettingWithCopyWarning: \n",
            "A value is trying to be set on a copy of a slice from a DataFrame.\n",
            "Try using .loc[row_indexer,col_indexer] = value instead\n",
            "\n",
            "See the caveats in the documentation: https://pandas.pydata.org/pandas-docs/stable/user_guide/indexing.html#returning-a-view-versus-a-copy\n",
            "  df_new['params'] = df_new.apply(lambda x: f\"E{int(x['param_n_estimators'])}D{int(x['param_max_depth'])}\",axis=1)\n",
            "C:\\Users\\abder\\AppData\\Local\\Temp\\ipykernel_32064\\2347379765.py:36: SettingWithCopyWarning: \n",
            "A value is trying to be set on a copy of a slice from a DataFrame\n",
            "\n",
            "See the caveats in the documentation: https://pandas.pydata.org/pandas-docs/stable/user_guide/indexing.html#returning-a-view-versus-a-copy\n",
            "  df_new.drop(columns=['param_n_estimators','param_max_depth'], inplace=True)\n",
            "C:\\Users\\abder\\AppData\\Local\\Temp\\ipykernel_32064\\2347379765.py:35: SettingWithCopyWarning: \n",
            "A value is trying to be set on a copy of a slice from a DataFrame.\n",
            "Try using .loc[row_indexer,col_indexer] = value instead\n",
            "\n",
            "See the caveats in the documentation: https://pandas.pydata.org/pandas-docs/stable/user_guide/indexing.html#returning-a-view-versus-a-copy\n",
            "  df_new['params'] = df_new.apply(lambda x: f\"E{int(x['param_n_estimators'])}D{int(x['param_max_depth'])}\",axis=1)\n",
            "C:\\Users\\abder\\AppData\\Local\\Temp\\ipykernel_32064\\2347379765.py:36: SettingWithCopyWarning: \n",
            "A value is trying to be set on a copy of a slice from a DataFrame\n",
            "\n",
            "See the caveats in the documentation: https://pandas.pydata.org/pandas-docs/stable/user_guide/indexing.html#returning-a-view-versus-a-copy\n",
            "  df_new.drop(columns=['param_n_estimators','param_max_depth'], inplace=True)\n",
            "C:\\Users\\abder\\AppData\\Local\\Temp\\ipykernel_32064\\2347379765.py:35: SettingWithCopyWarning: \n",
            "A value is trying to be set on a copy of a slice from a DataFrame.\n",
            "Try using .loc[row_indexer,col_indexer] = value instead\n",
            "\n",
            "See the caveats in the documentation: https://pandas.pydata.org/pandas-docs/stable/user_guide/indexing.html#returning-a-view-versus-a-copy\n",
            "  df_new['params'] = df_new.apply(lambda x: f\"E{int(x['param_n_estimators'])}D{int(x['param_max_depth'])}\",axis=1)\n",
            "C:\\Users\\abder\\AppData\\Local\\Temp\\ipykernel_32064\\2347379765.py:36: SettingWithCopyWarning: \n",
            "A value is trying to be set on a copy of a slice from a DataFrame\n",
            "\n",
            "See the caveats in the documentation: https://pandas.pydata.org/pandas-docs/stable/user_guide/indexing.html#returning-a-view-versus-a-copy\n",
            "  df_new.drop(columns=['param_n_estimators','param_max_depth'], inplace=True)\n",
            "C:\\Users\\abder\\AppData\\Local\\Temp\\ipykernel_32064\\2347379765.py:35: SettingWithCopyWarning: \n",
            "A value is trying to be set on a copy of a slice from a DataFrame.\n",
            "Try using .loc[row_indexer,col_indexer] = value instead\n",
            "\n",
            "See the caveats in the documentation: https://pandas.pydata.org/pandas-docs/stable/user_guide/indexing.html#returning-a-view-versus-a-copy\n",
            "  df_new['params'] = df_new.apply(lambda x: f\"E{int(x['param_n_estimators'])}D{int(x['param_max_depth'])}\",axis=1)\n",
            "C:\\Users\\abder\\AppData\\Local\\Temp\\ipykernel_32064\\2347379765.py:36: SettingWithCopyWarning: \n",
            "A value is trying to be set on a copy of a slice from a DataFrame\n",
            "\n",
            "See the caveats in the documentation: https://pandas.pydata.org/pandas-docs/stable/user_guide/indexing.html#returning-a-view-versus-a-copy\n",
            "  df_new.drop(columns=['param_n_estimators','param_max_depth'], inplace=True)\n",
            "C:\\Users\\abder\\AppData\\Local\\Temp\\ipykernel_32064\\2347379765.py:35: SettingWithCopyWarning: \n",
            "A value is trying to be set on a copy of a slice from a DataFrame.\n",
            "Try using .loc[row_indexer,col_indexer] = value instead\n",
            "\n",
            "See the caveats in the documentation: https://pandas.pydata.org/pandas-docs/stable/user_guide/indexing.html#returning-a-view-versus-a-copy\n",
            "  df_new['params'] = df_new.apply(lambda x: f\"E{int(x['param_n_estimators'])}D{int(x['param_max_depth'])}\",axis=1)\n",
            "C:\\Users\\abder\\AppData\\Local\\Temp\\ipykernel_32064\\2347379765.py:36: SettingWithCopyWarning: \n",
            "A value is trying to be set on a copy of a slice from a DataFrame\n",
            "\n",
            "See the caveats in the documentation: https://pandas.pydata.org/pandas-docs/stable/user_guide/indexing.html#returning-a-view-versus-a-copy\n",
            "  df_new.drop(columns=['param_n_estimators','param_max_depth'], inplace=True)\n",
            "C:\\Users\\abder\\AppData\\Local\\Temp\\ipykernel_32064\\2347379765.py:35: SettingWithCopyWarning: \n",
            "A value is trying to be set on a copy of a slice from a DataFrame.\n",
            "Try using .loc[row_indexer,col_indexer] = value instead\n",
            "\n",
            "See the caveats in the documentation: https://pandas.pydata.org/pandas-docs/stable/user_guide/indexing.html#returning-a-view-versus-a-copy\n",
            "  df_new['params'] = df_new.apply(lambda x: f\"E{int(x['param_n_estimators'])}D{int(x['param_max_depth'])}\",axis=1)\n",
            "C:\\Users\\abder\\AppData\\Local\\Temp\\ipykernel_32064\\2347379765.py:36: SettingWithCopyWarning: \n",
            "A value is trying to be set on a copy of a slice from a DataFrame\n",
            "\n",
            "See the caveats in the documentation: https://pandas.pydata.org/pandas-docs/stable/user_guide/indexing.html#returning-a-view-versus-a-copy\n",
            "  df_new.drop(columns=['param_n_estimators','param_max_depth'], inplace=True)\n",
            "C:\\Users\\abder\\AppData\\Local\\Temp\\ipykernel_32064\\2347379765.py:35: SettingWithCopyWarning: \n",
            "A value is trying to be set on a copy of a slice from a DataFrame.\n",
            "Try using .loc[row_indexer,col_indexer] = value instead\n",
            "\n",
            "See the caveats in the documentation: https://pandas.pydata.org/pandas-docs/stable/user_guide/indexing.html#returning-a-view-versus-a-copy\n",
            "  df_new['params'] = df_new.apply(lambda x: f\"E{int(x['param_n_estimators'])}D{int(x['param_max_depth'])}\",axis=1)\n",
            "C:\\Users\\abder\\AppData\\Local\\Temp\\ipykernel_32064\\2347379765.py:36: SettingWithCopyWarning: \n",
            "A value is trying to be set on a copy of a slice from a DataFrame\n",
            "\n",
            "See the caveats in the documentation: https://pandas.pydata.org/pandas-docs/stable/user_guide/indexing.html#returning-a-view-versus-a-copy\n",
            "  df_new.drop(columns=['param_n_estimators','param_max_depth'], inplace=True)\n",
            "C:\\Users\\abder\\AppData\\Local\\Temp\\ipykernel_32064\\2347379765.py:35: SettingWithCopyWarning: \n",
            "A value is trying to be set on a copy of a slice from a DataFrame.\n",
            "Try using .loc[row_indexer,col_indexer] = value instead\n",
            "\n",
            "See the caveats in the documentation: https://pandas.pydata.org/pandas-docs/stable/user_guide/indexing.html#returning-a-view-versus-a-copy\n",
            "  df_new['params'] = df_new.apply(lambda x: f\"E{int(x['param_n_estimators'])}D{int(x['param_max_depth'])}\",axis=1)\n",
            "C:\\Users\\abder\\AppData\\Local\\Temp\\ipykernel_32064\\2347379765.py:36: SettingWithCopyWarning: \n",
            "A value is trying to be set on a copy of a slice from a DataFrame\n",
            "\n",
            "See the caveats in the documentation: https://pandas.pydata.org/pandas-docs/stable/user_guide/indexing.html#returning-a-view-versus-a-copy\n",
            "  df_new.drop(columns=['param_n_estimators','param_max_depth'], inplace=True)\n"
          ]
        }
      ],
      "source": [
        "my_dict = {}\n",
        "for f in my_files:\n",
        "  path_file = join(mypath, f)\n",
        "  k,v = funct_sckot_not(path_file,'result_bot_df')\n",
        "  my_dict[k] = v"
      ]
    },
    {
      "cell_type": "code",
      "execution_count": 45,
      "metadata": {
        "colab": {
          "base_uri": "https://localhost:8080/"
        },
        "id": "o5qZ5qjJ44ZU",
        "outputId": "4df6c15b-695e-412c-ed96-2a226a45083d"
      },
      "outputs": [
        {
          "data": {
            "text/plain": [
              "24"
            ]
          },
          "execution_count": 45,
          "metadata": {},
          "output_type": "execute_result"
        }
      ],
      "source": [
        "len(my_dict.keys())"
      ]
    },
    {
      "cell_type": "code",
      "execution_count": 46,
      "metadata": {
        "colab": {
          "base_uri": "https://localhost:8080/",
          "height": 53
        },
        "id": "mx1OwhlzDXPo",
        "outputId": "8744d2d6-5f52-4214-e8e2-3adbbe6b6a97"
      },
      "outputs": [
        {
          "data": {
            "text/plain": [
              "'c:\\\\Users\\\\abder\\\\OneDrive\\\\Documents\\\\phd\\\\notebook TinyML Multiclassification\\\\Generate dataframe for skotknott\\\\result_skott_ton.zip'"
            ]
          },
          "execution_count": 46,
          "metadata": {},
          "output_type": "execute_result"
        }
      ],
      "source": [
        "\n",
        "my_data = {}\n",
        "for k,v in my_dict.items():\n",
        "  df = v.melt(var_name='model', value_name='Kappa')\n",
        "  df = df[['Kappa', 'model']]\n",
        "  my_data[k] = df\n",
        "  df.to_csv(f'result_skott_ton/{k}.csv',index=False)\n",
        "\n",
        "import shutil\n",
        "shutil.make_archive('result_skott_ton', 'zip', 'result_skott_ton')"
      ]
    },
    {
      "cell_type": "markdown",
      "metadata": {},
      "source": [
        "# 20%"
      ]
    },
    {
      "cell_type": "code",
      "execution_count": 47,
      "metadata": {},
      "outputs": [],
      "source": [
        "df1 = my_data['DT_20'][my_data['DT_20']['model']=='D4']\n",
        "df2 = my_data['DT_20'][my_data['DT_20']['model']=='D12']\n",
        "\n",
        "frames = [df1,df2]\n",
        "\n",
        "result_DT = pd.concat(frames)\n",
        "\n",
        "result_DT['model'] = result_DT['model'].apply(lambda x: f'DT20_{x}')"
      ]
    },
    {
      "cell_type": "code",
      "execution_count": null,
      "metadata": {},
      "outputs": [],
      "source": []
    },
    {
      "cell_type": "code",
      "execution_count": 48,
      "metadata": {
        "id": "QAhBpWbkDnuX"
      },
      "outputs": [],
      "source": [
        "result_MLP = my_data['MLP_20']\n",
        "result_MLP['model'] = result_MLP['model'].apply(lambda x: f'MLP20_{x}')"
      ]
    },
    {
      "cell_type": "code",
      "execution_count": 49,
      "metadata": {
        "id": "08nUEel_HPIm"
      },
      "outputs": [],
      "source": [
        "result_NB = my_data['NB_20']\n",
        "result_NB['model'] = result_NB['model'].apply(lambda x: f'NB20_{x}')"
      ]
    },
    {
      "cell_type": "code",
      "execution_count": 50,
      "metadata": {},
      "outputs": [],
      "source": [
        "df1 = my_data['ET_20'][my_data['ET_20']['model']=='E2D8']\n",
        "df2 = my_data['ET_20'][my_data['ET_20']['model']=='E2D16']\n",
        "df3 = my_data['ET_20'][my_data['ET_20']['model']=='E4D8']\n",
        "df4 = my_data['ET_20'][my_data['ET_20']['model']=='E6D8']\n",
        "df5 = my_data['ET_20'][my_data['ET_20']['model']=='E4D16']\n",
        "\n",
        "frames = [df1,df2,df3,df4,df5]\n",
        "\n",
        "result_ET = pd.concat(frames)\n",
        "\n",
        "result_ET['model'] = result_ET['model'].apply(lambda x: f'ET20_{x}')"
      ]
    },
    {
      "cell_type": "code",
      "execution_count": 51,
      "metadata": {},
      "outputs": [],
      "source": [
        "df1 = my_data['RF_20'][my_data['RF_20']['model']=='E2D8']\n",
        "df2 = my_data['RF_20'][my_data['RF_20']['model']=='E4D8']\n",
        "df3 = my_data['RF_20'][my_data['RF_20']['model']=='E6D8']\n",
        "\n",
        "frames = [df1,df2,df3]\n",
        "\n",
        "result_RF = pd.concat(frames)\n",
        "\n",
        "result_RF['model'] = result_RF['model'].apply(lambda x: f'RF20_{x}')"
      ]
    },
    {
      "cell_type": "code",
      "execution_count": null,
      "metadata": {},
      "outputs": [],
      "source": []
    },
    {
      "cell_type": "code",
      "execution_count": 52,
      "metadata": {},
      "outputs": [],
      "source": [
        "frames = [result_DT,result_MLP,result_NB,result_ET,result_RF]\n",
        "\n",
        "result_20 = pd.concat(frames)\n",
        "\n",
        "result_20.to_csv('result_20.csv')"
      ]
    },
    {
      "cell_type": "markdown",
      "metadata": {},
      "source": [
        "# 40%"
      ]
    },
    {
      "cell_type": "code",
      "execution_count": null,
      "metadata": {
        "colab": {
          "base_uri": "https://localhost:8080/"
        },
        "id": "tlZC9fSTG-4h",
        "outputId": "eca33e58-b1e8-4797-f06e-3e32e42bcb9d"
      },
      "outputs": [],
      "source": []
    },
    {
      "cell_type": "code",
      "execution_count": 23,
      "metadata": {},
      "outputs": [
        {
          "name": "stderr",
          "output_type": "stream",
          "text": [
            "C:\\Users\\abder\\AppData\\Local\\Temp\\ipykernel_32064\\2860885006.py:6: SettingWithCopyWarning: \n",
            "A value is trying to be set on a copy of a slice from a DataFrame.\n",
            "Try using .loc[row_indexer,col_indexer] = value instead\n",
            "\n",
            "See the caveats in the documentation: https://pandas.pydata.org/pandas-docs/stable/user_guide/indexing.html#returning-a-view-versus-a-copy\n",
            "  result_DT['model'] = result_DT['model'].apply(lambda x: f'DT40_{x}')\n"
          ]
        }
      ],
      "source": [
        "df1 = my_data['DT_40'][my_data['DT_40']['model']=='D4']\n",
        "\n",
        "\n",
        "result_DT = df1\n",
        "\n",
        "result_DT['model'] = result_DT['model'].apply(lambda x: f'DT40_{x}')"
      ]
    },
    {
      "cell_type": "code",
      "execution_count": 24,
      "metadata": {},
      "outputs": [],
      "source": [
        "result_MLP = my_data['MLP_40']\n",
        "result_MLP['model'] = result_MLP['model'].apply(lambda x: f'MLP40_{x}')"
      ]
    },
    {
      "cell_type": "code",
      "execution_count": 25,
      "metadata": {},
      "outputs": [],
      "source": [
        "result_NB = my_data['NB_40']\n",
        "result_NB['model'] = result_NB['model'].apply(lambda x: f'NB40_{x}')"
      ]
    },
    {
      "cell_type": "code",
      "execution_count": 26,
      "metadata": {},
      "outputs": [],
      "source": [
        "df1 = my_data['ET_40'][my_data['ET_40']['model']=='E2D8']\n",
        "df2 = my_data['ET_40'][my_data['ET_40']['model']=='E2D16']\n",
        "df3 = my_data['ET_40'][my_data['ET_40']['model']=='E4D8']\n",
        "df4 = my_data['ET_40'][my_data['ET_40']['model']=='E6D8']\n",
        "\n",
        "frames = [df1,df2,df3,df4]\n",
        "\n",
        "result_ET = pd.concat(frames)\n",
        "\n",
        "result_ET['model'] = result_ET['model'].apply(lambda x: f'ET40_{x}')"
      ]
    },
    {
      "cell_type": "code",
      "execution_count": 27,
      "metadata": {},
      "outputs": [],
      "source": [
        "df1 = my_data['RF_40'][my_data['RF_40']['model']=='E2D8']\n",
        "df2 = my_data['RF_40'][my_data['RF_40']['model']=='E4D8']\n",
        "df3 = my_data['RF_40'][my_data['RF_40']['model']=='E6D8']\n",
        "\n",
        "frames = [df1,df2,df3]\n",
        "\n",
        "result_RF = pd.concat(frames)\n",
        "\n",
        "result_RF['model'] = result_RF['model'].apply(lambda x: f'RF40_{x}')"
      ]
    },
    {
      "cell_type": "code",
      "execution_count": 28,
      "metadata": {},
      "outputs": [],
      "source": [
        "frames = [result_DT,result_MLP,result_NB,result_ET,result_RF]\n",
        "\n",
        "result_40 = pd.concat(frames)\n",
        "\n",
        "result_40.to_csv('result_40.csv')"
      ]
    },
    {
      "cell_type": "markdown",
      "metadata": {},
      "source": [
        "# 60 %"
      ]
    },
    {
      "cell_type": "code",
      "execution_count": null,
      "metadata": {},
      "outputs": [],
      "source": []
    },
    {
      "cell_type": "code",
      "execution_count": 29,
      "metadata": {},
      "outputs": [
        {
          "name": "stderr",
          "output_type": "stream",
          "text": [
            "C:\\Users\\abder\\AppData\\Local\\Temp\\ipykernel_32064\\1821157258.py:6: SettingWithCopyWarning: \n",
            "A value is trying to be set on a copy of a slice from a DataFrame.\n",
            "Try using .loc[row_indexer,col_indexer] = value instead\n",
            "\n",
            "See the caveats in the documentation: https://pandas.pydata.org/pandas-docs/stable/user_guide/indexing.html#returning-a-view-versus-a-copy\n",
            "  result_DT['model'] = result_DT['model'].apply(lambda x: f'DT60_{x}')\n"
          ]
        }
      ],
      "source": [
        "df1 = my_data['DT_60'][my_data['DT_60']['model']=='D4']\n",
        "\n",
        "\n",
        "result_DT = df1\n",
        "\n",
        "result_DT['model'] = result_DT['model'].apply(lambda x: f'DT60_{x}')"
      ]
    },
    {
      "cell_type": "code",
      "execution_count": 30,
      "metadata": {},
      "outputs": [],
      "source": [
        "result_MLP = my_data['MLP_60']\n",
        "result_MLP['model'] = result_MLP['model'].apply(lambda x: f'MLP60_{x}')"
      ]
    },
    {
      "cell_type": "code",
      "execution_count": 31,
      "metadata": {},
      "outputs": [],
      "source": [
        "result_NB = my_data['NB_60']\n",
        "result_NB['model'] = result_NB['model'].apply(lambda x: f'NB60_{x}')"
      ]
    },
    {
      "cell_type": "code",
      "execution_count": 32,
      "metadata": {},
      "outputs": [],
      "source": [
        "df1 = my_data['ET_60'][my_data['ET_60']['model']=='E2D8']\n",
        "df2 = my_data['ET_60'][my_data['ET_60']['model']=='E4D8']\n",
        "df3 = my_data['ET_60'][my_data['ET_60']['model']=='E6D8']\n",
        "\n",
        "frames = [df1,df2,df3]\n",
        "\n",
        "result_ET = pd.concat(frames)\n",
        "\n",
        "result_ET['model'] = result_ET['model'].apply(lambda x: f'ET60_{x}')"
      ]
    },
    {
      "cell_type": "code",
      "execution_count": 33,
      "metadata": {},
      "outputs": [],
      "source": [
        "df1 = my_data['RF_60'][my_data['RF_60']['model']=='E2D8']\n",
        "df2 = my_data['RF_60'][my_data['RF_60']['model']=='E4D8']\n",
        "\n",
        "frames = [df1,df2]\n",
        "\n",
        "result_RF = pd.concat(frames)\n",
        "\n",
        "result_RF['model'] = result_RF['model'].apply(lambda x: f'RF60_{x}')"
      ]
    },
    {
      "cell_type": "code",
      "execution_count": 34,
      "metadata": {},
      "outputs": [],
      "source": [
        "frames = [result_DT,result_MLP,result_NB,result_ET,result_RF]\n",
        "\n",
        "result_60 = pd.concat(frames)\n",
        "\n",
        "result_60.to_csv('result_60.csv')"
      ]
    },
    {
      "cell_type": "markdown",
      "metadata": {},
      "source": [
        "# 100% "
      ]
    },
    {
      "cell_type": "code",
      "execution_count": 35,
      "metadata": {},
      "outputs": [
        {
          "data": {
            "text/plain": [
              "dict_keys(['DT_X', 'DT_20', 'DT_40', 'DT_60', 'ET_X', 'ET_20', 'ET_40', 'ET_60', 'NB_X', 'NB_20', 'NB_40', 'NB_60', 'MLP_X', 'MLP_20', 'MLP_40', 'MLP_60', 'RF_X', 'RF_20', 'RF_40', 'RF_60', 'XB_X', 'XB_20', 'XB_40', 'XB_60'])"
            ]
          },
          "execution_count": 35,
          "metadata": {},
          "output_type": "execute_result"
        }
      ],
      "source": [
        "my_data.keys()"
      ]
    },
    {
      "cell_type": "code",
      "execution_count": 36,
      "metadata": {},
      "outputs": [
        {
          "name": "stderr",
          "output_type": "stream",
          "text": [
            "C:\\Users\\abder\\AppData\\Local\\Temp\\ipykernel_32064\\939793311.py:6: SettingWithCopyWarning: \n",
            "A value is trying to be set on a copy of a slice from a DataFrame.\n",
            "Try using .loc[row_indexer,col_indexer] = value instead\n",
            "\n",
            "See the caveats in the documentation: https://pandas.pydata.org/pandas-docs/stable/user_guide/indexing.html#returning-a-view-versus-a-copy\n",
            "  result_DT['model'] = result_DT['model'].apply(lambda x: f'DT100_{x}')\n"
          ]
        }
      ],
      "source": [
        "df1 = my_data['DT_X'][my_data['DT_X']['model']=='D4']\n",
        "\n",
        "\n",
        "result_DT = df1\n",
        "\n",
        "result_DT['model'] = result_DT['model'].apply(lambda x: f'DT100_{x}')"
      ]
    },
    {
      "cell_type": "code",
      "execution_count": 37,
      "metadata": {},
      "outputs": [],
      "source": [
        "result_MLP = my_data['MLP_X']\n",
        "result_MLP['model'] = result_MLP['model'].apply(lambda x: f'MLP100_{x}')"
      ]
    },
    {
      "cell_type": "code",
      "execution_count": 38,
      "metadata": {},
      "outputs": [],
      "source": [
        "result_NB = my_data['NB_X']\n",
        "result_NB['model'] = result_NB['model'].apply(lambda x: f'NB100_{x}')"
      ]
    },
    {
      "cell_type": "code",
      "execution_count": 39,
      "metadata": {},
      "outputs": [],
      "source": [
        "df1 = my_data['ET_X'][my_data['ET_X']['model']=='E2D8']\n",
        "df2 = my_data['ET_X'][my_data['ET_X']['model']=='E2D16']\n",
        "df3 = my_data['ET_X'][my_data['ET_X']['model']=='E4D8']\n",
        "df4 = my_data['ET_X'][my_data['ET_X']['model']=='E6D8']\n",
        "\n",
        "frames = [df1,df2,df3,df4]\n",
        "\n",
        "result_ET = pd.concat(frames)\n",
        "\n",
        "result_ET['model'] = result_ET['model'].apply(lambda x: f'ET100_{x}')"
      ]
    },
    {
      "cell_type": "code",
      "execution_count": 40,
      "metadata": {},
      "outputs": [],
      "source": [
        "df1 = my_data['RF_X'][my_data['RF_X']['model']=='E2D8']\n",
        "df2 = my_data['RF_X'][my_data['RF_X']['model']=='E4D8']\n",
        "\n",
        "frames = [df1,df2]\n",
        "\n",
        "result_RF = pd.concat(frames)\n",
        "\n",
        "result_RF['model'] = result_RF['model'].apply(lambda x: f'RF100_{x}')"
      ]
    },
    {
      "cell_type": "code",
      "execution_count": 41,
      "metadata": {},
      "outputs": [],
      "source": [
        "frames = [result_DT,result_MLP,result_NB,result_ET,result_RF]\n",
        "\n",
        "result_100 = pd.concat(frames)\n",
        "\n",
        "result_100.to_csv('result_100.csv')"
      ]
    },
    {
      "cell_type": "code",
      "execution_count": 116,
      "metadata": {},
      "outputs": [
        {
          "ename": "SyntaxError",
          "evalue": "invalid syntax (4004412180.py, line 1)",
          "output_type": "error",
          "traceback": [
            "\u001b[1;36m  Cell \u001b[1;32mIn[116], line 1\u001b[1;36m\u001b[0m\n\u001b[1;33m    C:/Users/abder/OneDrive/Documents/phd/notebook TinyML Multiclassification/Generate dataframe for skotknott/RQ3_sktest\u001b[0m\n\u001b[1;37m      ^\u001b[0m\n\u001b[1;31mSyntaxError\u001b[0m\u001b[1;31m:\u001b[0m invalid syntax\n"
          ]
        }
      ],
      "source": [
        "C:/Users/abder/OneDrive/Documents/phd/notebook TinyML Multiclassification/Generate dataframe for skotknott/RQ3_sktest"
      ]
    },
    {
      "cell_type": "code",
      "execution_count": null,
      "metadata": {},
      "outputs": [],
      "source": []
    },
    {
      "cell_type": "code",
      "execution_count": null,
      "metadata": {},
      "outputs": [],
      "source": []
    }
  ],
  "metadata": {
    "colab": {
      "provenance": []
    },
    "kernelspec": {
      "display_name": "Python 3",
      "name": "python3"
    },
    "language_info": {
      "codemirror_mode": {
        "name": "ipython",
        "version": 3
      },
      "file_extension": ".py",
      "mimetype": "text/x-python",
      "name": "python",
      "nbconvert_exporter": "python",
      "pygments_lexer": "ipython3",
      "version": "3.11.4"
    }
  },
  "nbformat": 4,
  "nbformat_minor": 0
}
