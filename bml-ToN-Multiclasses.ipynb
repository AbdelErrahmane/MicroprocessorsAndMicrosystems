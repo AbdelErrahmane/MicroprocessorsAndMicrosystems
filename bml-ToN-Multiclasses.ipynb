{
 "cells": [
  {
   "cell_type": "code",
   "execution_count": 1,
   "metadata": {},
   "outputs": [],
   "source": [
    "import pandas as pd\n",
    "import warnings\n",
    "warnings.filterwarnings('ignore')\n",
    "\n",
    "ton_iot = pd.read_csv('NF-ToN-IoT-v2.csv')\n"
   ]
  },
  {
   "cell_type": "code",
   "execution_count": 2,
   "metadata": {},
   "outputs": [
    {
     "data": {
      "text/plain": [
       "(16940496, 45)"
      ]
     },
     "execution_count": 2,
     "metadata": {},
     "output_type": "execute_result"
    }
   ],
   "source": [
    "ton_iot.shape"
   ]
  },
  {
   "cell_type": "markdown",
   "metadata": {},
   "source": [
    "### Deletes features from "
   ]
  },
  {
   "cell_type": "code",
   "execution_count": 3,
   "metadata": {},
   "outputs": [],
   "source": [
    "categorical_feature = ['L4_SRC_PORT','L4_DST_PORT','IPV4_SRC_ADDR',\n",
    "                       'IPV4_DST_ADDR','PROTOCOL',\n",
    "                       'L7_PROTO','DNS_QUERY_TYPE','ICMP_TYPE'\n",
    "                        ,'ICMP_IPV4_TYPE','DNS_TTL_ANSWER']\n",
    "\n",
    "\n",
    "not_used = ['DNS_QUERY_ID','FTP_COMMAND_RET_CODE']\n",
    "\n",
    "tagets = ['Attack','Label']\n",
    "\n",
    "to_drop_corr_col = ['SERVER_TCP_FLAGS', 'MAX_TTL', 'MAX_IP_PKT_LEN', 'RETRANSMITTED_OUT_PKTS']\n",
    "\n",
    "to_drop_VIF = ['NUM_PKTS_1024_TO_1514_BYTES', 'CLIENT_TCP_FLAGS']\n",
    "\n",
    "#to_drop = categorical_feature+not_used+tagets + to_drop_corr_col + to_drop_VIF\n",
    "\n",
    "#X_Numerical = ton_iot.drop(columns=to_drop)\n",
    "\n",
    "to_drop = not_used+tagets + to_drop_corr_col + to_drop_VIF\n",
    "\n",
    "X = ton_iot.drop(columns=to_drop)\n"
   ]
  },
  {
   "cell_type": "code",
   "execution_count": 4,
   "metadata": {},
   "outputs": [
    {
     "data": {
      "text/plain": [
       "0    6099469\n",
       "1    3781419\n",
       "2    2455020\n",
       "3    2026234\n",
       "4    1153323\n",
       "5     712609\n",
       "6     684465\n",
       "7      16809\n",
       "8       7723\n",
       "9       3425\n",
       "Name: Attack, dtype: int64"
      ]
     },
     "execution_count": 4,
     "metadata": {},
     "output_type": "execute_result"
    }
   ],
   "source": [
    "X['SRC_TO_DST_SECOND_BYTES'] = X['SRC_TO_DST_SECOND_BYTES'].astype(int)\n",
    "X['DST_TO_SRC_SECOND_BYTES'] = X['DST_TO_SRC_SECOND_BYTES'].astype(int)\n",
    "\n",
    "y_multi =  ton_iot['Attack']\n",
    "\n",
    "y_multi = y_multi.replace('Benign',0)\n",
    "y_multi = y_multi.replace('scanning',1)\n",
    "y_multi = y_multi.replace('xss',2)\n",
    "y_multi = y_multi.replace('ddos',3)\n",
    "y_multi = y_multi.replace('password',4)\n",
    "y_multi = y_multi.replace('dos',5)\n",
    "y_multi = y_multi.replace('injection',6)\n",
    "y_multi = y_multi.replace('backdoor',7)\n",
    "y_multi = y_multi.replace('mitm',8)\n",
    "y_multi = y_multi.replace('ransomware',9)\n",
    "\n",
    "y_multi.value_counts()\n"
   ]
  },
  {
   "cell_type": "code",
   "execution_count": 5,
   "metadata": {},
   "outputs": [],
   "source": [
    "from sklearn.model_selection import train_test_split\n",
    "\n",
    "X_train, X, y_train, y_multi = train_test_split(X, y_multi, test_size=0.3, random_state=42)"
   ]
  },
  {
   "cell_type": "code",
   "execution_count": 6,
   "metadata": {},
   "outputs": [],
   "source": [
    "del ton_iot\n",
    "del X_train\n",
    "del y_train\n",
    "X = X.reset_index()\n",
    "y_multi = y_multi.reset_index()\n",
    "\n",
    "X = X.drop(columns='index')\n",
    "y_multi = y_multi.drop(columns='index')"
   ]
  },
  {
   "cell_type": "code",
   "execution_count": 7,
   "metadata": {},
   "outputs": [],
   "source": [
    "X_Numerical = X.drop(columns=categorical_feature)"
   ]
  },
  {
   "cell_type": "markdown",
   "metadata": {},
   "source": [
    "## Scaling of Numerical value using  quantile"
   ]
  },
  {
   "cell_type": "code",
   "execution_count": 8,
   "metadata": {},
   "outputs": [],
   "source": [
    "from sklearn.preprocessing import StandardScaler\n",
    "\n",
    "scaler = StandardScaler()\n",
    "\n",
    "X_Numerical_sc = pd.DataFrame()\n",
    "\n",
    "scaler.fit(X_Numerical)\n",
    "\n",
    "X_Numerical_sc[X_Numerical.columns] = scaler.transform(X_Numerical)"
   ]
  },
  {
   "cell_type": "code",
   "execution_count": 9,
   "metadata": {},
   "outputs": [
    {
     "data": {
      "text/plain": [
       "(5082149, 25)"
      ]
     },
     "execution_count": 9,
     "metadata": {},
     "output_type": "execute_result"
    }
   ],
   "source": [
    "X_Numerical_sc.shape"
   ]
  },
  {
   "cell_type": "code",
   "execution_count": 10,
   "metadata": {},
   "outputs": [
    {
     "name": "stdout",
     "output_type": "stream",
     "text": [
      "Numerical\n",
      "20.0\n",
      "12.5\n",
      "5.0\n",
      "categorical\n",
      "8.0\n",
      "5.0\n",
      "2.0\n"
     ]
    }
   ],
   "source": [
    "print('Numerical')\n",
    "print(25*0.8)\n",
    "print(25*0.5)\n",
    "print(25*0.2)\n",
    "print('categorical')\n",
    "print(10*0.8)\n",
    "print(10*0.5)\n",
    "print(10*0.2)"
   ]
  },
  {
   "cell_type": "code",
   "execution_count": 11,
   "metadata": {},
   "outputs": [
    {
     "name": "stdout",
     "output_type": "stream",
     "text": [
      "Attack\n",
      "0         1829223\n",
      "1         1134420\n",
      "2          736976\n",
      "3          607187\n",
      "4          346493\n",
      "5          213722\n",
      "6          205682\n",
      "7            5050\n",
      "8            2369\n",
      "9            1027\n",
      "dtype: int64\n"
     ]
    }
   ],
   "source": [
    "\n",
    "print(y_multi.value_counts())"
   ]
  },
  {
   "cell_type": "markdown",
   "metadata": {},
   "source": [
    "## Scale data"
   ]
  },
  {
   "cell_type": "code",
   "execution_count": 16,
   "metadata": {},
   "outputs": [
    {
     "data": {
      "text/plain": [
       "SelectKBest(k=5)"
      ]
     },
     "execution_count": 16,
     "metadata": {},
     "output_type": "execute_result"
    }
   ],
   "source": [
    "sb"
   ]
  },
  {
   "cell_type": "code",
   "execution_count": 18,
   "metadata": {},
   "outputs": [],
   "source": []
  },
  {
   "cell_type": "code",
   "execution_count": 22,
   "metadata": {},
   "outputs": [],
   "source": [
    "from sklearn.feature_selection import f_classif, SelectKBest\n",
    "\n",
    "sb = SelectKBest(f_classif, k=5)\n",
    "sb.fit(X_Numerical_sc,y_multi)\n",
    "cols_idxs = sb.get_support(indices=True)\n",
    "col_anova_20 = X_Numerical_sc.iloc[:,cols_idxs]\n",
    "\n",
    "##########################\n",
    "sb = SelectKBest(f_classif, k=13)\n",
    "sb.fit(X_Numerical_sc,y_multi)\n",
    "cols_idxs = sb.get_support(indices=True)\n",
    "col_anova_50 = X_Numerical_sc.iloc[:,cols_idxs]\n",
    "\n",
    "##########################\n",
    "sb = SelectKBest(f_classif, k=20)\n",
    "sb.fit(X_Numerical_sc,y_multi)\n",
    "cols_idxs = sb.get_support(indices=True)\n",
    "col_anova_80 = X_Numerical_sc.iloc[:,cols_idxs]"
   ]
  },
  {
   "cell_type": "code",
   "execution_count": null,
   "metadata": {},
   "outputs": [],
   "source": []
  },
  {
   "cell_type": "code",
   "execution_count": 23,
   "metadata": {},
   "outputs": [],
   "source": [
    "X_A_20 = col_anova_20\n",
    "X_A_50 = col_anova_50\n",
    "X_A_80 = col_anova_80"
   ]
  },
  {
   "cell_type": "code",
   "execution_count": 25,
   "metadata": {},
   "outputs": [
    {
     "data": {
      "text/html": [
       "<div>\n",
       "<style scoped>\n",
       "    .dataframe tbody tr th:only-of-type {\n",
       "        vertical-align: middle;\n",
       "    }\n",
       "\n",
       "    .dataframe tbody tr th {\n",
       "        vertical-align: top;\n",
       "    }\n",
       "\n",
       "    .dataframe thead th {\n",
       "        text-align: right;\n",
       "    }\n",
       "</style>\n",
       "<table border=\"1\" class=\"dataframe\">\n",
       "  <thead>\n",
       "    <tr style=\"text-align: right;\">\n",
       "      <th></th>\n",
       "      <th>OUT_BYTES</th>\n",
       "      <th>TCP_FLAGS</th>\n",
       "      <th>FLOW_DURATION_MILLISECONDS</th>\n",
       "      <th>DURATION_IN</th>\n",
       "      <th>DURATION_OUT</th>\n",
       "      <th>MIN_TTL</th>\n",
       "      <th>LONGEST_FLOW_PKT</th>\n",
       "      <th>SHORTEST_FLOW_PKT</th>\n",
       "      <th>MIN_IP_PKT_LEN</th>\n",
       "      <th>SRC_TO_DST_SECOND_BYTES</th>\n",
       "      <th>DST_TO_SRC_SECOND_BYTES</th>\n",
       "      <th>RETRANSMITTED_IN_PKTS</th>\n",
       "      <th>RETRANSMITTED_OUT_BYTES</th>\n",
       "      <th>SRC_TO_DST_AVG_THROUGHPUT</th>\n",
       "      <th>DST_TO_SRC_AVG_THROUGHPUT</th>\n",
       "      <th>NUM_PKTS_UP_TO_128_BYTES</th>\n",
       "      <th>NUM_PKTS_128_TO_256_BYTES</th>\n",
       "      <th>NUM_PKTS_256_TO_512_BYTES</th>\n",
       "      <th>TCP_WIN_MAX_IN</th>\n",
       "      <th>TCP_WIN_MAX_OUT</th>\n",
       "    </tr>\n",
       "  </thead>\n",
       "  <tbody>\n",
       "    <tr>\n",
       "      <th>0</th>\n",
       "      <td>0.021877</td>\n",
       "      <td>1.258326</td>\n",
       "      <td>2.102289</td>\n",
       "      <td>1.014774</td>\n",
       "      <td>1.115044</td>\n",
       "      <td>1.178755</td>\n",
       "      <td>2.541508</td>\n",
       "      <td>-0.504485</td>\n",
       "      <td>0.302037</td>\n",
       "      <td>0.005282</td>\n",
       "      <td>-0.007178</td>\n",
       "      <td>-0.015589</td>\n",
       "      <td>-0.014225</td>\n",
       "      <td>-0.222571</td>\n",
       "      <td>-0.151353</td>\n",
       "      <td>-0.023640</td>\n",
       "      <td>-0.014986</td>\n",
       "      <td>0.105674</td>\n",
       "      <td>1.369679</td>\n",
       "      <td>3.059472</td>\n",
       "    </tr>\n",
       "    <tr>\n",
       "      <th>1</th>\n",
       "      <td>-0.009822</td>\n",
       "      <td>0.549419</td>\n",
       "      <td>2.102392</td>\n",
       "      <td>-0.215606</td>\n",
       "      <td>0.142225</td>\n",
       "      <td>1.178755</td>\n",
       "      <td>-0.434902</td>\n",
       "      <td>0.114000</td>\n",
       "      <td>0.763047</td>\n",
       "      <td>0.005264</td>\n",
       "      <td>-0.007273</td>\n",
       "      <td>-0.015589</td>\n",
       "      <td>-0.014225</td>\n",
       "      <td>-0.138412</td>\n",
       "      <td>-0.154822</td>\n",
       "      <td>-0.027083</td>\n",
       "      <td>-0.014986</td>\n",
       "      <td>-0.028758</td>\n",
       "      <td>1.369679</td>\n",
       "      <td>1.030844</td>\n",
       "    </tr>\n",
       "    <tr>\n",
       "      <th>2</th>\n",
       "      <td>-0.011495</td>\n",
       "      <td>-0.957010</td>\n",
       "      <td>-0.475672</td>\n",
       "      <td>-0.215606</td>\n",
       "      <td>-0.216182</td>\n",
       "      <td>-0.699691</td>\n",
       "      <td>-0.459706</td>\n",
       "      <td>-0.092162</td>\n",
       "      <td>-1.234663</td>\n",
       "      <td>0.005262</td>\n",
       "      <td>-0.007278</td>\n",
       "      <td>-0.015589</td>\n",
       "      <td>-0.014225</td>\n",
       "      <td>-0.187377</td>\n",
       "      <td>-0.155255</td>\n",
       "      <td>-0.028023</td>\n",
       "      <td>-0.014986</td>\n",
       "      <td>-0.028758</td>\n",
       "      <td>-0.483495</td>\n",
       "      <td>-0.575418</td>\n",
       "    </tr>\n",
       "    <tr>\n",
       "      <th>3</th>\n",
       "      <td>0.020353</td>\n",
       "      <td>1.258326</td>\n",
       "      <td>-0.475672</td>\n",
       "      <td>-0.215606</td>\n",
       "      <td>-0.216182</td>\n",
       "      <td>1.178755</td>\n",
       "      <td>2.541508</td>\n",
       "      <td>0.114000</td>\n",
       "      <td>0.763047</td>\n",
       "      <td>0.005394</td>\n",
       "      <td>-0.007183</td>\n",
       "      <td>-0.015589</td>\n",
       "      <td>-0.014225</td>\n",
       "      <td>2.917314</td>\n",
       "      <td>0.769108</td>\n",
       "      <td>-0.025205</td>\n",
       "      <td>-0.014986</td>\n",
       "      <td>0.038458</td>\n",
       "      <td>1.369679</td>\n",
       "      <td>0.913647</td>\n",
       "    </tr>\n",
       "  </tbody>\n",
       "</table>\n",
       "</div>"
      ],
      "text/plain": [
       "   OUT_BYTES  TCP_FLAGS  FLOW_DURATION_MILLISECONDS  DURATION_IN  \\\n",
       "0   0.021877   1.258326                    2.102289     1.014774   \n",
       "1  -0.009822   0.549419                    2.102392    -0.215606   \n",
       "2  -0.011495  -0.957010                   -0.475672    -0.215606   \n",
       "3   0.020353   1.258326                   -0.475672    -0.215606   \n",
       "\n",
       "   DURATION_OUT   MIN_TTL  LONGEST_FLOW_PKT  SHORTEST_FLOW_PKT  \\\n",
       "0      1.115044  1.178755          2.541508          -0.504485   \n",
       "1      0.142225  1.178755         -0.434902           0.114000   \n",
       "2     -0.216182 -0.699691         -0.459706          -0.092162   \n",
       "3     -0.216182  1.178755          2.541508           0.114000   \n",
       "\n",
       "   MIN_IP_PKT_LEN  SRC_TO_DST_SECOND_BYTES  DST_TO_SRC_SECOND_BYTES  \\\n",
       "0        0.302037                 0.005282                -0.007178   \n",
       "1        0.763047                 0.005264                -0.007273   \n",
       "2       -1.234663                 0.005262                -0.007278   \n",
       "3        0.763047                 0.005394                -0.007183   \n",
       "\n",
       "   RETRANSMITTED_IN_PKTS  RETRANSMITTED_OUT_BYTES  SRC_TO_DST_AVG_THROUGHPUT  \\\n",
       "0              -0.015589                -0.014225                  -0.222571   \n",
       "1              -0.015589                -0.014225                  -0.138412   \n",
       "2              -0.015589                -0.014225                  -0.187377   \n",
       "3              -0.015589                -0.014225                   2.917314   \n",
       "\n",
       "   DST_TO_SRC_AVG_THROUGHPUT  NUM_PKTS_UP_TO_128_BYTES  \\\n",
       "0                  -0.151353                 -0.023640   \n",
       "1                  -0.154822                 -0.027083   \n",
       "2                  -0.155255                 -0.028023   \n",
       "3                   0.769108                 -0.025205   \n",
       "\n",
       "   NUM_PKTS_128_TO_256_BYTES  NUM_PKTS_256_TO_512_BYTES  TCP_WIN_MAX_IN  \\\n",
       "0                  -0.014986                   0.105674        1.369679   \n",
       "1                  -0.014986                  -0.028758        1.369679   \n",
       "2                  -0.014986                  -0.028758       -0.483495   \n",
       "3                  -0.014986                   0.038458        1.369679   \n",
       "\n",
       "   TCP_WIN_MAX_OUT  \n",
       "0         3.059472  \n",
       "1         1.030844  \n",
       "2        -0.575418  \n",
       "3         0.913647  "
      ]
     },
     "execution_count": 25,
     "metadata": {},
     "output_type": "execute_result"
    }
   ],
   "source": [
    "X_A_80.head(4)"
   ]
  },
  {
   "cell_type": "markdown",
   "metadata": {},
   "source": [
    "## Kendall"
   ]
  },
  {
   "cell_type": "code",
   "execution_count": 26,
   "metadata": {},
   "outputs": [],
   "source": [
    "from scipy.stats import kendalltau\n",
    "features = [col for col in X_Numerical_sc.columns if col ]\n",
    "kendall_tau_scores = {}\n",
    "for feature in features:\n",
    "    kendall_tau, _ = kendalltau(X_Numerical_sc[feature], y_multi)\n",
    "    kendall_tau_scores[feature] = kendall_tau\n",
    "    \n",
    "sorted_kendall_tau_scores = sorted(kendall_tau_scores.items(), key=lambda x: abs(x[1]), reverse=True)\n",
    "\n",
    "col_kendall_20 = [feature for feature, score in sorted_kendall_tau_scores[:5]]\n",
    "col_kendall_50 = [feature for feature, score in sorted_kendall_tau_scores[:13]]\n",
    "col_kendall_80 = [feature for feature, score in sorted_kendall_tau_scores[:20]]\n"
   ]
  },
  {
   "cell_type": "code",
   "execution_count": 27,
   "metadata": {},
   "outputs": [
    {
     "data": {
      "text/plain": [
       "Index(['SRC_TO_DST_SECOND_BYTES', 'IN_BYTES', 'LONGEST_FLOW_PKT', 'OUT_BYTES',\n",
       "       'DST_TO_SRC_SECOND_BYTES', 'NUM_PKTS_UP_TO_128_BYTES', 'MIN_TTL',\n",
       "       'OUT_PKTS', 'TCP_WIN_MAX_OUT', 'IN_PKTS', 'MIN_IP_PKT_LEN',\n",
       "       'DST_TO_SRC_AVG_THROUGHPUT', 'TCP_WIN_MAX_IN', 'SHORTEST_FLOW_PKT',\n",
       "       'DURATION_OUT', 'SRC_TO_DST_AVG_THROUGHPUT',\n",
       "       'NUM_PKTS_512_TO_1024_BYTES', 'DURATION_IN',\n",
       "       'NUM_PKTS_256_TO_512_BYTES', 'FLOW_DURATION_MILLISECONDS'],\n",
       "      dtype='object')"
      ]
     },
     "execution_count": 27,
     "metadata": {},
     "output_type": "execute_result"
    }
   ],
   "source": [
    "X_K_20 = X_Numerical_sc[col_kendall_20]\n",
    "X_K_50 = X_Numerical_sc[col_kendall_50]\n",
    "X_K_80 = X_Numerical_sc[col_kendall_80]\n",
    "X_K_80.columns"
   ]
  },
  {
   "cell_type": "code",
   "execution_count": 28,
   "metadata": {},
   "outputs": [],
   "source": [
    "X_cat = X[categorical_feature]"
   ]
  },
  {
   "cell_type": "code",
   "execution_count": 29,
   "metadata": {},
   "outputs": [
    {
     "data": {
      "text/plain": [
       "(5082149, 25)"
      ]
     },
     "execution_count": 29,
     "metadata": {},
     "output_type": "execute_result"
    }
   ],
   "source": [
    "X_Numerical_sc.shape"
   ]
  },
  {
   "cell_type": "code",
   "execution_count": 30,
   "metadata": {},
   "outputs": [
    {
     "data": {
      "text/plain": [
       "(5082149, 10)"
      ]
     },
     "execution_count": 30,
     "metadata": {},
     "output_type": "execute_result"
    }
   ],
   "source": [
    "X_cat.shape"
   ]
  },
  {
   "cell_type": "markdown",
   "metadata": {},
   "source": [
    "# Optimize the features"
   ]
  },
  {
   "cell_type": "markdown",
   "metadata": {},
   "source": [
    "### L4_SRC_PORT & L4_DST_PORT"
   ]
  },
  {
   "cell_type": "markdown",
   "metadata": {},
   "source": [
    "Ports with numbers 0–1023 are called system or well-known ports; ports with numbers 1024-49151 are called user or registered ports, and ports with numbers 49152-65535 are called dynamic, private or ephemeral ports.[2] Both system and user ports are used by transport protocols (TCP, UDP, DCCP, SCTP) to identify an application or service."
   ]
  },
  {
   "cell_type": "code",
   "execution_count": 31,
   "metadata": {},
   "outputs": [],
   "source": [
    "well_known_port = list(range(1024))\n",
    "registered_ports = list(range(1024,49152))\n",
    "ephemeral_ports = list(range(49152,65535))"
   ]
  },
  {
   "cell_type": "code",
   "execution_count": 32,
   "metadata": {},
   "outputs": [
    {
     "name": "stdout",
     "output_type": "stream",
     "text": [
      "(5082149, 10)\n"
     ]
    }
   ],
   "source": [
    "X_cat['L4_SRC_PORT_C'] = 'Others'\n",
    "X_cat['L4_SRC_PORT_C'][X_cat['L4_SRC_PORT'].isin(well_known_port)] = 'well_known_port'\n",
    "X_cat['L4_SRC_PORT_C'][X_cat['L4_SRC_PORT'].isin(registered_ports)] = 'registered_ports'\n",
    "X_cat['L4_SRC_PORT_C'][X_cat['L4_SRC_PORT'].isin(ephemeral_ports)] = 'ephemeral_ports'\n",
    "\n",
    "X_cat.drop(columns=['L4_SRC_PORT'],inplace=True)\n",
    "\n",
    "X_cat['L4_SRC_PORT_C'].value_counts()\n",
    "\n",
    "print(X_cat.shape)"
   ]
  },
  {
   "cell_type": "code",
   "execution_count": null,
   "metadata": {},
   "outputs": [],
   "source": []
  },
  {
   "cell_type": "code",
   "execution_count": 33,
   "metadata": {},
   "outputs": [
    {
     "data": {
      "text/plain": [
       "well_known_port     2770564\n",
       "registered_ports    1961342\n",
       "ephemeral_ports      350224\n",
       "Others                   19\n",
       "Name: L4_DST_PORT_C, dtype: int64"
      ]
     },
     "execution_count": 33,
     "metadata": {},
     "output_type": "execute_result"
    }
   ],
   "source": [
    "X_cat['L4_DST_PORT_C'] = 'Others'\n",
    "X_cat['L4_DST_PORT_C'][X_cat['L4_DST_PORT'].isin(well_known_port)] = 'well_known_port'\n",
    "X_cat['L4_DST_PORT_C'][X_cat['L4_DST_PORT'].isin(registered_ports)] = 'registered_ports'\n",
    "X_cat['L4_DST_PORT_C'][X_cat['L4_DST_PORT'].isin(ephemeral_ports)] = 'ephemeral_ports'\n",
    "\n",
    "X_cat.drop(columns=['L4_DST_PORT'],inplace=True)\n",
    "X_cat['L4_DST_PORT_C'].value_counts()\n"
   ]
  },
  {
   "cell_type": "markdown",
   "metadata": {},
   "source": [
    "#### Removerd features are :\n",
    "\n",
    "to_drop_zero = ['RETRANSMITTED_IN_BYTES','RETRANSMITTED_IN_PKTS','RETRANSMITTED_OUT_BYTES','FTP_COMMAND_RET_CODE','ICMP_TYPE','DNS_TTL_ANSWER']\n",
    "&&\n",
    "\n",
    "['SERVER_TCP_FLAGS', 'MAX_TTL', 'MAX_IP_PKT_LEN', 'RETRANSMITTED_OUT_PKTS', 'ICMP_IPV4_TYPE']"
   ]
  },
  {
   "cell_type": "markdown",
   "metadata": {},
   "source": [
    "## DNS"
   ]
  },
  {
   "cell_type": "raw",
   "metadata": {},
   "source": [
    "DNS type"
   ]
  },
  {
   "cell_type": "code",
   "execution_count": 34,
   "metadata": {},
   "outputs": [
    {
     "data": {
      "text/plain": [
       "0        4362734\n",
       "1         470684\n",
       "Other     223073\n",
       "12         24231\n",
       "2           1427\n",
       "Name: DNS_QUERY_TYPE, dtype: int64"
      ]
     },
     "execution_count": 34,
     "metadata": {},
     "output_type": "execute_result"
    }
   ],
   "source": [
    "X_cat['DNS_QUERY_TYPE'] = X_cat['DNS_QUERY_TYPE'].astype('O')\n",
    "list_proto = [0,1,2,12]\n",
    "X_cat['DNS_QUERY_TYPE'][~X_cat['DNS_QUERY_TYPE'].isin(list_proto)] = 'Other'\n",
    "X_cat['DNS_QUERY_TYPE'].value_counts()"
   ]
  },
  {
   "cell_type": "raw",
   "metadata": {},
   "source": [
    "### TCP"
   ]
  },
  {
   "cell_type": "markdown",
   "metadata": {},
   "source": [
    "### PROTOCOL"
   ]
  },
  {
   "cell_type": "code",
   "execution_count": 35,
   "metadata": {},
   "outputs": [
    {
     "data": {
      "text/plain": [
       "6     4328168\n",
       "17     747388\n",
       "1        5381\n",
       "2         851\n",
       "58        360\n",
       "44          1\n",
       "Name: PROTOCOL, dtype: int64"
      ]
     },
     "execution_count": 35,
     "metadata": {},
     "output_type": "execute_result"
    }
   ],
   "source": [
    "X_cat['PROTOCOL'] = X_cat['PROTOCOL'].astype(int)\n",
    "\n",
    "X_cat['PROTOCOL'].value_counts()"
   ]
  },
  {
   "cell_type": "code",
   "execution_count": 36,
   "metadata": {},
   "outputs": [
    {
     "name": "stdout",
     "output_type": "stream",
     "text": [
      "(5082149, 10)\n"
     ]
    }
   ],
   "source": [
    "print(X_cat.shape)"
   ]
  },
  {
   "cell_type": "code",
   "execution_count": 37,
   "metadata": {},
   "outputs": [
    {
     "data": {
      "text/plain": [
       "6     4328168\n",
       "17     747388\n",
       "1        5381\n",
       "2         851\n",
       "58        360\n",
       "44          1\n",
       "Name: PROTOCOL, dtype: int64"
      ]
     },
     "execution_count": 37,
     "metadata": {},
     "output_type": "execute_result"
    }
   ],
   "source": [
    "X_cat['PROTOCOL'].value_counts()"
   ]
  },
  {
   "cell_type": "markdown",
   "metadata": {},
   "source": [
    "### L7_PROTO"
   ]
  },
  {
   "cell_type": "code",
   "execution_count": 38,
   "metadata": {},
   "outputs": [
    {
     "data": {
      "text/plain": [
       "0.0      3087248\n",
       "7.0      1200629\n",
       "91.0      519746\n",
       "Other     146243\n",
       "7.178      59755\n",
       "1.0        39477\n",
       "92.0       11421\n",
       "131.0       8978\n",
       "5.178       8652\n",
       "Name: L7_PROTO, dtype: int64"
      ]
     },
     "execution_count": 38,
     "metadata": {},
     "output_type": "execute_result"
    }
   ],
   "source": [
    "X_cat['L7_PROTO'] = X_cat['L7_PROTO'].astype('O')\n",
    "list_proto = [0,7,91,7.178,1,92,131,5.178]\n",
    "X_cat['L7_PROTO'][~X_cat['L7_PROTO'].isin(list_proto)] = 'Other'\n",
    "X_cat['L7_PROTO'].value_counts()"
   ]
  },
  {
   "cell_type": "markdown",
   "metadata": {},
   "source": [
    "#### Adresses"
   ]
  },
  {
   "cell_type": "markdown",
   "metadata": {},
   "source": [
    "### Adress Range"
   ]
  },
  {
   "cell_type": "code",
   "execution_count": 39,
   "metadata": {},
   "outputs": [
    {
     "name": "stdout",
     "output_type": "stream",
     "text": [
      "classe_a process ------------------------------->\n",
      "classe_b process ------------------------------->\n",
      "classe_c process ------------------------------->\n"
     ]
    }
   ],
   "source": [
    "# Private adresses\n",
    "# Class A: 10.0.0.0 to 10.255.255.255\n",
    "# Class B: 172.16.0.0 to 172.31.255.255\n",
    "# Class C: 192.168.0.0 to 192.168.255.255\n",
    "from ipaddress import ip_address\n",
    "\n",
    "\n",
    "def findIPs(start, end):\n",
    "    start = ip_address(start)\n",
    "    end = ip_address(end)\n",
    "    result = []\n",
    "    while start <= end:\n",
    "        result.append(str(start))\n",
    "        start += 1\n",
    "    return result\n",
    "print('classe_a process ------------------------------->')\n",
    "plage_classe_a=findIPs('10.0.0.0', '10.255.255.255')\n",
    "print('classe_b process ------------------------------->')\n",
    "plage_classe_b=findIPs('172.16.0.0', '172.31.255.255')\n",
    "print('classe_c process ------------------------------->')\n",
    "plage_classe_c=findIPs('192.168.0.0', '192.168.255.255')"
   ]
  },
  {
   "cell_type": "raw",
   "metadata": {},
   "source": [
    "#### IPV4_DST_ADDR"
   ]
  },
  {
   "cell_type": "code",
   "execution_count": 40,
   "metadata": {},
   "outputs": [
    {
     "name": "stdout",
     "output_type": "stream",
     "text": [
      "classe_c process ------------------------------->\n",
      "classe_b process ------------------------------->\n",
      "classe_a process ------------------------------->\n",
      "localhost process ------------------------------->\n",
      "public/other process ------------------------------->\n"
     ]
    },
    {
     "data": {
      "text/plain": [
       "classe_c        4801805\n",
       "public/other     278907\n",
       "localhost          1429\n",
       "classe_b              6\n",
       "classe_a              2\n",
       "Name: IPV4_DST_ADDR_CLASSE, dtype: int64"
      ]
     },
     "execution_count": 40,
     "metadata": {},
     "output_type": "execute_result"
    }
   ],
   "source": [
    "import numpy as np\n",
    "X_cat['IPV4_DST_ADDR_CLASSE'] = 'None'\n",
    "print('classe_c process ------------------------------->')\n",
    "X_cat['IPV4_DST_ADDR_CLASSE'][X_cat['IPV4_DST_ADDR'].isin(plage_classe_c)] = 'classe_c'\n",
    "print('classe_b process ------------------------------->')\n",
    "X_cat['IPV4_DST_ADDR_CLASSE'][X_cat['IPV4_DST_ADDR'].isin(plage_classe_b)] = 'classe_b'\n",
    "print('classe_a process ------------------------------->')\n",
    "X_cat['IPV4_DST_ADDR_CLASSE'][X_cat['IPV4_DST_ADDR'].isin(plage_classe_a)] = 'classe_a'\n",
    "print('localhost process ------------------------------->')\n",
    "X_cat['IPV4_DST_ADDR_CLASSE'][X_cat['IPV4_DST_ADDR'] == '127.0.0.1'] = 'localhost'\n",
    "print('public/other process ------------------------------->')\n",
    "X_cat['IPV4_DST_ADDR_CLASSE'][X_cat['IPV4_DST_ADDR_CLASSE'] == 'None'] = 'public/other'\n",
    "X_cat['IPV4_DST_ADDR_CLASSE'].value_counts()"
   ]
  },
  {
   "cell_type": "raw",
   "metadata": {},
   "source": [
    "### IPV4_SRC_ADDR_CLASSE"
   ]
  },
  {
   "cell_type": "code",
   "execution_count": 41,
   "metadata": {},
   "outputs": [
    {
     "name": "stdout",
     "output_type": "stream",
     "text": [
      "classe_c process ------------------------------->\n",
      "classe_b process ------------------------------->\n",
      "classe_a process ------------------------------->\n",
      "localhost process ------------------------------->\n",
      "public/other process ------------------------------->\n"
     ]
    },
    {
     "data": {
      "text/plain": [
       "classe_c        5036473\n",
       "classe_b          31158\n",
       "public/other      13048\n",
       "localhost          1431\n",
       "classe_a             39\n",
       "Name: IPV4_SRC_ADDR_CLASSE, dtype: int64"
      ]
     },
     "execution_count": 41,
     "metadata": {},
     "output_type": "execute_result"
    }
   ],
   "source": [
    "import numpy as np\n",
    "X_cat['IPV4_SRC_ADDR_CLASSE'] = 'None'\n",
    "print('classe_c process ------------------------------->')\n",
    "X_cat['IPV4_SRC_ADDR_CLASSE'][X_cat['IPV4_SRC_ADDR'].isin(plage_classe_c)] = 'classe_c'\n",
    "print('classe_b process ------------------------------->')\n",
    "X_cat['IPV4_SRC_ADDR_CLASSE'][X_cat['IPV4_SRC_ADDR'].isin(plage_classe_b)] = 'classe_b'\n",
    "print('classe_a process ------------------------------->')\n",
    "X_cat['IPV4_SRC_ADDR_CLASSE'][X_cat['IPV4_SRC_ADDR'].isin(plage_classe_a)] = 'classe_a'\n",
    "print('localhost process ------------------------------->')\n",
    "X_cat['IPV4_SRC_ADDR_CLASSE'][X_cat['IPV4_SRC_ADDR'] == '127.0.0.1'] = 'localhost'\n",
    "print('public/other process ------------------------------->')\n",
    "X_cat['IPV4_SRC_ADDR_CLASSE'][X_cat['IPV4_SRC_ADDR_CLASSE'] == 'None'] = 'public/other'\n",
    "X_cat['IPV4_SRC_ADDR_CLASSE'].value_counts()"
   ]
  },
  {
   "cell_type": "markdown",
   "metadata": {},
   "source": [
    "Remove IPV4_SRC_ADDR & IPV4_DST_ADDR and Keep IPV4_SRC_ADDR IPV4_DST_ADDR"
   ]
  },
  {
   "cell_type": "code",
   "execution_count": 42,
   "metadata": {},
   "outputs": [],
   "source": [
    "X_cat.drop(columns=['IPV4_SRC_ADDR','IPV4_DST_ADDR'], inplace=True)"
   ]
  },
  {
   "cell_type": "code",
   "execution_count": null,
   "metadata": {},
   "outputs": [],
   "source": []
  },
  {
   "cell_type": "markdown",
   "metadata": {},
   "source": [
    "## Optimze the 3 features ICMP_TYPE, ICMP_IPV4_TYPE, DNS_TTL_ANSWER"
   ]
  },
  {
   "cell_type": "code",
   "execution_count": 43,
   "metadata": {},
   "outputs": [
    {
     "name": "stdout",
     "output_type": "stream",
     "text": [
      "ICMPTYPE 0    4997371\n",
      "1      84778\n",
      "Name: ICMP_TYPE, dtype: int64, \n",
      " ICMP_IPV4_TYPE  0    4997371\n",
      "1      84778\n",
      "Name: ICMP_IPV4_TYPE, dtype: int64, \n",
      "  DNS_TTL_ANSWER  0    4749724\n",
      "1     332425\n",
      "Name: DNS_TTL_ANSWER, dtype: int64\n"
     ]
    }
   ],
   "source": [
    "import math\n",
    "infini = math.inf\n",
    "\n",
    "X_cat['ICMP_TYPE'] = X_cat['ICMP_TYPE'].astype('O')\n",
    "X_cat['ICMP_IPV4_TYPE'] = X_cat['ICMP_IPV4_TYPE'].astype('O')\n",
    "X_cat['DNS_TTL_ANSWER'] = X_cat['DNS_TTL_ANSWER'].astype('O')\n",
    "\n",
    "X_cat['ICMP_TYPE'][~(X_cat['ICMP_TYPE']==0)]=1\n",
    "X_cat['ICMP_IPV4_TYPE'][~(X_cat['ICMP_IPV4_TYPE']==0)]=1\n",
    "X_cat['DNS_TTL_ANSWER'][~(X_cat['DNS_TTL_ANSWER']==0)]=1\n",
    "\n",
    "print(f\"ICMPTYPE {X_cat['ICMP_TYPE'].value_counts()}, \\n ICMP_IPV4_TYPE  {X_cat['ICMP_IPV4_TYPE'].value_counts()}, \\n  DNS_TTL_ANSWER  {X_cat['DNS_TTL_ANSWER'].value_counts()}\")\n",
    "\n"
   ]
  },
  {
   "cell_type": "code",
   "execution_count": 44,
   "metadata": {},
   "outputs": [
    {
     "data": {
      "text/html": [
       "<div>\n",
       "<style scoped>\n",
       "    .dataframe tbody tr th:only-of-type {\n",
       "        vertical-align: middle;\n",
       "    }\n",
       "\n",
       "    .dataframe tbody tr th {\n",
       "        vertical-align: top;\n",
       "    }\n",
       "\n",
       "    .dataframe thead th {\n",
       "        text-align: right;\n",
       "    }\n",
       "</style>\n",
       "<table border=\"1\" class=\"dataframe\">\n",
       "  <thead>\n",
       "    <tr style=\"text-align: right;\">\n",
       "      <th></th>\n",
       "      <th>PROTOCOL</th>\n",
       "      <th>L7_PROTO</th>\n",
       "      <th>DNS_QUERY_TYPE</th>\n",
       "      <th>ICMP_TYPE</th>\n",
       "      <th>ICMP_IPV4_TYPE</th>\n",
       "      <th>DNS_TTL_ANSWER</th>\n",
       "      <th>L4_SRC_PORT_C</th>\n",
       "      <th>L4_DST_PORT_C</th>\n",
       "      <th>IPV4_DST_ADDR_CLASSE</th>\n",
       "      <th>IPV4_SRC_ADDR_CLASSE</th>\n",
       "    </tr>\n",
       "  </thead>\n",
       "  <tbody>\n",
       "    <tr>\n",
       "      <th>0</th>\n",
       "      <td>6</td>\n",
       "      <td>7.0</td>\n",
       "      <td>0</td>\n",
       "      <td>0</td>\n",
       "      <td>0</td>\n",
       "      <td>0</td>\n",
       "      <td>ephemeral_ports</td>\n",
       "      <td>well_known_port</td>\n",
       "      <td>classe_c</td>\n",
       "      <td>classe_c</td>\n",
       "    </tr>\n",
       "    <tr>\n",
       "      <th>1</th>\n",
       "      <td>6</td>\n",
       "      <td>91.0</td>\n",
       "      <td>0</td>\n",
       "      <td>0</td>\n",
       "      <td>0</td>\n",
       "      <td>0</td>\n",
       "      <td>registered_ports</td>\n",
       "      <td>well_known_port</td>\n",
       "      <td>classe_c</td>\n",
       "      <td>classe_c</td>\n",
       "    </tr>\n",
       "    <tr>\n",
       "      <th>2</th>\n",
       "      <td>6</td>\n",
       "      <td>0.0</td>\n",
       "      <td>0</td>\n",
       "      <td>0</td>\n",
       "      <td>0</td>\n",
       "      <td>0</td>\n",
       "      <td>registered_ports</td>\n",
       "      <td>registered_ports</td>\n",
       "      <td>classe_c</td>\n",
       "      <td>classe_c</td>\n",
       "    </tr>\n",
       "    <tr>\n",
       "      <th>3</th>\n",
       "      <td>6</td>\n",
       "      <td>7.178</td>\n",
       "      <td>0</td>\n",
       "      <td>0</td>\n",
       "      <td>0</td>\n",
       "      <td>0</td>\n",
       "      <td>ephemeral_ports</td>\n",
       "      <td>well_known_port</td>\n",
       "      <td>public/other</td>\n",
       "      <td>classe_c</td>\n",
       "    </tr>\n",
       "  </tbody>\n",
       "</table>\n",
       "</div>"
      ],
      "text/plain": [
       "   PROTOCOL L7_PROTO DNS_QUERY_TYPE ICMP_TYPE ICMP_IPV4_TYPE DNS_TTL_ANSWER  \\\n",
       "0         6      7.0              0         0              0              0   \n",
       "1         6     91.0              0         0              0              0   \n",
       "2         6      0.0              0         0              0              0   \n",
       "3         6    7.178              0         0              0              0   \n",
       "\n",
       "      L4_SRC_PORT_C     L4_DST_PORT_C IPV4_DST_ADDR_CLASSE  \\\n",
       "0   ephemeral_ports   well_known_port             classe_c   \n",
       "1  registered_ports   well_known_port             classe_c   \n",
       "2  registered_ports  registered_ports             classe_c   \n",
       "3   ephemeral_ports   well_known_port         public/other   \n",
       "\n",
       "  IPV4_SRC_ADDR_CLASSE  \n",
       "0             classe_c  \n",
       "1             classe_c  \n",
       "2             classe_c  \n",
       "3             classe_c  "
      ]
     },
     "execution_count": 44,
     "metadata": {},
     "output_type": "execute_result"
    }
   ],
   "source": [
    "X_cat.head(4)"
   ]
  },
  {
   "cell_type": "markdown",
   "metadata": {},
   "source": [
    "# Feature Selection Filter-based"
   ]
  },
  {
   "cell_type": "code",
   "execution_count": 45,
   "metadata": {},
   "outputs": [],
   "source": [
    "from sklearn.feature_selection import chi2\n",
    "\n",
    "# Convert string values in categorical features to numerical\n",
    "X_cat = X_cat.replace('Other',999)\n",
    "X_cat = X_cat.replace('Others',999)\n",
    "X_cat = X_cat.replace('well_known_port',0)\n",
    "X_cat = X_cat.replace('registered_ports',1)\n",
    "X_cat = X_cat.replace('ephemeral_ports',2)\n",
    "\n",
    "\n",
    "\n",
    "X_cat = X_cat.replace('localhost',0)\n",
    "X_cat = X_cat.replace('classe_a',1)\n",
    "X_cat = X_cat.replace('classe_b',2)\n",
    "X_cat = X_cat.replace('classe_c',3)\n",
    "X_cat = X_cat.replace('public/other',4)\n",
    "\n",
    "\n",
    "X_cat = X_cat.astype(int)\n",
    "\n",
    "\n",
    "\n",
    "#X.dropna(inplace=True)\n",
    "\n",
    "#X = X.astype(int)\n",
    "\n",
    "chi2_corr = chi2(X_cat,y_multi)\n"
   ]
  },
  {
   "cell_type": "code",
   "execution_count": 46,
   "metadata": {},
   "outputs": [
    {
     "data": {
      "text/plain": [
       "['DNS_QUERY_TYPE',\n",
       " 'L7_PROTO',\n",
       " 'PROTOCOL',\n",
       " 'L4_DST_PORT_C',\n",
       " 'DNS_TTL_ANSWER',\n",
       " 'ICMP_TYPE',\n",
       " 'ICMP_IPV4_TYPE',\n",
       " 'IPV4_DST_ADDR_CLASSE',\n",
       " 'L4_SRC_PORT_C',\n",
       " 'IPV4_SRC_ADDR_CLASSE']"
      ]
     },
     "execution_count": 46,
     "metadata": {},
     "output_type": "execute_result"
    }
   ],
   "source": [
    "list(X_cat.columns[np.argsort(-chi2_corr[0])])"
   ]
  },
  {
   "cell_type": "code",
   "execution_count": 47,
   "metadata": {},
   "outputs": [],
   "source": [
    "columns_ranked_chi2 = list(X_cat.columns[np.argsort(-chi2_corr[0])])"
   ]
  },
  {
   "cell_type": "raw",
   "metadata": {},
   "source": [
    "#columns_ranked_chi2 = list(X_cat.columns[np.argsort(-chi2_corr[0])])\n",
    "columns_ranked_chi2 = ['DNS_QUERY_TYPE',\n",
    " 'L7_PROTO',\n",
    " 'L4_DST_PORT_C',\n",
    " 'PROTOCOL',\n",
    " 'ICMP_IPV4_TYPE',\n",
    " 'ICMP_TYPE',\n",
    " 'L4_SRC_PORT_C',\n",
    " 'DNS_TTL_ANSWER',\n",
    " 'IPV4_DST_ADDR_CLASSE',\n",
    " 'IPV4_SRC_ADDR_CLASSE']"
   ]
  },
  {
   "cell_type": "markdown",
   "metadata": {},
   "source": [
    "## Ranking of features using CHI2"
   ]
  },
  {
   "cell_type": "markdown",
   "metadata": {},
   "source": [
    "# We will select 3 pourcentage from the rest of the features\n",
    "categorical\n",
    "- 8.0\n",
    "- 5.0\n",
    "- 2.0"
   ]
  },
  {
   "cell_type": "markdown",
   "metadata": {},
   "source": [
    "### Generate the 3 databases for chi 2"
   ]
  },
  {
   "cell_type": "code",
   "execution_count": 48,
   "metadata": {},
   "outputs": [],
   "source": [
    "X_chi2_20 = X_cat[columns_ranked_chi2[:2]]\n",
    "X_chi2_50 =  X_cat[columns_ranked_chi2[:5]]\n",
    "X_chi2_80 =  X_cat[columns_ranked_chi2[:8]]\n",
    "\n",
    "dummy_feature = ['L4_SRC_PORT_C','L4_DST_PORT_C','IPV4_SRC_ADDR_CLASSE',\n",
    "                 'IPV4_DST_ADDR_CLASSE','PROTOCOL','L7_PROTO']\n",
    "list_dummy_20 = list(set( list(X_chi2_20.columns)).intersection(dummy_feature))\n",
    "list_dummy_50 = list(set( list(X_chi2_50.columns)).intersection(dummy_feature))\n",
    "list_dummy_80 = list(set( list(X_chi2_80.columns)).intersection(dummy_feature))\n",
    "\n",
    "\n",
    "X_chi2_20 = pd.get_dummies(X_chi2_20, columns=list_dummy_20)\n",
    "X_chi2_50 = pd.get_dummies(X_chi2_50, columns=list_dummy_50)\n",
    "X_chi2_80 = pd.get_dummies(X_chi2_80, columns=list_dummy_80)"
   ]
  },
  {
   "cell_type": "code",
   "execution_count": 49,
   "metadata": {},
   "outputs": [
    {
     "data": {
      "text/plain": [
       "(5082149, 27)"
      ]
     },
     "execution_count": 49,
     "metadata": {},
     "output_type": "execute_result"
    }
   ],
   "source": [
    "X_chi2_80.shape"
   ]
  },
  {
   "cell_type": "markdown",
   "metadata": {},
   "source": [
    "# MUTUAL INFORMATION"
   ]
  },
  {
   "cell_type": "code",
   "execution_count": 50,
   "metadata": {
    "pycharm": {
     "is_executing": true
    }
   },
   "outputs": [],
   "source": [
    "from sklearn.feature_selection import mutual_info_classif\n",
    "\n",
    "mi_class = mutual_info_classif(X_cat, y_multi)\n"
   ]
  },
  {
   "cell_type": "code",
   "execution_count": 51,
   "metadata": {
    "pycharm": {
     "is_executing": true
    }
   },
   "outputs": [
    {
     "data": {
      "text/plain": [
       "['L4_DST_PORT_C',\n",
       " 'L7_PROTO',\n",
       " 'PROTOCOL',\n",
       " 'IPV4_DST_ADDR_CLASSE',\n",
       " 'IPV4_SRC_ADDR_CLASSE',\n",
       " 'DNS_QUERY_TYPE',\n",
       " 'L4_SRC_PORT_C',\n",
       " 'DNS_TTL_ANSWER',\n",
       " 'ICMP_IPV4_TYPE',\n",
       " 'ICMP_TYPE']"
      ]
     },
     "execution_count": 51,
     "metadata": {},
     "output_type": "execute_result"
    }
   ],
   "source": [
    "list(X_cat.columns[np.argsort(-mi_class)])"
   ]
  },
  {
   "cell_type": "code",
   "execution_count": 52,
   "metadata": {},
   "outputs": [],
   "source": [
    "columns_ranked_mi = list(X_cat.columns[np.argsort(-mi_class)])"
   ]
  },
  {
   "cell_type": "raw",
   "metadata": {
    "pycharm": {
     "is_executing": true
    }
   },
   "source": [
    "#columns_ranked_mi = list(X_cat.columns[np.argsort(-mi_class)])\n",
    "columns_ranked_mi = ['L4_DST_PORT_C',\n",
    " 'L7_PROTO',\n",
    " 'L4_SRC_PORT_C',\n",
    " 'DNS_TTL_ANSWER',\n",
    " 'ICMP_TYPE',\n",
    " 'ICMP_IPV4_TYPE',\n",
    " 'PROTOCOL',\n",
    " 'DNS_QUERY_TYPE',\n",
    " 'IPV4_DST_ADDR_CLASSE',\n",
    " 'IPV4_SRC_ADDR_CLASSE']"
   ]
  },
  {
   "cell_type": "code",
   "execution_count": 53,
   "metadata": {},
   "outputs": [
    {
     "data": {
      "text/plain": [
       "['L4_DST_PORT_C',\n",
       " 'L7_PROTO',\n",
       " 'PROTOCOL',\n",
       " 'IPV4_DST_ADDR_CLASSE',\n",
       " 'IPV4_SRC_ADDR_CLASSE',\n",
       " 'DNS_QUERY_TYPE',\n",
       " 'L4_SRC_PORT_C',\n",
       " 'DNS_TTL_ANSWER',\n",
       " 'ICMP_IPV4_TYPE',\n",
       " 'ICMP_TYPE']"
      ]
     },
     "execution_count": 53,
     "metadata": {},
     "output_type": "execute_result"
    }
   ],
   "source": [
    "columns_ranked_mi"
   ]
  },
  {
   "cell_type": "code",
   "execution_count": 54,
   "metadata": {
    "pycharm": {
     "is_executing": true
    }
   },
   "outputs": [],
   "source": [
    "X_MI_20 = X_cat[columns_ranked_mi[:2]]\n",
    "X_MI_50 =  X_cat[columns_ranked_mi[:5]]\n",
    "X_MI_80 =  X_cat[columns_ranked_mi[:8]]\n",
    "\n",
    "list_dummy_20 = list(set( list(X_MI_20.columns)).intersection(dummy_feature))\n",
    "list_dummy_50 = list(set( list(X_MI_50.columns)).intersection(dummy_feature))\n",
    "list_dummy_80 = list(set( list(X_MI_80.columns)).intersection(dummy_feature))\n",
    "\n",
    "\n",
    "X_MI_20 = pd.get_dummies(X_MI_20, columns=list_dummy_20)\n",
    "X_MI_50 = pd.get_dummies(X_MI_50, columns=list_dummy_50)\n",
    "X_MI_80 = pd.get_dummies(X_MI_80, columns=list_dummy_80)"
   ]
  },
  {
   "cell_type": "code",
   "execution_count": 55,
   "metadata": {
    "pycharm": {
     "is_executing": true
    }
   },
   "outputs": [
    {
     "data": {
      "text/plain": [
       "(5082149, 1)"
      ]
     },
     "execution_count": 55,
     "metadata": {},
     "output_type": "execute_result"
    }
   ],
   "source": [
    "y_multi.shape\n"
   ]
  },
  {
   "cell_type": "markdown",
   "metadata": {},
   "source": [
    "## mRMR"
   ]
  },
  {
   "cell_type": "code",
   "execution_count": 56,
   "metadata": {
    "pycharm": {
     "is_executing": true
    }
   },
   "outputs": [
    {
     "name": "stderr",
     "output_type": "stream",
     "text": [
      "100%|████████████████████████████████████████████████████████████████████████████████████| 2/2 [00:01<00:00,  1.87it/s]\n",
      "100%|████████████████████████████████████████████████████████████████████████████████████| 5/5 [00:03<00:00,  1.36it/s]\n",
      "100%|████████████████████████████████████████████████████████████████████████████████████| 8/8 [00:05<00:00,  1.49it/s]\n"
     ]
    }
   ],
   "source": [
    "from mrmr import mrmr_classif\n",
    "selected_features_20 = mrmr_classif(X=X_cat, y=y_multi, K=2)\n",
    "selected_features_50 = mrmr_classif(X=X_cat, y=y_multi, K=5)\n",
    "selected_features_80 = mrmr_classif(X=X_cat, y=y_multi, K=8)"
   ]
  },
  {
   "cell_type": "code",
   "execution_count": 57,
   "metadata": {
    "pycharm": {
     "is_executing": true
    }
   },
   "outputs": [],
   "source": [
    "X_mrmr_80 = X_cat[selected_features_80]\n",
    "X_mrmr_50 = X_cat[selected_features_50]\n",
    "X_mrmr_20 = X_cat[selected_features_20]\n",
    "\n",
    "list_dummy_20 = list(set( list(X_mrmr_20.columns)).intersection(dummy_feature))\n",
    "list_dummy_50 = list(set( list(X_mrmr_50.columns)).intersection(dummy_feature))\n",
    "list_dummy_80 = list(set( list(X_mrmr_80.columns)).intersection(dummy_feature))\n",
    "\n",
    "X_mrmr_20 = pd.get_dummies(X_mrmr_20, columns=list_dummy_20)\n",
    "X_mrmr_50 = pd.get_dummies(X_mrmr_50, columns=list_dummy_50)\n",
    "X_mrmr_80 = pd.get_dummies(X_mrmr_80, columns=list_dummy_80)"
   ]
  },
  {
   "cell_type": "code",
   "execution_count": 58,
   "metadata": {
    "pycharm": {
     "is_executing": true
    }
   },
   "outputs": [
    {
     "data": {
      "text/plain": [
       "['PROTOCOL',\n",
       " 'IPV4_DST_ADDR_CLASSE',\n",
       " 'ICMP_TYPE',\n",
       " 'DNS_QUERY_TYPE',\n",
       " 'L4_DST_PORT_C',\n",
       " 'L7_PROTO',\n",
       " 'DNS_TTL_ANSWER',\n",
       " 'ICMP_IPV4_TYPE']"
      ]
     },
     "execution_count": 58,
     "metadata": {},
     "output_type": "execute_result"
    }
   ],
   "source": [
    "selected_features_80"
   ]
  },
  {
   "cell_type": "code",
   "execution_count": null,
   "metadata": {},
   "outputs": [],
   "source": []
  },
  {
   "cell_type": "code",
   "execution_count": null,
   "metadata": {},
   "outputs": [],
   "source": []
  },
  {
   "cell_type": "code",
   "execution_count": null,
   "metadata": {},
   "outputs": [],
   "source": []
  },
  {
   "cell_type": "markdown",
   "metadata": {},
   "source": [
    "### Decision Tree"
   ]
  },
  {
   "cell_type": "markdown",
   "metadata": {},
   "source": [
    "### MI"
   ]
  },
  {
   "cell_type": "code",
   "execution_count": 59,
   "metadata": {},
   "outputs": [
    {
     "data": {
      "text/plain": [
       "(5082149, 5)"
      ]
     },
     "execution_count": 59,
     "metadata": {},
     "output_type": "execute_result"
    }
   ],
   "source": [
    "X_A_20.shape"
   ]
  },
  {
   "cell_type": "code",
   "execution_count": 60,
   "metadata": {},
   "outputs": [
    {
     "data": {
      "text/plain": [
       "(5082149, 14)"
      ]
     },
     "execution_count": 60,
     "metadata": {},
     "output_type": "execute_result"
    }
   ],
   "source": [
    "X_A_chi2_20 = pd.concat([X_A_20,X_chi2_20],axis=1)\n",
    "X_A_chi2_20.shape"
   ]
  },
  {
   "cell_type": "code",
   "execution_count": 61,
   "metadata": {},
   "outputs": [],
   "source": [
    "X_A_chi2_20 = pd.concat([X_A_20,X_chi2_20],axis=1)\n",
    "X_A_chi2_50 = pd.concat([X_A_50,X_chi2_50],axis=1)\n",
    "X_A_chi2_80 = pd.concat([X_A_80,X_chi2_80],axis=1)\n",
    "\n",
    "X_A_MI_20 = pd.concat([X_A_20,X_MI_20],axis=1)\n",
    "X_A_MI_50= pd.concat([X_A_50,X_MI_50],axis=1)\n",
    "X_A_MI_80= pd.concat([X_A_80,X_MI_80],axis=1)\n",
    "\n",
    "\n",
    "X_K_chi2_20 = pd.concat([X_K_20,X_chi2_20],axis=1)\n",
    "X_K_chi2_50 = pd.concat([X_K_50,X_chi2_50],axis=1)\n",
    "X_K_chi2_80 = pd.concat([X_K_80,X_chi2_80],axis=1)\n",
    "\n",
    "X_K_MI_20 = pd.concat([X_K_20,X_MI_20],axis=1)\n",
    "X_K_MI_50 = pd.concat([X_K_50,X_MI_50],axis=1)\n",
    "X_K_MI_80 = pd.concat([X_K_80,X_MI_80],axis=1)\n",
    "\n",
    "\n",
    "\n"
   ]
  },
  {
   "cell_type": "code",
   "execution_count": 62,
   "metadata": {},
   "outputs": [],
   "source": [
    "X_K_mRMR_20 = pd.concat([X_K_20,X_mrmr_20],axis=1)\n",
    "X_K_mRMR_50 = pd.concat([X_K_50,X_mrmr_50],axis=1)\n",
    "X_K_mRMR_80 = pd.concat([X_K_80,X_mrmr_80],axis=1)\n",
    "\n",
    "\n",
    "X_A_mRMR_20 = pd.concat([X_A_20,X_mrmr_20],axis=1)\n",
    "X_A_mRMR_50 = pd.concat([X_A_50,X_mrmr_50],axis=1)\n",
    "X_A_mRMR_80 = pd.concat([X_A_80,X_mrmr_80],axis=1)"
   ]
  },
  {
   "cell_type": "code",
   "execution_count": 63,
   "metadata": {},
   "outputs": [
    {
     "name": "stdout",
     "output_type": "stream",
     "text": [
      "(5082149, 14)\n",
      "(5082149, 33)\n",
      "(5082149, 47)\n",
      "(5082149, 17)\n",
      "(5082149, 41)\n",
      "(5082149, 54)\n",
      "(5082149, 14)\n",
      "(5082149, 33)\n",
      "(5082149, 47)\n",
      "(5082149, 17)\n",
      "(5082149, 41)\n",
      "(5082149, 54)\n"
     ]
    }
   ],
   "source": [
    "print(X_A_chi2_20.shape)\n",
    "print(X_A_chi2_50.shape)\n",
    "print(X_A_chi2_80.shape)\n",
    "print(X_A_MI_20.shape)\n",
    "print(X_A_MI_50.shape)\n",
    "print(X_A_MI_80.shape)\n",
    "print(X_K_chi2_20.shape)\n",
    "print(X_K_chi2_50.shape)\n",
    "print(X_K_chi2_80.shape)\n",
    "print(X_K_MI_20.shape)\n",
    "print(X_K_MI_50.shape)\n",
    "print(X_K_MI_80.shape)\n"
   ]
  },
  {
   "cell_type": "code",
   "execution_count": 64,
   "metadata": {},
   "outputs": [
    {
     "name": "stdout",
     "output_type": "stream",
     "text": [
      "(5082149, 16)\n",
      "(5082149, 30)\n",
      "(5082149, 47)\n",
      "(5082149, 16)\n",
      "(5082149, 30)\n",
      "(5082149, 47)\n"
     ]
    }
   ],
   "source": [
    "\n",
    "print(X_K_mRMR_20.shape)\n",
    "print(X_K_mRMR_50.shape)\n",
    "print(X_K_mRMR_80.shape)\n",
    "\n",
    "\n",
    "print(X_A_mRMR_20.shape)\n",
    "print(X_A_mRMR_50.shape)\n",
    "print(X_A_mRMR_80.shape)\n"
   ]
  },
  {
   "cell_type": "code",
   "execution_count": 58,
   "metadata": {},
   "outputs": [
    {
     "name": "stdout",
     "output_type": "stream",
     "text": [
      "Local Variables (sorted by size):\n",
      "X: 2005908332 bytes\n",
      "X_Numerical_sc: 1016429964 bytes\n",
      "X_A_MI_80: 1016429964 bytes\n",
      "X_K_MI_80: 1016429964 bytes\n",
      "X_A_chi2_80: 1011347815 bytes\n",
      "X_K_chi2_80: 1011347815 bytes\n",
      "X_Numerical: 975772772 bytes\n",
      "X_A_80: 813144004 bytes\n",
      "X_K_80: 813144004 bytes\n",
      "X_A_chi2_50: 660679534 bytes\n",
      "X_K_chi2_50: 660679534 bytes\n",
      "X_A_MI_50: 650515236 bytes\n",
      "X_K_MI_50: 650515236 bytes\n",
      "X_A_50: 528543660 bytes\n",
      "X_K_50: 528543660 bytes\n",
      "X_A_chi2_20: 264271912 bytes\n",
      "X_K_chi2_20: 264271912 bytes\n",
      "X_A_MI_20: 259189763 bytes\n",
      "X_K_MI_20: 259189763 bytes\n",
      "X_A_20: 203286124 bytes\n",
      "X_K_20: 203286124 bytes\n",
      "X_cat: 203286124 bytes\n",
      "X_MI_80: 203286124 bytes\n",
      "X_chi2_80: 198203975 bytes\n",
      "plage_classe_a: 142713400 bytes\n",
      "X_chi2_50: 132136038 bytes\n",
      "X_MI_50: 121971740 bytes\n",
      "X_chi2_20: 60985952 bytes\n",
      "X_MI_20: 55903803 bytes\n",
      "y_multi: 40657356 bytes\n",
      "plage_classe_b: 8448728 bytes\n",
      "plage_classe_c: 562488 bytes\n",
      "registered_ports: 385080 bytes\n",
      "ephemeral_ports: 131128 bytes\n",
      "well_known_port: 8248 bytes\n",
      "_17: 2063 bytes\n",
      "_34: 1987 bytes\n",
      "StandardScaler: 1688 bytes\n",
      "SelectKBest: 1688 bytes\n",
      "_oh: 1168 bytes\n",
      "Out: 1168 bytes\n",
      "_i30: 886 bytes\n",
      "_i31: 886 bytes\n",
      "kendall_tau_scores: 832 bytes\n",
      "_i58: 776 bytes\n",
      "_i3: 757 bytes\n",
      "_i29: 756 bytes\n",
      "_i38: 741 bytes\n",
      "_28: 722 bytes\n",
      "_i16: 650 bytes\n",
      "_i35: 650 bytes\n",
      "_iii: 638 bytes\n",
      "_i55: 638 bytes\n",
      "_i4: 630 bytes\n",
      "_i33: 596 bytes\n",
      "_i45: 575 bytes\n",
      "_30: 574 bytes\n",
      "_31: 574 bytes\n",
      "_ih: 568 bytes\n",
      "In: 568 bytes\n",
      "_23: 516 bytes\n",
      "_ii: 486 bytes\n",
      "_i12: 486 bytes\n",
      "_i56: 486 bytes\n",
      "_i22: 454 bytes\n",
      "_24: 450 bytes\n",
      "_i23: 433 bytes\n",
      "_i: 336 bytes\n",
      "_i57: 336 bytes\n",
      "features: 312 bytes\n",
      "col_anova_80: 272 bytes\n",
      "_15: 272 bytes\n",
      "sorted_kendall_tau_scores: 264 bytes\n",
      "_i46: 261 bytes\n",
      "_i49: 261 bytes\n",
      "_i52: 261 bytes\n",
      "_i8: 251 bytes\n",
      "_i24: 250 bytes\n",
      "col_kendall_80: 248 bytes\n",
      "_i28: 239 bytes\n",
      "col_anova_50: 216 bytes\n",
      "_i6: 205 bytes\n",
      "_i5: 196 bytes\n",
      "_4: 192 bytes\n",
      "mi_class: 192 bytes\n",
      "col_kendall_50: 184 bytes\n",
      "_i17: 183 bytes\n",
      "_i10: 172 bytes\n",
      "_i21: 170 bytes\n",
      "_i1: 162 bytes\n",
      "_i14: 162 bytes\n",
      "_i39: 154 bytes\n",
      "_i41: 154 bytes\n",
      "open: 152 bytes\n",
      "train_test_split: 152 bytes\n",
      "f_classif: 152 bytes\n",
      "col_anova_20: 152 bytes\n",
      "kendalltau: 152 bytes\n",
      "ip_address: 152 bytes\n",
      "findIPs: 152 bytes\n",
      "chi2: 152 bytes\n",
      "mutual_info_classif: 152 bytes\n",
      "mrmr_classif: 152 bytes\n",
      "__: 137 bytes\n",
      "_13: 137 bytes\n",
      "categorical_feature: 136 bytes\n",
      "to_drop: 136 bytes\n",
      "_36: 136 bytes\n",
      "columns_ranked_chi2: 136 bytes\n",
      "_42: 136 bytes\n",
      "columns_ranked_mi: 136 bytes\n",
      "_44: 136 bytes\n",
      "_i25: 132 bytes\n",
      "_25: 128 bytes\n",
      "_27: 128 bytes\n",
      "col_kendall_20: 120 bytes\n",
      "list_proto: 120 bytes\n",
      "_i37: 117 bytes\n",
      "_i54: 117 bytes\n",
      "_i32: 116 bytes\n",
      "__doc__: 113 bytes\n",
      "_i43: 111 bytes\n",
      "dummy_feature: 104 bytes\n",
      "list_dummy_80: 104 bytes\n",
      "_i7: 98 bytes\n",
      "_i36: 95 bytes\n",
      "_i42: 91 bytes\n",
      "to_drop_corr_col: 88 bytes\n",
      "list_dummy_50: 88 bytes\n",
      "_i27: 81 bytes\n",
      "_i11: 79 bytes\n",
      "_i18: 79 bytes\n",
      "__builtin__: 72 bytes\n",
      "__builtins__: 72 bytes\n",
      "pd: 72 bytes\n",
      "warnings: 72 bytes\n",
      "not_used: 72 bytes\n",
      "tagets: 72 bytes\n",
      "to_drop_VIF: 72 bytes\n",
      "np: 72 bytes\n",
      "math: 72 bytes\n",
      "list_dummy_20: 72 bytes\n",
      "sys: 72 bytes\n",
      "_i9: 69 bytes\n",
      "_i19: 69 bytes\n",
      "_i26: 67 bytes\n",
      "_i44: 66 bytes\n",
      "_i13: 65 bytes\n",
      "_dh: 64 bytes\n",
      "get_ipython: 64 bytes\n",
      "feature: 64 bytes\n",
      "_i40: 64 bytes\n",
      "_i2: 62 bytes\n",
      "_i34: 62 bytes\n",
      "_i47: 62 bytes\n",
      "_i48: 62 bytes\n",
      "_i51: 62 bytes\n",
      "_i15: 61 bytes\n",
      "_i53: 61 bytes\n",
      "_i20: 60 bytes\n",
      "_i50: 60 bytes\n",
      "__name__: 57 bytes\n",
      "exit: 56 bytes\n",
      "quit: 56 bytes\n",
      "___: 56 bytes\n",
      "_2: 56 bytes\n",
      "scaler: 56 bytes\n",
      "_9: 56 bytes\n",
      "sb: 56 bytes\n",
      "_19: 56 bytes\n",
      "_20: 56 bytes\n",
      "chi2_corr: 56 bytes\n",
      "_40: 56 bytes\n",
      "_48: 56 bytes\n",
      "_50: 56 bytes\n",
      "_51: 56 bytes\n",
      "_53: 56 bytes\n",
      "_54: 56 bytes\n",
      "_: 32 bytes\n",
      "kendall_tau: 32 bytes\n",
      "infini: 24 bytes\n",
      "__package__: 16 bytes\n",
      "__loader__: 16 bytes\n",
      "__spec__: 16 bytes\n",
      "\n",
      "Global Variables (sorted by size):\n",
      "X: 2005908332 bytes\n",
      "X_Numerical_sc: 1016429964 bytes\n",
      "X_A_MI_80: 1016429964 bytes\n",
      "X_K_MI_80: 1016429964 bytes\n",
      "X_A_chi2_80: 1011347815 bytes\n",
      "X_K_chi2_80: 1011347815 bytes\n",
      "X_Numerical: 975772772 bytes\n",
      "X_A_80: 813144004 bytes\n",
      "X_K_80: 813144004 bytes\n",
      "X_A_chi2_50: 660679534 bytes\n",
      "X_K_chi2_50: 660679534 bytes\n",
      "X_A_MI_50: 650515236 bytes\n",
      "X_K_MI_50: 650515236 bytes\n",
      "X_A_50: 528543660 bytes\n",
      "X_K_50: 528543660 bytes\n",
      "X_A_chi2_20: 264271912 bytes\n",
      "X_K_chi2_20: 264271912 bytes\n",
      "X_A_MI_20: 259189763 bytes\n",
      "X_K_MI_20: 259189763 bytes\n",
      "X_A_20: 203286124 bytes\n",
      "X_K_20: 203286124 bytes\n",
      "X_cat: 203286124 bytes\n",
      "X_MI_80: 203286124 bytes\n",
      "X_chi2_80: 198203975 bytes\n",
      "plage_classe_a: 142713400 bytes\n",
      "X_chi2_50: 132136038 bytes\n",
      "X_MI_50: 121971740 bytes\n",
      "X_chi2_20: 60985952 bytes\n",
      "X_MI_20: 55903803 bytes\n",
      "y_multi: 40657356 bytes\n",
      "plage_classe_b: 8448728 bytes\n",
      "plage_classe_c: 562488 bytes\n",
      "registered_ports: 385080 bytes\n",
      "ephemeral_ports: 131128 bytes\n",
      "well_known_port: 8248 bytes\n",
      "local_vars_snapshot: 6576 bytes\n",
      "global_vars: 6576 bytes\n",
      "_17: 2063 bytes\n",
      "_34: 1987 bytes\n",
      "StandardScaler: 1688 bytes\n",
      "SelectKBest: 1688 bytes\n",
      "sorted_local_vars: 1528 bytes\n",
      "_oh: 1168 bytes\n",
      "Out: 1168 bytes\n",
      "_i30: 886 bytes\n",
      "_i31: 886 bytes\n",
      "kendall_tau_scores: 832 bytes\n",
      "_i58: 776 bytes\n",
      "_i3: 757 bytes\n",
      "_i29: 756 bytes\n",
      "_i38: 741 bytes\n",
      "_28: 722 bytes\n",
      "_i16: 650 bytes\n",
      "_i35: 650 bytes\n",
      "_iii: 638 bytes\n",
      "_i55: 638 bytes\n",
      "_i4: 630 bytes\n",
      "_i33: 596 bytes\n",
      "_i45: 575 bytes\n",
      "_30: 574 bytes\n",
      "_31: 574 bytes\n",
      "_ih: 568 bytes\n",
      "In: 568 bytes\n",
      "_23: 516 bytes\n",
      "_ii: 486 bytes\n",
      "_i12: 486 bytes\n",
      "_i56: 486 bytes\n",
      "_i22: 454 bytes\n",
      "_24: 450 bytes\n",
      "_i23: 433 bytes\n",
      "_i: 336 bytes\n",
      "_i57: 336 bytes\n",
      "features: 312 bytes\n",
      "col_anova_80: 272 bytes\n",
      "_15: 272 bytes\n",
      "sorted_kendall_tau_scores: 264 bytes\n",
      "_i46: 261 bytes\n",
      "_i49: 261 bytes\n",
      "_i52: 261 bytes\n",
      "_i8: 251 bytes\n",
      "_i24: 250 bytes\n",
      "col_kendall_80: 248 bytes\n",
      "_i28: 239 bytes\n",
      "col_anova_50: 216 bytes\n",
      "_i6: 205 bytes\n",
      "_i5: 196 bytes\n",
      "_4: 192 bytes\n",
      "mi_class: 192 bytes\n",
      "col_kendall_50: 184 bytes\n",
      "_i17: 183 bytes\n",
      "_i10: 172 bytes\n",
      "_i21: 170 bytes\n",
      "_i1: 162 bytes\n",
      "_i14: 162 bytes\n",
      "_i39: 154 bytes\n",
      "_i41: 154 bytes\n",
      "open: 152 bytes\n",
      "train_test_split: 152 bytes\n",
      "f_classif: 152 bytes\n",
      "col_anova_20: 152 bytes\n",
      "kendalltau: 152 bytes\n",
      "ip_address: 152 bytes\n",
      "findIPs: 152 bytes\n",
      "chi2: 152 bytes\n",
      "mutual_info_classif: 152 bytes\n",
      "mrmr_classif: 152 bytes\n",
      "__: 137 bytes\n",
      "_13: 137 bytes\n",
      "categorical_feature: 136 bytes\n",
      "to_drop: 136 bytes\n",
      "_36: 136 bytes\n",
      "columns_ranked_chi2: 136 bytes\n",
      "_42: 136 bytes\n",
      "columns_ranked_mi: 136 bytes\n",
      "_44: 136 bytes\n",
      "_i25: 132 bytes\n",
      "_25: 128 bytes\n",
      "_27: 128 bytes\n",
      "col_kendall_20: 120 bytes\n",
      "list_proto: 120 bytes\n",
      "_i37: 117 bytes\n",
      "_i54: 117 bytes\n",
      "_i32: 116 bytes\n",
      "__doc__: 113 bytes\n",
      "_i43: 111 bytes\n",
      "dummy_feature: 104 bytes\n",
      "list_dummy_80: 104 bytes\n",
      "_i7: 98 bytes\n",
      "_i36: 95 bytes\n",
      "_i42: 91 bytes\n",
      "to_drop_corr_col: 88 bytes\n",
      "list_dummy_50: 88 bytes\n",
      "_i27: 81 bytes\n",
      "_i11: 79 bytes\n",
      "_i18: 79 bytes\n",
      "__builtin__: 72 bytes\n",
      "__builtins__: 72 bytes\n",
      "pd: 72 bytes\n",
      "warnings: 72 bytes\n",
      "not_used: 72 bytes\n",
      "tagets: 72 bytes\n",
      "to_drop_VIF: 72 bytes\n",
      "np: 72 bytes\n",
      "math: 72 bytes\n",
      "list_dummy_20: 72 bytes\n",
      "sys: 72 bytes\n",
      "_i9: 69 bytes\n",
      "_i19: 69 bytes\n",
      "_i26: 67 bytes\n",
      "_i44: 66 bytes\n",
      "_i13: 65 bytes\n",
      "_dh: 64 bytes\n",
      "get_ipython: 64 bytes\n",
      "feature: 64 bytes\n",
      "_i40: 64 bytes\n",
      "_i2: 62 bytes\n",
      "_i34: 62 bytes\n",
      "_i47: 62 bytes\n",
      "_i48: 62 bytes\n",
      "_i51: 62 bytes\n",
      "_i15: 61 bytes\n",
      "_i53: 61 bytes\n",
      "_i20: 60 bytes\n",
      "_i50: 60 bytes\n",
      "__name__: 57 bytes\n",
      "var_name: 57 bytes\n",
      "exit: 56 bytes\n",
      "quit: 56 bytes\n",
      "___: 56 bytes\n",
      "_2: 56 bytes\n",
      "scaler: 56 bytes\n",
      "_9: 56 bytes\n",
      "sb: 56 bytes\n",
      "_19: 56 bytes\n",
      "_20: 56 bytes\n",
      "chi2_corr: 56 bytes\n",
      "_40: 56 bytes\n",
      "_48: 56 bytes\n",
      "_50: 56 bytes\n",
      "_51: 56 bytes\n",
      "_53: 56 bytes\n",
      "_54: 56 bytes\n",
      "_: 32 bytes\n",
      "kendall_tau: 32 bytes\n",
      "infini: 24 bytes\n",
      "__package__: 16 bytes\n",
      "__loader__: 16 bytes\n",
      "__spec__: 16 bytes\n",
      "var_value: 16 bytes\n"
     ]
    }
   ],
   "source": [
    "import sys\n",
    "\n",
    "# Get a snapshot of the current local variables\n",
    "local_vars_snapshot = locals().copy()\n",
    "\n",
    "# Sort local variables by size\n",
    "sorted_local_vars = sorted(local_vars_snapshot.items(), key=lambda x: sys.getsizeof(x[1]), reverse=True)\n",
    "\n",
    "print(\"Local Variables (sorted by size):\")\n",
    "for var_name, var_value in sorted_local_vars:\n",
    "    print(f\"{var_name}: {sys.getsizeof(var_value)} bytes\")\n",
    "\n",
    "# Get the current global variables\n",
    "global_vars = globals()\n",
    "\n",
    "# Sort global variables by size\n",
    "sorted_global_vars = sorted(global_vars.items(), key=lambda x: sys.getsizeof(x[1]), reverse=True)\n",
    "\n",
    "print(\"\\nGlobal Variables (sorted by size):\")\n",
    "for var_name, var_value in sorted_global_vars:\n",
    "    print(f\"{var_name}: {sys.getsizeof(var_value)} bytes\")\n"
   ]
  },
  {
   "cell_type": "code",
   "execution_count": 65,
   "metadata": {},
   "outputs": [],
   "source": [
    "del plage_classe_c\n",
    "del registered_ports\n",
    "del ephemeral_ports\n",
    "del well_known_port"
   ]
  },
  {
   "cell_type": "code",
   "execution_count": 66,
   "metadata": {},
   "outputs": [],
   "source": [
    "\n",
    "dummy_feature = ['L4_SRC_PORT_C','L4_DST_PORT_C','IPV4_SRC_ADDR_CLASSE',\n",
    "                 'IPV4_DST_ADDR_CLASSE','PROTOCOL','L7_PROTO']\n",
    "X_cat_dm = pd.get_dummies(X_cat, columns=dummy_feature)"
   ]
  },
  {
   "cell_type": "code",
   "execution_count": 67,
   "metadata": {},
   "outputs": [
    {
     "data": {
      "text/plain": [
       "(5082149, 61)"
      ]
     },
     "execution_count": 67,
     "metadata": {},
     "output_type": "execute_result"
    }
   ],
   "source": [
    "\n",
    "\n",
    "X =  pd.concat([X_Numerical_sc,X_cat_dm],axis=1)\n",
    "X.shape"
   ]
  },
  {
   "cell_type": "code",
   "execution_count": 68,
   "metadata": {
    "pycharm": {
     "is_executing": true
    }
   },
   "outputs": [],
   "source": [
    "datasets = {\"X_A_chi2_20\":X_A_chi2_20,\n",
    "\"X_A_chi2_50\":X_A_chi2_50,\n",
    "\"X_A_chi2_80\":X_A_chi2_80,\n",
    "\"X_A_MI_20\":X_A_MI_20,\n",
    "\"X_A_MI_50\":X_A_MI_50,\n",
    "\"X_A_MI_80\":X_A_MI_80,\n",
    "\n",
    "\"X_K_chi2_20\":X_K_chi2_20,\n",
    "\"X_K_chi2_50\":X_K_chi2_50,\n",
    "\"X_K_chi2_80\":X_K_chi2_80,\n",
    "\"X_K_MI_20\":X_K_MI_20,\n",
    "\"X_K_MI_50\":X_K_MI_50,\n",
    "\"X_K_MI_80\":X_K_MI_80,\n",
    "\"X_A_mRMR_20\":X_A_mRMR_20,\n",
    "\"X_A_mRMR_50\":X_A_mRMR_50,\n",
    "\"X_A_mRMR_80\":X_A_mRMR_80,\n",
    "\"X_K_mRMR_20\":X_K_mRMR_20,\n",
    "\"X_K_mRMR_50\":X_K_mRMR_50,\n",
    "\"X_K_mRMR_80\":X_K_mRMR_80,\n",
    "\"X\":X\n",
    "}"
   ]
  },
  {
   "cell_type": "code",
   "execution_count": null,
   "metadata": {},
   "outputs": [],
   "source": [
    "\"X_A_mRMR_20\":X_A_mRMR_20,\n",
    "\"X_A_mRMR_50\":X_A_mRMR_50,\n",
    "\"X_A_mRMR_80\":X_A_mRMR_80,\n",
    "\"X_K_mRMR_20\":X_K_mRMR_20,\n",
    "\"X_K_mRMR_50\":X_K_mRMR_50,\n",
    "\"X_K_mRMR_80\":X_K_mRMR_80,\n",
    "\"X\":X\n"
   ]
  },
  {
   "cell_type": "code",
   "execution_count": 63,
   "metadata": {},
   "outputs": [],
   "source": [
    "del X_A_chi2_20,\n",
    "del X_A_chi2_50,\n",
    "del X_A_chi2_80,\n",
    "del X_A_MI_20,\n",
    "del X_A_MI_50,\n",
    "del X_A_MI_80,\n",
    "\n",
    "del X_K_chi2_20,\n",
    "del X_K_chi2_50,\n",
    "del X_K_chi2_80,\n",
    "del X_K_MI_20,\n",
    "del X_K_MI_50,\n",
    "del X_K_MI_80,\n"
   ]
  },
  {
   "cell_type": "code",
   "execution_count": null,
   "metadata": {},
   "outputs": [],
   "source": [
    "del X_A_mRMR_20,\n",
    "del X_A_mRMR_50,\n",
    "del X_A_mRMR_80,\n",
    "\n",
    "del X_K_mRMR_20,\n",
    "del X_K_mRMR_50,\n",
    "del X_K_mRMR_80"
   ]
  },
  {
   "cell_type": "code",
   "execution_count": 64,
   "metadata": {},
   "outputs": [
    {
     "data": {
      "text/plain": [
       "dict_keys(['X_A_chi2_20', 'X_A_chi2_50', 'X_A_chi2_80', 'X_A_MI_20', 'X_A_MI_50', 'X_A_MI_80', 'X_K_chi2_20', 'X_K_chi2_50', 'X_K_chi2_80', 'X_K_MI_20', 'X_K_MI_50', 'X_K_MI_80'])"
      ]
     },
     "execution_count": 64,
     "metadata": {},
     "output_type": "execute_result"
    }
   ],
   "source": [
    "datasets.keys()"
   ]
  },
  {
   "cell_type": "markdown",
   "metadata": {},
   "source": [
    "### Multiclassification"
   ]
  },
  {
   "cell_type": "markdown",
   "metadata": {},
   "source": [
    "## Building the models "
   ]
  },
  {
   "cell_type": "code",
   "execution_count": null,
   "metadata": {},
   "outputs": [],
   "source": []
  },
  {
   "cell_type": "code",
   "execution_count": 65,
   "metadata": {},
   "outputs": [],
   "source": [
    "from sklearn import tree\n",
    "from sklearn.model_selection import KFold\n",
    "import json\n",
    "from sklearn.model_selection import GridSearchCV\n",
    "from sklearn.metrics import make_scorer,cohen_kappa_score,matthews_corrcoef,accuracy_score,precision_score,recall_score\n",
    "\n",
    "\n",
    "def my_grid_result_df(clf,hyperparams,data_name,algo_name,X,y):\n",
    "    \n",
    "    scoring = {\"Accuracy\": make_scorer(accuracy_score),\n",
    "               \"F1-Score\":'f1_macro' ,\n",
    "               \"Recall\":  make_scorer(recall_score,average='macro'),\n",
    "              # \"Precision\": make_scorer(precision_score, average='macro'),\n",
    "               \"MCC\":make_scorer(matthews_corrcoef),\n",
    "               \"Kappa\":make_scorer(cohen_kappa_score)\n",
    "              }\n",
    "    cv_inner = KFold(n_splits=5, shuffle=True, random_state=1)\n",
    "    search = GridSearchCV(clf, hyperparams, scoring=scoring, n_jobs=-1, cv=cv_inner, refit=\"Kappa\")\n",
    "    grid_result = search.fit(X, y)\n",
    "\n",
    "    json_dump = json.dumps(grid_result.cv_results_,cls=NumpyEncoder)\n",
    "    # Serializing json\n",
    "\n",
    "    # Writing to sample.json\n",
    "    with open(f\"./result_multi/{algo_name}__{data_name}.json\", \"w\") as outfile:\n",
    "        outfile.write(json_dump)\n",
    "\n",
    "\n",
    "def create_all_result(clf,algo_name,hyperparams,datasets,y):\n",
    "    for k,v in datasets.items():\n",
    "        now = datetime.datetime.now()\n",
    "        print(f'======== process======= dataset : {k} \\t time is {now}')\n",
    "        my_grid_result_df(clf,hyperparams,k,algo_name,v,y)\n",
    "        now = datetime.datetime.now()\n",
    "        print(f'======== Done  ======== dataset : {k} \\t time is {now}')\n",
    "        print('\\n')"
   ]
  },
  {
   "cell_type": "code",
   "execution_count": 66,
   "metadata": {},
   "outputs": [
    {
     "data": {
      "text/plain": [
       "Attack\n",
       "0         1829223\n",
       "1         1134420\n",
       "2          736976\n",
       "3          607187\n",
       "4          346493\n",
       "5          213722\n",
       "6          205682\n",
       "7            5050\n",
       "8            2369\n",
       "9            1027\n",
       "dtype: int64"
      ]
     },
     "execution_count": 66,
     "metadata": {},
     "output_type": "execute_result"
    }
   ],
   "source": [
    "y_multi.value_counts()"
   ]
  },
  {
   "cell_type": "code",
   "execution_count": null,
   "metadata": {},
   "outputs": [],
   "source": []
  },
  {
   "cell_type": "code",
   "execution_count": 68,
   "metadata": {},
   "outputs": [],
   "source": [
    "del large_dataset"
   ]
  },
  {
   "cell_type": "code",
   "execution_count": 69,
   "metadata": {},
   "outputs": [
    {
     "ename": "KeyboardInterrupt",
     "evalue": "",
     "output_type": "error",
     "traceback": [
      "\u001b[1;31m---------------------------------------------------------------------------\u001b[0m",
      "\u001b[1;31mKeyboardInterrupt\u001b[0m                         Traceback (most recent call last)",
      "Cell \u001b[1;32mIn[69], line 7\u001b[0m\n\u001b[0;32m      3\u001b[0m \u001b[38;5;66;03m# Example large dataset\u001b[39;00m\n\u001b[0;32m      4\u001b[0m \n\u001b[0;32m      5\u001b[0m \u001b[38;5;66;03m# Save the dataset to a file\u001b[39;00m\n\u001b[0;32m      6\u001b[0m file_path \u001b[38;5;241m=\u001b[39m \u001b[38;5;124m'\u001b[39m\u001b[38;5;124mlarge_dataset.joblib\u001b[39m\u001b[38;5;124m'\u001b[39m\n\u001b[1;32m----> 7\u001b[0m dump(datasets, file_path)\n\u001b[0;32m      9\u001b[0m \u001b[38;5;66;03m# Load the dataset from the file\u001b[39;00m\n\u001b[0;32m     10\u001b[0m loaded_dataset \u001b[38;5;241m=\u001b[39m load(file_path)\n",
      "File \u001b[1;32m~\\anaconda3\\Lib\\site-packages\\joblib\\numpy_pickle.py:553\u001b[0m, in \u001b[0;36mdump\u001b[1;34m(value, filename, compress, protocol, cache_size)\u001b[0m\n\u001b[0;32m    551\u001b[0m \u001b[38;5;28;01melif\u001b[39;00m is_filename:\n\u001b[0;32m    552\u001b[0m     \u001b[38;5;28;01mwith\u001b[39;00m \u001b[38;5;28mopen\u001b[39m(filename, \u001b[38;5;124m'\u001b[39m\u001b[38;5;124mwb\u001b[39m\u001b[38;5;124m'\u001b[39m) \u001b[38;5;28;01mas\u001b[39;00m f:\n\u001b[1;32m--> 553\u001b[0m         NumpyPickler(f, protocol\u001b[38;5;241m=\u001b[39mprotocol)\u001b[38;5;241m.\u001b[39mdump(value)\n\u001b[0;32m    554\u001b[0m \u001b[38;5;28;01melse\u001b[39;00m:\n\u001b[0;32m    555\u001b[0m     NumpyPickler(filename, protocol\u001b[38;5;241m=\u001b[39mprotocol)\u001b[38;5;241m.\u001b[39mdump(value)\n",
      "File \u001b[1;32m~\\anaconda3\\Lib\\pickle.py:487\u001b[0m, in \u001b[0;36m_Pickler.dump\u001b[1;34m(self, obj)\u001b[0m\n\u001b[0;32m    485\u001b[0m \u001b[38;5;28;01mif\u001b[39;00m \u001b[38;5;28mself\u001b[39m\u001b[38;5;241m.\u001b[39mproto \u001b[38;5;241m>\u001b[39m\u001b[38;5;241m=\u001b[39m \u001b[38;5;241m4\u001b[39m:\n\u001b[0;32m    486\u001b[0m     \u001b[38;5;28mself\u001b[39m\u001b[38;5;241m.\u001b[39mframer\u001b[38;5;241m.\u001b[39mstart_framing()\n\u001b[1;32m--> 487\u001b[0m \u001b[38;5;28mself\u001b[39m\u001b[38;5;241m.\u001b[39msave(obj)\n\u001b[0;32m    488\u001b[0m \u001b[38;5;28mself\u001b[39m\u001b[38;5;241m.\u001b[39mwrite(STOP)\n\u001b[0;32m    489\u001b[0m \u001b[38;5;28mself\u001b[39m\u001b[38;5;241m.\u001b[39mframer\u001b[38;5;241m.\u001b[39mend_framing()\n",
      "File \u001b[1;32m~\\anaconda3\\Lib\\site-packages\\joblib\\numpy_pickle.py:355\u001b[0m, in \u001b[0;36mNumpyPickler.save\u001b[1;34m(self, obj)\u001b[0m\n\u001b[0;32m    352\u001b[0m     wrapper\u001b[38;5;241m.\u001b[39mwrite_array(obj, \u001b[38;5;28mself\u001b[39m)\n\u001b[0;32m    353\u001b[0m     \u001b[38;5;28;01mreturn\u001b[39;00m\n\u001b[1;32m--> 355\u001b[0m \u001b[38;5;28;01mreturn\u001b[39;00m Pickler\u001b[38;5;241m.\u001b[39msave(\u001b[38;5;28mself\u001b[39m, obj)\n",
      "File \u001b[1;32m~\\anaconda3\\Lib\\pickle.py:560\u001b[0m, in \u001b[0;36m_Pickler.save\u001b[1;34m(self, obj, save_persistent_id)\u001b[0m\n\u001b[0;32m    558\u001b[0m f \u001b[38;5;241m=\u001b[39m \u001b[38;5;28mself\u001b[39m\u001b[38;5;241m.\u001b[39mdispatch\u001b[38;5;241m.\u001b[39mget(t)\n\u001b[0;32m    559\u001b[0m \u001b[38;5;28;01mif\u001b[39;00m f \u001b[38;5;129;01mis\u001b[39;00m \u001b[38;5;129;01mnot\u001b[39;00m \u001b[38;5;28;01mNone\u001b[39;00m:\n\u001b[1;32m--> 560\u001b[0m     f(\u001b[38;5;28mself\u001b[39m, obj)  \u001b[38;5;66;03m# Call unbound method with explicit self\u001b[39;00m\n\u001b[0;32m    561\u001b[0m     \u001b[38;5;28;01mreturn\u001b[39;00m\n\u001b[0;32m    563\u001b[0m \u001b[38;5;66;03m# Check private dispatch table if any, or else\u001b[39;00m\n\u001b[0;32m    564\u001b[0m \u001b[38;5;66;03m# copyreg.dispatch_table\u001b[39;00m\n",
      "File \u001b[1;32m~\\anaconda3\\Lib\\pickle.py:972\u001b[0m, in \u001b[0;36m_Pickler.save_dict\u001b[1;34m(self, obj)\u001b[0m\n\u001b[0;32m    969\u001b[0m     \u001b[38;5;28mself\u001b[39m\u001b[38;5;241m.\u001b[39mwrite(MARK \u001b[38;5;241m+\u001b[39m DICT)\n\u001b[0;32m    971\u001b[0m \u001b[38;5;28mself\u001b[39m\u001b[38;5;241m.\u001b[39mmemoize(obj)\n\u001b[1;32m--> 972\u001b[0m \u001b[38;5;28mself\u001b[39m\u001b[38;5;241m.\u001b[39m_batch_setitems(obj\u001b[38;5;241m.\u001b[39mitems())\n",
      "File \u001b[1;32m~\\anaconda3\\Lib\\pickle.py:998\u001b[0m, in \u001b[0;36m_Pickler._batch_setitems\u001b[1;34m(self, items)\u001b[0m\n\u001b[0;32m    996\u001b[0m     \u001b[38;5;28;01mfor\u001b[39;00m k, v \u001b[38;5;129;01min\u001b[39;00m tmp:\n\u001b[0;32m    997\u001b[0m         save(k)\n\u001b[1;32m--> 998\u001b[0m         save(v)\n\u001b[0;32m    999\u001b[0m     write(SETITEMS)\n\u001b[0;32m   1000\u001b[0m \u001b[38;5;28;01melif\u001b[39;00m n:\n",
      "File \u001b[1;32m~\\anaconda3\\Lib\\site-packages\\joblib\\numpy_pickle.py:355\u001b[0m, in \u001b[0;36mNumpyPickler.save\u001b[1;34m(self, obj)\u001b[0m\n\u001b[0;32m    352\u001b[0m     wrapper\u001b[38;5;241m.\u001b[39mwrite_array(obj, \u001b[38;5;28mself\u001b[39m)\n\u001b[0;32m    353\u001b[0m     \u001b[38;5;28;01mreturn\u001b[39;00m\n\u001b[1;32m--> 355\u001b[0m \u001b[38;5;28;01mreturn\u001b[39;00m Pickler\u001b[38;5;241m.\u001b[39msave(\u001b[38;5;28mself\u001b[39m, obj)\n",
      "File \u001b[1;32m~\\anaconda3\\Lib\\pickle.py:603\u001b[0m, in \u001b[0;36m_Pickler.save\u001b[1;34m(self, obj, save_persistent_id)\u001b[0m\n\u001b[0;32m    599\u001b[0m     \u001b[38;5;28;01mraise\u001b[39;00m PicklingError(\u001b[38;5;124m\"\u001b[39m\u001b[38;5;124mTuple returned by \u001b[39m\u001b[38;5;132;01m%s\u001b[39;00m\u001b[38;5;124m must have \u001b[39m\u001b[38;5;124m\"\u001b[39m\n\u001b[0;32m    600\u001b[0m                         \u001b[38;5;124m\"\u001b[39m\u001b[38;5;124mtwo to six elements\u001b[39m\u001b[38;5;124m\"\u001b[39m \u001b[38;5;241m%\u001b[39m reduce)\n\u001b[0;32m    602\u001b[0m \u001b[38;5;66;03m# Save the reduce() output and finally memoize the object\u001b[39;00m\n\u001b[1;32m--> 603\u001b[0m \u001b[38;5;28mself\u001b[39m\u001b[38;5;241m.\u001b[39msave_reduce(obj\u001b[38;5;241m=\u001b[39mobj, \u001b[38;5;241m*\u001b[39mrv)\n",
      "File \u001b[1;32m~\\anaconda3\\Lib\\pickle.py:717\u001b[0m, in \u001b[0;36m_Pickler.save_reduce\u001b[1;34m(self, func, args, state, listitems, dictitems, state_setter, obj)\u001b[0m\n\u001b[0;32m    715\u001b[0m \u001b[38;5;28;01mif\u001b[39;00m state \u001b[38;5;129;01mis\u001b[39;00m \u001b[38;5;129;01mnot\u001b[39;00m \u001b[38;5;28;01mNone\u001b[39;00m:\n\u001b[0;32m    716\u001b[0m     \u001b[38;5;28;01mif\u001b[39;00m state_setter \u001b[38;5;129;01mis\u001b[39;00m \u001b[38;5;28;01mNone\u001b[39;00m:\n\u001b[1;32m--> 717\u001b[0m         save(state)\n\u001b[0;32m    718\u001b[0m         write(BUILD)\n\u001b[0;32m    719\u001b[0m     \u001b[38;5;28;01melse\u001b[39;00m:\n\u001b[0;32m    720\u001b[0m         \u001b[38;5;66;03m# If a state_setter is specified, call it instead of load_build\u001b[39;00m\n\u001b[0;32m    721\u001b[0m         \u001b[38;5;66;03m# to update obj's with its previous state.\u001b[39;00m\n\u001b[0;32m    722\u001b[0m         \u001b[38;5;66;03m# First, push state_setter and its tuple of expected arguments\u001b[39;00m\n\u001b[0;32m    723\u001b[0m         \u001b[38;5;66;03m# (obj, state) onto the stack.\u001b[39;00m\n",
      "File \u001b[1;32m~\\anaconda3\\Lib\\site-packages\\joblib\\numpy_pickle.py:355\u001b[0m, in \u001b[0;36mNumpyPickler.save\u001b[1;34m(self, obj)\u001b[0m\n\u001b[0;32m    352\u001b[0m     wrapper\u001b[38;5;241m.\u001b[39mwrite_array(obj, \u001b[38;5;28mself\u001b[39m)\n\u001b[0;32m    353\u001b[0m     \u001b[38;5;28;01mreturn\u001b[39;00m\n\u001b[1;32m--> 355\u001b[0m \u001b[38;5;28;01mreturn\u001b[39;00m Pickler\u001b[38;5;241m.\u001b[39msave(\u001b[38;5;28mself\u001b[39m, obj)\n",
      "File \u001b[1;32m~\\anaconda3\\Lib\\pickle.py:560\u001b[0m, in \u001b[0;36m_Pickler.save\u001b[1;34m(self, obj, save_persistent_id)\u001b[0m\n\u001b[0;32m    558\u001b[0m f \u001b[38;5;241m=\u001b[39m \u001b[38;5;28mself\u001b[39m\u001b[38;5;241m.\u001b[39mdispatch\u001b[38;5;241m.\u001b[39mget(t)\n\u001b[0;32m    559\u001b[0m \u001b[38;5;28;01mif\u001b[39;00m f \u001b[38;5;129;01mis\u001b[39;00m \u001b[38;5;129;01mnot\u001b[39;00m \u001b[38;5;28;01mNone\u001b[39;00m:\n\u001b[1;32m--> 560\u001b[0m     f(\u001b[38;5;28mself\u001b[39m, obj)  \u001b[38;5;66;03m# Call unbound method with explicit self\u001b[39;00m\n\u001b[0;32m    561\u001b[0m     \u001b[38;5;28;01mreturn\u001b[39;00m\n\u001b[0;32m    563\u001b[0m \u001b[38;5;66;03m# Check private dispatch table if any, or else\u001b[39;00m\n\u001b[0;32m    564\u001b[0m \u001b[38;5;66;03m# copyreg.dispatch_table\u001b[39;00m\n",
      "File \u001b[1;32m~\\anaconda3\\Lib\\pickle.py:972\u001b[0m, in \u001b[0;36m_Pickler.save_dict\u001b[1;34m(self, obj)\u001b[0m\n\u001b[0;32m    969\u001b[0m     \u001b[38;5;28mself\u001b[39m\u001b[38;5;241m.\u001b[39mwrite(MARK \u001b[38;5;241m+\u001b[39m DICT)\n\u001b[0;32m    971\u001b[0m \u001b[38;5;28mself\u001b[39m\u001b[38;5;241m.\u001b[39mmemoize(obj)\n\u001b[1;32m--> 972\u001b[0m \u001b[38;5;28mself\u001b[39m\u001b[38;5;241m.\u001b[39m_batch_setitems(obj\u001b[38;5;241m.\u001b[39mitems())\n",
      "File \u001b[1;32m~\\anaconda3\\Lib\\pickle.py:998\u001b[0m, in \u001b[0;36m_Pickler._batch_setitems\u001b[1;34m(self, items)\u001b[0m\n\u001b[0;32m    996\u001b[0m     \u001b[38;5;28;01mfor\u001b[39;00m k, v \u001b[38;5;129;01min\u001b[39;00m tmp:\n\u001b[0;32m    997\u001b[0m         save(k)\n\u001b[1;32m--> 998\u001b[0m         save(v)\n\u001b[0;32m    999\u001b[0m     write(SETITEMS)\n\u001b[0;32m   1000\u001b[0m \u001b[38;5;28;01melif\u001b[39;00m n:\n",
      "File \u001b[1;32m~\\anaconda3\\Lib\\site-packages\\joblib\\numpy_pickle.py:355\u001b[0m, in \u001b[0;36mNumpyPickler.save\u001b[1;34m(self, obj)\u001b[0m\n\u001b[0;32m    352\u001b[0m     wrapper\u001b[38;5;241m.\u001b[39mwrite_array(obj, \u001b[38;5;28mself\u001b[39m)\n\u001b[0;32m    353\u001b[0m     \u001b[38;5;28;01mreturn\u001b[39;00m\n\u001b[1;32m--> 355\u001b[0m \u001b[38;5;28;01mreturn\u001b[39;00m Pickler\u001b[38;5;241m.\u001b[39msave(\u001b[38;5;28mself\u001b[39m, obj)\n",
      "File \u001b[1;32m~\\anaconda3\\Lib\\pickle.py:603\u001b[0m, in \u001b[0;36m_Pickler.save\u001b[1;34m(self, obj, save_persistent_id)\u001b[0m\n\u001b[0;32m    599\u001b[0m     \u001b[38;5;28;01mraise\u001b[39;00m PicklingError(\u001b[38;5;124m\"\u001b[39m\u001b[38;5;124mTuple returned by \u001b[39m\u001b[38;5;132;01m%s\u001b[39;00m\u001b[38;5;124m must have \u001b[39m\u001b[38;5;124m\"\u001b[39m\n\u001b[0;32m    600\u001b[0m                         \u001b[38;5;124m\"\u001b[39m\u001b[38;5;124mtwo to six elements\u001b[39m\u001b[38;5;124m\"\u001b[39m \u001b[38;5;241m%\u001b[39m reduce)\n\u001b[0;32m    602\u001b[0m \u001b[38;5;66;03m# Save the reduce() output and finally memoize the object\u001b[39;00m\n\u001b[1;32m--> 603\u001b[0m \u001b[38;5;28mself\u001b[39m\u001b[38;5;241m.\u001b[39msave_reduce(obj\u001b[38;5;241m=\u001b[39mobj, \u001b[38;5;241m*\u001b[39mrv)\n",
      "File \u001b[1;32m~\\anaconda3\\Lib\\pickle.py:692\u001b[0m, in \u001b[0;36m_Pickler.save_reduce\u001b[1;34m(self, func, args, state, listitems, dictitems, state_setter, obj)\u001b[0m\n\u001b[0;32m    690\u001b[0m \u001b[38;5;28;01melse\u001b[39;00m:\n\u001b[0;32m    691\u001b[0m     save(func)\n\u001b[1;32m--> 692\u001b[0m     save(args)\n\u001b[0;32m    693\u001b[0m     write(REDUCE)\n\u001b[0;32m    695\u001b[0m \u001b[38;5;28;01mif\u001b[39;00m obj \u001b[38;5;129;01mis\u001b[39;00m \u001b[38;5;129;01mnot\u001b[39;00m \u001b[38;5;28;01mNone\u001b[39;00m:\n\u001b[0;32m    696\u001b[0m     \u001b[38;5;66;03m# If the object is already in the memo, this means it is\u001b[39;00m\n\u001b[0;32m    697\u001b[0m     \u001b[38;5;66;03m# recursive. In this case, throw away everything we put on the\u001b[39;00m\n\u001b[0;32m    698\u001b[0m     \u001b[38;5;66;03m# stack, and fetch the object back from the memo.\u001b[39;00m\n",
      "File \u001b[1;32m~\\anaconda3\\Lib\\site-packages\\joblib\\numpy_pickle.py:355\u001b[0m, in \u001b[0;36mNumpyPickler.save\u001b[1;34m(self, obj)\u001b[0m\n\u001b[0;32m    352\u001b[0m     wrapper\u001b[38;5;241m.\u001b[39mwrite_array(obj, \u001b[38;5;28mself\u001b[39m)\n\u001b[0;32m    353\u001b[0m     \u001b[38;5;28;01mreturn\u001b[39;00m\n\u001b[1;32m--> 355\u001b[0m \u001b[38;5;28;01mreturn\u001b[39;00m Pickler\u001b[38;5;241m.\u001b[39msave(\u001b[38;5;28mself\u001b[39m, obj)\n",
      "File \u001b[1;32m~\\anaconda3\\Lib\\pickle.py:560\u001b[0m, in \u001b[0;36m_Pickler.save\u001b[1;34m(self, obj, save_persistent_id)\u001b[0m\n\u001b[0;32m    558\u001b[0m f \u001b[38;5;241m=\u001b[39m \u001b[38;5;28mself\u001b[39m\u001b[38;5;241m.\u001b[39mdispatch\u001b[38;5;241m.\u001b[39mget(t)\n\u001b[0;32m    559\u001b[0m \u001b[38;5;28;01mif\u001b[39;00m f \u001b[38;5;129;01mis\u001b[39;00m \u001b[38;5;129;01mnot\u001b[39;00m \u001b[38;5;28;01mNone\u001b[39;00m:\n\u001b[1;32m--> 560\u001b[0m     f(\u001b[38;5;28mself\u001b[39m, obj)  \u001b[38;5;66;03m# Call unbound method with explicit self\u001b[39;00m\n\u001b[0;32m    561\u001b[0m     \u001b[38;5;28;01mreturn\u001b[39;00m\n\u001b[0;32m    563\u001b[0m \u001b[38;5;66;03m# Check private dispatch table if any, or else\u001b[39;00m\n\u001b[0;32m    564\u001b[0m \u001b[38;5;66;03m# copyreg.dispatch_table\u001b[39;00m\n",
      "File \u001b[1;32m~\\anaconda3\\Lib\\pickle.py:887\u001b[0m, in \u001b[0;36m_Pickler.save_tuple\u001b[1;34m(self, obj)\u001b[0m\n\u001b[0;32m    885\u001b[0m \u001b[38;5;28;01mif\u001b[39;00m n \u001b[38;5;241m<\u001b[39m\u001b[38;5;241m=\u001b[39m \u001b[38;5;241m3\u001b[39m \u001b[38;5;129;01mand\u001b[39;00m \u001b[38;5;28mself\u001b[39m\u001b[38;5;241m.\u001b[39mproto \u001b[38;5;241m>\u001b[39m\u001b[38;5;241m=\u001b[39m \u001b[38;5;241m2\u001b[39m:\n\u001b[0;32m    886\u001b[0m     \u001b[38;5;28;01mfor\u001b[39;00m element \u001b[38;5;129;01min\u001b[39;00m obj:\n\u001b[1;32m--> 887\u001b[0m         save(element)\n\u001b[0;32m    888\u001b[0m     \u001b[38;5;66;03m# Subtle.  Same as in the big comment below.\u001b[39;00m\n\u001b[0;32m    889\u001b[0m     \u001b[38;5;28;01mif\u001b[39;00m \u001b[38;5;28mid\u001b[39m(obj) \u001b[38;5;129;01min\u001b[39;00m memo:\n",
      "File \u001b[1;32m~\\anaconda3\\Lib\\site-packages\\joblib\\numpy_pickle.py:355\u001b[0m, in \u001b[0;36mNumpyPickler.save\u001b[1;34m(self, obj)\u001b[0m\n\u001b[0;32m    352\u001b[0m     wrapper\u001b[38;5;241m.\u001b[39mwrite_array(obj, \u001b[38;5;28mself\u001b[39m)\n\u001b[0;32m    353\u001b[0m     \u001b[38;5;28;01mreturn\u001b[39;00m\n\u001b[1;32m--> 355\u001b[0m \u001b[38;5;28;01mreturn\u001b[39;00m Pickler\u001b[38;5;241m.\u001b[39msave(\u001b[38;5;28mself\u001b[39m, obj)\n",
      "File \u001b[1;32m~\\anaconda3\\Lib\\pickle.py:560\u001b[0m, in \u001b[0;36m_Pickler.save\u001b[1;34m(self, obj, save_persistent_id)\u001b[0m\n\u001b[0;32m    558\u001b[0m f \u001b[38;5;241m=\u001b[39m \u001b[38;5;28mself\u001b[39m\u001b[38;5;241m.\u001b[39mdispatch\u001b[38;5;241m.\u001b[39mget(t)\n\u001b[0;32m    559\u001b[0m \u001b[38;5;28;01mif\u001b[39;00m f \u001b[38;5;129;01mis\u001b[39;00m \u001b[38;5;129;01mnot\u001b[39;00m \u001b[38;5;28;01mNone\u001b[39;00m:\n\u001b[1;32m--> 560\u001b[0m     f(\u001b[38;5;28mself\u001b[39m, obj)  \u001b[38;5;66;03m# Call unbound method with explicit self\u001b[39;00m\n\u001b[0;32m    561\u001b[0m     \u001b[38;5;28;01mreturn\u001b[39;00m\n\u001b[0;32m    563\u001b[0m \u001b[38;5;66;03m# Check private dispatch table if any, or else\u001b[39;00m\n\u001b[0;32m    564\u001b[0m \u001b[38;5;66;03m# copyreg.dispatch_table\u001b[39;00m\n",
      "File \u001b[1;32m~\\anaconda3\\Lib\\pickle.py:902\u001b[0m, in \u001b[0;36m_Pickler.save_tuple\u001b[1;34m(self, obj)\u001b[0m\n\u001b[0;32m    900\u001b[0m write(MARK)\n\u001b[0;32m    901\u001b[0m \u001b[38;5;28;01mfor\u001b[39;00m element \u001b[38;5;129;01min\u001b[39;00m obj:\n\u001b[1;32m--> 902\u001b[0m     save(element)\n\u001b[0;32m    904\u001b[0m \u001b[38;5;28;01mif\u001b[39;00m \u001b[38;5;28mid\u001b[39m(obj) \u001b[38;5;129;01min\u001b[39;00m memo:\n\u001b[0;32m    905\u001b[0m     \u001b[38;5;66;03m# Subtle.  d was not in memo when we entered save_tuple(), so\u001b[39;00m\n\u001b[0;32m    906\u001b[0m     \u001b[38;5;66;03m# the process of saving the tuple's elements must have saved\u001b[39;00m\n\u001b[1;32m   (...)\u001b[0m\n\u001b[0;32m    910\u001b[0m     \u001b[38;5;66;03m# could have been done in the \"for element\" loop instead, but\u001b[39;00m\n\u001b[0;32m    911\u001b[0m     \u001b[38;5;66;03m# recursive tuples are a rare thing.\u001b[39;00m\n\u001b[0;32m    912\u001b[0m     get \u001b[38;5;241m=\u001b[39m \u001b[38;5;28mself\u001b[39m\u001b[38;5;241m.\u001b[39mget(memo[\u001b[38;5;28mid\u001b[39m(obj)][\u001b[38;5;241m0\u001b[39m])\n",
      "File \u001b[1;32m~\\anaconda3\\Lib\\site-packages\\joblib\\numpy_pickle.py:355\u001b[0m, in \u001b[0;36mNumpyPickler.save\u001b[1;34m(self, obj)\u001b[0m\n\u001b[0;32m    352\u001b[0m     wrapper\u001b[38;5;241m.\u001b[39mwrite_array(obj, \u001b[38;5;28mself\u001b[39m)\n\u001b[0;32m    353\u001b[0m     \u001b[38;5;28;01mreturn\u001b[39;00m\n\u001b[1;32m--> 355\u001b[0m \u001b[38;5;28;01mreturn\u001b[39;00m Pickler\u001b[38;5;241m.\u001b[39msave(\u001b[38;5;28mself\u001b[39m, obj)\n",
      "File \u001b[1;32m~\\anaconda3\\Lib\\pickle.py:603\u001b[0m, in \u001b[0;36m_Pickler.save\u001b[1;34m(self, obj, save_persistent_id)\u001b[0m\n\u001b[0;32m    599\u001b[0m     \u001b[38;5;28;01mraise\u001b[39;00m PicklingError(\u001b[38;5;124m\"\u001b[39m\u001b[38;5;124mTuple returned by \u001b[39m\u001b[38;5;132;01m%s\u001b[39;00m\u001b[38;5;124m must have \u001b[39m\u001b[38;5;124m\"\u001b[39m\n\u001b[0;32m    600\u001b[0m                         \u001b[38;5;124m\"\u001b[39m\u001b[38;5;124mtwo to six elements\u001b[39m\u001b[38;5;124m\"\u001b[39m \u001b[38;5;241m%\u001b[39m reduce)\n\u001b[0;32m    602\u001b[0m \u001b[38;5;66;03m# Save the reduce() output and finally memoize the object\u001b[39;00m\n\u001b[1;32m--> 603\u001b[0m \u001b[38;5;28mself\u001b[39m\u001b[38;5;241m.\u001b[39msave_reduce(obj\u001b[38;5;241m=\u001b[39mobj, \u001b[38;5;241m*\u001b[39mrv)\n",
      "File \u001b[1;32m~\\anaconda3\\Lib\\pickle.py:692\u001b[0m, in \u001b[0;36m_Pickler.save_reduce\u001b[1;34m(self, func, args, state, listitems, dictitems, state_setter, obj)\u001b[0m\n\u001b[0;32m    690\u001b[0m \u001b[38;5;28;01melse\u001b[39;00m:\n\u001b[0;32m    691\u001b[0m     save(func)\n\u001b[1;32m--> 692\u001b[0m     save(args)\n\u001b[0;32m    693\u001b[0m     write(REDUCE)\n\u001b[0;32m    695\u001b[0m \u001b[38;5;28;01mif\u001b[39;00m obj \u001b[38;5;129;01mis\u001b[39;00m \u001b[38;5;129;01mnot\u001b[39;00m \u001b[38;5;28;01mNone\u001b[39;00m:\n\u001b[0;32m    696\u001b[0m     \u001b[38;5;66;03m# If the object is already in the memo, this means it is\u001b[39;00m\n\u001b[0;32m    697\u001b[0m     \u001b[38;5;66;03m# recursive. In this case, throw away everything we put on the\u001b[39;00m\n\u001b[0;32m    698\u001b[0m     \u001b[38;5;66;03m# stack, and fetch the object back from the memo.\u001b[39;00m\n",
      "File \u001b[1;32m~\\anaconda3\\Lib\\site-packages\\joblib\\numpy_pickle.py:355\u001b[0m, in \u001b[0;36mNumpyPickler.save\u001b[1;34m(self, obj)\u001b[0m\n\u001b[0;32m    352\u001b[0m     wrapper\u001b[38;5;241m.\u001b[39mwrite_array(obj, \u001b[38;5;28mself\u001b[39m)\n\u001b[0;32m    353\u001b[0m     \u001b[38;5;28;01mreturn\u001b[39;00m\n\u001b[1;32m--> 355\u001b[0m \u001b[38;5;28;01mreturn\u001b[39;00m Pickler\u001b[38;5;241m.\u001b[39msave(\u001b[38;5;28mself\u001b[39m, obj)\n",
      "File \u001b[1;32m~\\anaconda3\\Lib\\pickle.py:560\u001b[0m, in \u001b[0;36m_Pickler.save\u001b[1;34m(self, obj, save_persistent_id)\u001b[0m\n\u001b[0;32m    558\u001b[0m f \u001b[38;5;241m=\u001b[39m \u001b[38;5;28mself\u001b[39m\u001b[38;5;241m.\u001b[39mdispatch\u001b[38;5;241m.\u001b[39mget(t)\n\u001b[0;32m    559\u001b[0m \u001b[38;5;28;01mif\u001b[39;00m f \u001b[38;5;129;01mis\u001b[39;00m \u001b[38;5;129;01mnot\u001b[39;00m \u001b[38;5;28;01mNone\u001b[39;00m:\n\u001b[1;32m--> 560\u001b[0m     f(\u001b[38;5;28mself\u001b[39m, obj)  \u001b[38;5;66;03m# Call unbound method with explicit self\u001b[39;00m\n\u001b[0;32m    561\u001b[0m     \u001b[38;5;28;01mreturn\u001b[39;00m\n\u001b[0;32m    563\u001b[0m \u001b[38;5;66;03m# Check private dispatch table if any, or else\u001b[39;00m\n\u001b[0;32m    564\u001b[0m \u001b[38;5;66;03m# copyreg.dispatch_table\u001b[39;00m\n",
      "File \u001b[1;32m~\\anaconda3\\Lib\\pickle.py:887\u001b[0m, in \u001b[0;36m_Pickler.save_tuple\u001b[1;34m(self, obj)\u001b[0m\n\u001b[0;32m    885\u001b[0m \u001b[38;5;28;01mif\u001b[39;00m n \u001b[38;5;241m<\u001b[39m\u001b[38;5;241m=\u001b[39m \u001b[38;5;241m3\u001b[39m \u001b[38;5;129;01mand\u001b[39;00m \u001b[38;5;28mself\u001b[39m\u001b[38;5;241m.\u001b[39mproto \u001b[38;5;241m>\u001b[39m\u001b[38;5;241m=\u001b[39m \u001b[38;5;241m2\u001b[39m:\n\u001b[0;32m    886\u001b[0m     \u001b[38;5;28;01mfor\u001b[39;00m element \u001b[38;5;129;01min\u001b[39;00m obj:\n\u001b[1;32m--> 887\u001b[0m         save(element)\n\u001b[0;32m    888\u001b[0m     \u001b[38;5;66;03m# Subtle.  Same as in the big comment below.\u001b[39;00m\n\u001b[0;32m    889\u001b[0m     \u001b[38;5;28;01mif\u001b[39;00m \u001b[38;5;28mid\u001b[39m(obj) \u001b[38;5;129;01min\u001b[39;00m memo:\n",
      "File \u001b[1;32m~\\anaconda3\\Lib\\site-packages\\joblib\\numpy_pickle.py:352\u001b[0m, in \u001b[0;36mNumpyPickler.save\u001b[1;34m(self, obj)\u001b[0m\n\u001b[0;32m    349\u001b[0m         \u001b[38;5;28mself\u001b[39m\u001b[38;5;241m.\u001b[39mframer\u001b[38;5;241m.\u001b[39mcommit_frame(force\u001b[38;5;241m=\u001b[39m\u001b[38;5;28;01mTrue\u001b[39;00m)\n\u001b[0;32m    351\u001b[0m     \u001b[38;5;66;03m# And then array bytes are written right after the wrapper.\u001b[39;00m\n\u001b[1;32m--> 352\u001b[0m     wrapper\u001b[38;5;241m.\u001b[39mwrite_array(obj, \u001b[38;5;28mself\u001b[39m)\n\u001b[0;32m    353\u001b[0m     \u001b[38;5;28;01mreturn\u001b[39;00m\n\u001b[0;32m    355\u001b[0m \u001b[38;5;28;01mreturn\u001b[39;00m Pickler\u001b[38;5;241m.\u001b[39msave(\u001b[38;5;28mself\u001b[39m, obj)\n",
      "File \u001b[1;32m~\\anaconda3\\Lib\\site-packages\\joblib\\numpy_pickle.py:134\u001b[0m, in \u001b[0;36mNumpyArrayWrapper.write_array\u001b[1;34m(self, array, pickler)\u001b[0m\n\u001b[0;32m    126\u001b[0m         pickler\u001b[38;5;241m.\u001b[39mfile_handle\u001b[38;5;241m.\u001b[39mwrite(padding)\n\u001b[0;32m    128\u001b[0m \u001b[38;5;28;01mfor\u001b[39;00m chunk \u001b[38;5;129;01min\u001b[39;00m pickler\u001b[38;5;241m.\u001b[39mnp\u001b[38;5;241m.\u001b[39mnditer(array,\n\u001b[0;32m    129\u001b[0m                                flags\u001b[38;5;241m=\u001b[39m[\u001b[38;5;124m'\u001b[39m\u001b[38;5;124mexternal_loop\u001b[39m\u001b[38;5;124m'\u001b[39m,\n\u001b[0;32m    130\u001b[0m                                       \u001b[38;5;124m'\u001b[39m\u001b[38;5;124mbuffered\u001b[39m\u001b[38;5;124m'\u001b[39m,\n\u001b[0;32m    131\u001b[0m                                       \u001b[38;5;124m'\u001b[39m\u001b[38;5;124mzerosize_ok\u001b[39m\u001b[38;5;124m'\u001b[39m],\n\u001b[0;32m    132\u001b[0m                                buffersize\u001b[38;5;241m=\u001b[39mbuffersize,\n\u001b[0;32m    133\u001b[0m                                order\u001b[38;5;241m=\u001b[39m\u001b[38;5;28mself\u001b[39m\u001b[38;5;241m.\u001b[39morder):\n\u001b[1;32m--> 134\u001b[0m     pickler\u001b[38;5;241m.\u001b[39mfile_handle\u001b[38;5;241m.\u001b[39mwrite(chunk\u001b[38;5;241m.\u001b[39mtobytes(\u001b[38;5;124m'\u001b[39m\u001b[38;5;124mC\u001b[39m\u001b[38;5;124m'\u001b[39m))\n",
      "\u001b[1;31mKeyboardInterrupt\u001b[0m: "
     ]
    }
   ],
   "source": [
    "from joblib import dump, load\n",
    "\n",
    "# Example large dataset\n",
    "\n",
    "# Save the dataset to a file\n",
    "file_path = 'large_dataset.joblib'\n",
    "dump(datasets, file_path)\n",
    "\n"
   ]
  },
  {
   "cell_type": "code",
   "execution_count": 70,
   "metadata": {},
   "outputs": [
    {
     "ename": "NameError",
     "evalue": "name 'loaded_dataset' is not defined",
     "output_type": "error",
     "traceback": [
      "\u001b[1;31m---------------------------------------------------------------------------\u001b[0m",
      "\u001b[1;31mNameError\u001b[0m                                 Traceback (most recent call last)",
      "Cell \u001b[1;32mIn[70], line 1\u001b[0m\n\u001b[1;32m----> 1\u001b[0m \u001b[38;5;28;01mdel\u001b[39;00m loaded_dataset\n",
      "\u001b[1;31mNameError\u001b[0m: name 'loaded_dataset' is not defined"
     ]
    }
   ],
   "source": [
    "del loaded_dataset"
   ]
  },
  {
   "cell_type": "code",
   "execution_count": 78,
   "metadata": {},
   "outputs": [],
   "source": [
    "from sklearn import tree\n",
    "from sklearn.model_selection import KFold\n",
    "import json\n",
    "from sklearn.model_selection import GridSearchCV\n",
    "from sklearn.metrics import make_scorer,cohen_kappa_score,matthews_corrcoef,accuracy_score,precision_score,recall_score\n",
    "\n",
    "\n",
    "def my_grid_result_df(clf,hyperparams,data_name,algo_name,X,y):\n",
    "    \n",
    "    scoring = {\"Accuracy\": make_scorer(accuracy_score),\n",
    "               \"F1-Score\":'f1_macro' ,\n",
    "               \"Recall\":  make_scorer(recall_score,average='macro'),\n",
    "              # \"Precision\": make_scorer(precision_score, average='macro'),\n",
    "               \"MCC\":make_scorer(matthews_corrcoef),\n",
    "               \"Kappa\":make_scorer(cohen_kappa_score)\n",
    "              }\n",
    "    cv_inner = KFold(n_splits=5, shuffle=True, random_state=1)\n",
    "    search = GridSearchCV(clf, hyperparams, scoring=scoring, cv=cv_inner, refit=\"Kappa\")\n",
    "    grid_result = search.fit(X, y)\n",
    "\n",
    "    json_dump = json.dumps(grid_result.cv_results_,cls=NumpyEncoder)\n",
    "    # Serializing json\n",
    "\n",
    "    # Writing to sample.json\n",
    "    with open(f\"./result_multi/{algo_name}__{data_name}.json\", \"w\") as outfile:\n",
    "        outfile.write(json_dump)\n",
    "\n",
    "\n",
    "def create_all_result(clf,algo_name,hyperparams,datasets,y):\n",
    "    for k,v in datasets.items():\n",
    "        now = datetime.datetime.now()\n",
    "        print(f'======== process======= dataset : {k} \\t time is {now}')\n",
    "        my_grid_result_df(clf,hyperparams,k,algo_name,v,y)\n",
    "        now = datetime.datetime.now()\n",
    "        print(f'======== Done  ======== dataset : {k} \\t time is {now}')\n",
    "        print('\\n')"
   ]
  },
  {
   "cell_type": "code",
   "execution_count": 81,
   "metadata": {},
   "outputs": [],
   "source": [
    "import json\n",
    "class NumpyEncoder(json.JSONEncoder):\n",
    "    def default(self, obj):\n",
    "        if isinstance(obj, np.ndarray):\n",
    "            return obj.tolist()\n",
    "        return json.JSONEncoder.default(self, obj)\n"
   ]
  },
  {
   "cell_type": "code",
   "execution_count": null,
   "metadata": {},
   "outputs": [
    {
     "name": "stdout",
     "output_type": "stream",
     "text": [
      "======================= RandomForestClassifier =====================\n",
      "======== process======= dataset : X_A_chi2_20 \t time is 2024-05-17 23:04:54.882771\n",
      "======== Done  ======== dataset : X_A_chi2_20 \t time is 2024-05-18 02:14:00.227469\n",
      "\n",
      "\n",
      "======== process======= dataset : X_A_chi2_50 \t time is 2024-05-18 02:14:00.237524\n",
      "======== Done  ======== dataset : X_A_chi2_50 \t time is 2024-05-18 07:55:02.855916\n",
      "\n",
      "\n",
      "======== process======= dataset : X_A_chi2_80 \t time is 2024-05-18 07:55:02.866615\n"
     ]
    }
   ],
   "source": [
    "import datetime\n",
    "from sklearn.ensemble import RandomForestClassifier\n",
    "\n",
    "hyperparams = {'n_estimators':[50, 100, 150,200]}\n",
    "\n",
    "\n",
    "\n",
    "\n",
    "\n",
    "print('======================= RandomForestClassifier =====================')\n",
    "clf = RandomForestClassifier(random_state=0)\n",
    "create_all_result(clf,'RandomForestClassifier',hyperparams,datasets,y_multi)\n",
    "print_skip()\n",
    "\n",
    "\n"
   ]
  },
  {
   "cell_type": "code",
   "execution_count": null,
   "metadata": {},
   "outputs": [],
   "source": []
  }
 ],
 "metadata": {
  "kernelspec": {
   "display_name": "Python 3",
   "language": "python",
   "name": "python3"
  },
  "language_info": {
   "codemirror_mode": {
    "name": "ipython",
    "version": 3
   },
   "file_extension": ".py",
   "mimetype": "text/x-python",
   "name": "python",
   "nbconvert_exporter": "python",
   "pygments_lexer": "ipython3",
   "version": "3.7.4"
  }
 },
 "nbformat": 4,
 "nbformat_minor": 1
}
